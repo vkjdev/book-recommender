{
 "cells": [
  {
   "cell_type": "code",
   "execution_count": 8,
   "metadata": {
    "collapsed": false,
    "scrolled": true
   },
   "outputs": [],
   "source": [
    "import pandas as pd\n",
    "from datetime import datetime\n",
    "from gensim.models.word2vec import Word2Vec\n",
    "from gensim.models.doc2vec import Doc2Vec\n",
    "from gensim.models.doc2vec import TaggedDocument\n",
    "from time import sleep\n",
    "%matplotlib inline"
   ]
  },
  {
   "cell_type": "markdown",
   "metadata": {},
   "source": [
    "### Reading and sorting data"
   ]
  },
  {
   "cell_type": "code",
   "execution_count": 5,
   "metadata": {
    "collapsed": false
   },
   "outputs": [],
   "source": [
    "CSV_PATH='/home/kvassay/data/book-recommender/ratings_Books.csv'\n",
    "raw_data=pd.read_csv(CSV_PATH,header=0,names=['user','item','rating','timestamp'])\n"
   ]
  },
  {
   "cell_type": "code",
   "execution_count": 10,
   "metadata": {
    "collapsed": true
   },
   "outputs": [],
   "source": [
    "raw_data_mini=raw_data.sample(frac=0.03)"
   ]
  },
  {
   "cell_type": "code",
   "execution_count": 66,
   "metadata": {
    "collapsed": false
   },
   "outputs": [],
   "source": [
    "class Doc2VecRecommender():\n",
    "    def __init__(self):\n",
    "        self.model = None\n",
    "        self.user_items_dict = None\n",
    "\n",
    "    @staticmethod\n",
    "    def get_user_items_dict(data, min_ratings, max_ratings):\n",
    "        user_item_dict = dict()\n",
    "        for row in data.itertuples():\n",
    "            if row.user in user_item_dict:\n",
    "                user_item_dict[row.user].append(row.item)\n",
    "            else:\n",
    "                user_item_dict[row.user] = [row.item]\n",
    "        user_item_dict_clean = {key: value for key, value in user_item_dict.iteritems() if\n",
    "                                len(value) >= min_ratings and len(value) < max_ratings}\n",
    "        return user_item_dict_clean\n",
    "\n",
    "    @staticmethod\n",
    "    def get_user_items_list_lengths(user_item_dict):\n",
    "        return pd.DataFrame(sorted([len(item_list) for _, item_list in user_item_dict.iteritems()]))\n",
    "\n",
    "    def fit(self, raw_data):\n",
    "        self.user_items_dict = Doc2VecRecommender.get_user_items_dict(raw_data, min_ratings=3, max_ratings=100)\n",
    "        train_data = [TaggedDocument(words, [user_id]) for user_id, words in self.user_items_dict.iteritems()]\n",
    "        self.model = Doc2Vec(train_data, dm=0, size=30, window=8, min_count=1, workers=4)\n",
    "\n",
    "    def get_recommendations(self, user, item, k):\n",
    "        similar_list = self.model.most_similar(item, topn=k)\n",
    "        asin_list = [item[0] for item in similar_list]\n",
    "        return asin_list\n",
    "\n",
    "    @staticmethod\n",
    "    def cosine_sim_to_rating(sim):\n",
    "        #cosine sim gets values from -1 to 1, 1 meaning exactly the same\n",
    "        if sim<-0.6:\n",
    "            return 1\n",
    "        if sim<-0.2:\n",
    "            return 2\n",
    "        if sim<0.2:\n",
    "            return 3\n",
    "        if sim<0.6:\n",
    "            return 4\n",
    "        return 5\n",
    "    \n",
    "    # expects one entry's user and item\n",
    "    # will return predicted rating which is the only attribute to be used for performance evaluation\n",
    "    def get_rating(self, user, item):\n",
    "        if user in self.user_items_dict:\n",
    "            users_items=[item for item in self.user_items_dict[user] if item in self.model.vocab]\n",
    "            if len(users_items)>0:\n",
    "                if item in self.model.vocab:\n",
    "                    cos_sim = self.model.n_similarity(users_items, [item])\n",
    "                    return Doc2VecRecommender.cosine_sim_to_rating(cos_sim)\n",
    "                else:\n",
    "                    return None\n",
    "            else:\n",
    "                return None\n",
    "        else:\n",
    "            return None\n",
    "\n",
    "    def predict(self, user, item):\n",
    "        return self.get_rating(user,item)"
   ]
  },
  {
   "cell_type": "code",
   "execution_count": 67,
   "metadata": {
    "collapsed": true
   },
   "outputs": [],
   "source": [
    "rec=Doc2VecRecommender()"
   ]
  },
  {
   "cell_type": "code",
   "execution_count": 68,
   "metadata": {
    "collapsed": false
   },
   "outputs": [],
   "source": [
    "rec.fit(raw_data_mini)"
   ]
  },
  {
   "cell_type": "code",
   "execution_count": 69,
   "metadata": {
    "collapsed": true
   },
   "outputs": [],
   "source": [
    "sample_users=[\n",
    " 'A2U8J69ASRX1NQ',\n",
    " 'A32PW3Z8XYOZUM',\n",
    " 'A3GWE80SUGORJD',\n",
    " 'ATBXNEJTSIUQ2',\n",
    " 'A2UTKYA2U8542F',\n",
    " 'A3DCKL0EPIQ9LD',\n",
    " 'A177CDBTES35IY',\n",
    " 'A1S1O3YT8NS68A',\n",
    "]"
   ]
  },
  {
   "cell_type": "code",
   "execution_count": 70,
   "metadata": {
    "collapsed": true
   },
   "outputs": [],
   "source": [
    "sample_books=[\n",
    "    '0679446958',\n",
    " '045141912X',\n",
    " '0800719875',\n",
    " '0099453193',\n",
    " '0140430032',\n",
    " 'B004UWU9IM',\n",
    " '014241977X',\n",
    " '0736915141'    \n",
    "]"
   ]
  },
  {
   "cell_type": "code",
   "execution_count": 71,
   "metadata": {
    "collapsed": false
   },
   "outputs": [],
   "source": [
    "samples=zip(sample_users,sample_books)"
   ]
  },
  {
   "cell_type": "code",
   "execution_count": 72,
   "metadata": {
    "collapsed": false
   },
   "outputs": [
    {
     "data": {
      "text/plain": [
       "[('A2U8J69ASRX1NQ', '0679446958'),\n",
       " ('A32PW3Z8XYOZUM', '045141912X'),\n",
       " ('A3GWE80SUGORJD', '0800719875'),\n",
       " ('ATBXNEJTSIUQ2', '0099453193'),\n",
       " ('A2UTKYA2U8542F', '0140430032'),\n",
       " ('A3DCKL0EPIQ9LD', 'B004UWU9IM'),\n",
       " ('A177CDBTES35IY', '014241977X'),\n",
       " ('A1S1O3YT8NS68A', '0736915141')]"
      ]
     },
     "execution_count": 72,
     "metadata": {},
     "output_type": "execute_result"
    }
   ],
   "source": [
    "samples"
   ]
  },
  {
   "cell_type": "code",
   "execution_count": 73,
   "metadata": {
    "collapsed": false
   },
   "outputs": [
    {
     "name": "stdout",
     "output_type": "stream",
     "text": [
      "4\n",
      "4\n",
      "3\n",
      "5\n",
      "3\n",
      "4\n",
      "4\n",
      "5\n"
     ]
    }
   ],
   "source": [
    "for item in samples:\n",
    "    print(rec.predict(item[0], item[1]))"
   ]
  },
  {
   "cell_type": "code",
   "execution_count": null,
   "metadata": {
    "collapsed": true
   },
   "outputs": [],
   "source": []
  }
 ],
 "metadata": {
  "kernelspec": {
   "display_name": "Python 2",
   "language": "python",
   "name": "python2"
  },
  "language_info": {
   "codemirror_mode": {
    "name": "ipython",
    "version": 2
   },
   "file_extension": ".py",
   "mimetype": "text/x-python",
   "name": "python",
   "nbconvert_exporter": "python",
   "pygments_lexer": "ipython2",
   "version": "2.7.12"
  }
 },
 "nbformat": 4,
 "nbformat_minor": 0
}

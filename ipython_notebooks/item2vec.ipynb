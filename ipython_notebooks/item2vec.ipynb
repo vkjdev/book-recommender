{
 "cells": [
  {
   "cell_type": "code",
   "execution_count": 1,
   "metadata": {
    "collapsed": false
   },
   "outputs": [],
   "source": [
    "import pandas as pd\n",
    "from datetime import datetime\n",
    "from gensim.models.word2vec import Word2Vec\n",
    "from gensim.models.doc2vec import Doc2Vec\n",
    "from gensim.models.doc2vec import TaggedDocument\n",
    "import time\n",
    "import numpy as np\n",
    "from collections import Counter\n",
    "from matplotlib import pyplot as plt\n",
    "import cPickle\n",
    "CSV_PATH='/home/kvassay/data/book-recommender/ratings_Books.csv'\n",
    "QUESTIONS_PATH='/home/kvassay/data/book-recommender/questions.txt'\n",
    "MODELS_FOLDER='/home/kvassay/data/book-recommender/models/'\n",
    "BEST_CFG_PATH='/home/kvassay/data/book-recommender/best_cfg.dump'\n",
    "%matplotlib inline"
   ]
  },
  {
   "cell_type": "code",
   "execution_count": 2,
   "metadata": {
    "collapsed": false
   },
   "outputs": [
    {
     "name": "stderr",
     "output_type": "stream",
     "text": [
      "2016-12-14 11:40:16,698 - root - INFO - Logger works.\n"
     ]
    }
   ],
   "source": [
    "import logging\n",
    "logger = logging.getLogger()\n",
    "logger.setLevel('INFO')\n",
    "ch = logging.StreamHandler()\n",
    "ch.setLevel(logging.DEBUG)\n",
    "formatter = logging.Formatter('%(asctime)s - %(name)s - %(levelname)s - %(message)s')\n",
    "ch.setFormatter(formatter)\n",
    "# add the handlers to the logger\n",
    "logger.addHandler(ch)\n",
    "logger.info('Logger works.') #to prevent duplicate logs"
   ]
  },
  {
   "cell_type": "markdown",
   "metadata": {},
   "source": [
    "### Reading and sorting data"
   ]
  },
  {
   "cell_type": "code",
   "execution_count": 3,
   "metadata": {
    "collapsed": false
   },
   "outputs": [],
   "source": [
    "raw_data=pd.read_csv(CSV_PATH,header=0,names=['user','item','rating','timestamp'])"
   ]
  },
  {
   "cell_type": "markdown",
   "metadata": {},
   "source": [
    "### Dumping data < 2013."
   ]
  },
  {
   "cell_type": "code",
   "execution_count": 4,
   "metadata": {
    "collapsed": false
   },
   "outputs": [],
   "source": [
    "raw_data=raw_data[raw_data['timestamp']>1356998400]"
   ]
  },
  {
   "cell_type": "markdown",
   "metadata": {},
   "source": [
    "### Extract user-item impressions dict"
   ]
  },
  {
   "cell_type": "code",
   "execution_count": 5,
   "metadata": {
    "collapsed": false
   },
   "outputs": [],
   "source": [
    "def split(raw_data, quantile=0.7):\n",
    "    q=raw_data['timestamp'].quantile(quantile)\n",
    "    return raw_data[raw_data['timestamp']<=q], raw_data[raw_data['timestamp']>q]\n",
    "\n",
    "def get_user_items_dict(data, min_ratings, max_ratings):\n",
    "    user_item_dict=dict()\n",
    "    for row in data.itertuples():\n",
    "        if row.user in user_item_dict:\n",
    "            user_item_dict[row.user].append(row.item)\n",
    "        else:\n",
    "            user_item_dict[row.user]=[row.item]\n",
    "    user_item_dict_clean={key: value for key,value in user_item_dict.iteritems() if len(value)>=min_ratings and len(value)<max_ratings}\n",
    "    return user_item_dict_clean\n",
    "\n",
    "def get_user_items_list_lengths(user_item_dict):\n",
    "    return pd.DataFrame(sorted([len(item_list) for _,item_list in user_item_dict.iteritems()]))\n",
    "    \n",
    "\n",
    "def remove_users_not_in_train(train_dict, other_dict):\n",
    "    #intersection=set(other_dict.keys()) & set(train_dict.keys())\n",
    "    #n_intersection=len(intersection)\n",
    "    #new_dict={key: other_dict[key] for key in intersection}\n",
    "    #len_before=len(other_dict)\n",
    "    #n_removed = len_before - len(new_dict)\n",
    "    #logger.info('Removed %s users which weren\\'t in the training set. Intersection cardinality: %s...', n_removed, n_intersection)\n",
    "    keys=other_dict.keys()\n",
    "    for key in keys:\n",
    "        if not key in train_dict:\n",
    "            del other_dict[key]\n",
    "    return other_dict"
   ]
  },
  {
   "cell_type": "markdown",
   "metadata": {},
   "source": [
    "### Train-test split"
   ]
  },
  {
   "cell_type": "code",
   "execution_count": 6,
   "metadata": {
    "collapsed": false
   },
   "outputs": [],
   "source": [
    "raw_train, raw_test = split(raw_data)\n",
    "raw_train, raw_dev = split(raw_train)"
   ]
  },
  {
   "cell_type": "code",
   "execution_count": 7,
   "metadata": {
    "collapsed": false
   },
   "outputs": [],
   "source": [
    "user_item_train = get_user_items_dict(raw_train, min_ratings=10, max_ratings=100)\n",
    "user_item_dev = get_user_items_dict(raw_dev, min_ratings=1, max_ratings=100)\n",
    "user_item_test = get_user_items_dict(raw_test, min_ratings=1, max_ratings=100)\n",
    "\n",
    "user_item_dev=remove_users_not_in_train(user_item_train, user_item_dev)\n",
    "user_item_test= remove_users_not_in_train(user_item_train, user_item_test)"
   ]
  },
  {
   "cell_type": "markdown",
   "metadata": {},
   "source": [
    "### Training dataset Analysis"
   ]
  },
  {
   "cell_type": "markdown",
   "metadata": {},
   "source": [
    "#### User count"
   ]
  },
  {
   "cell_type": "code",
   "execution_count": 8,
   "metadata": {
    "collapsed": false
   },
   "outputs": [
    {
     "data": {
      "text/plain": [
       "62105"
      ]
     },
     "execution_count": 8,
     "metadata": {},
     "output_type": "execute_result"
    }
   ],
   "source": [
    "len(user_item_train.keys())"
   ]
  },
  {
   "cell_type": "markdown",
   "metadata": {},
   "source": [
    "#### Item count distribution per user"
   ]
  },
  {
   "cell_type": "code",
   "execution_count": 9,
   "metadata": {
    "collapsed": false,
    "scrolled": true
   },
   "outputs": [],
   "source": [
    "item_counts_train=get_user_items_list_lengths(user_item_train)\n",
    "item_counts_dev=get_user_items_list_lengths(user_item_dev)\n",
    "item_counts_test=get_user_items_list_lengths(user_item_test)"
   ]
  },
  {
   "cell_type": "code",
   "execution_count": 10,
   "metadata": {
    "collapsed": false,
    "scrolled": true
   },
   "outputs": [
    {
     "data": {
      "text/html": [
       "<div>\n",
       "<table border=\"1\" class=\"dataframe\">\n",
       "  <thead>\n",
       "    <tr style=\"text-align: right;\">\n",
       "      <th></th>\n",
       "      <th>0</th>\n",
       "    </tr>\n",
       "  </thead>\n",
       "  <tbody>\n",
       "    <tr>\n",
       "      <th>count</th>\n",
       "      <td>62105.000000</td>\n",
       "    </tr>\n",
       "    <tr>\n",
       "      <th>mean</th>\n",
       "      <td>20.078190</td>\n",
       "    </tr>\n",
       "    <tr>\n",
       "      <th>std</th>\n",
       "      <td>14.454616</td>\n",
       "    </tr>\n",
       "    <tr>\n",
       "      <th>min</th>\n",
       "      <td>10.000000</td>\n",
       "    </tr>\n",
       "    <tr>\n",
       "      <th>25%</th>\n",
       "      <td>11.000000</td>\n",
       "    </tr>\n",
       "    <tr>\n",
       "      <th>50%</th>\n",
       "      <td>15.000000</td>\n",
       "    </tr>\n",
       "    <tr>\n",
       "      <th>75%</th>\n",
       "      <td>22.000000</td>\n",
       "    </tr>\n",
       "    <tr>\n",
       "      <th>max</th>\n",
       "      <td>99.000000</td>\n",
       "    </tr>\n",
       "  </tbody>\n",
       "</table>\n",
       "</div>"
      ],
      "text/plain": [
       "                  0\n",
       "count  62105.000000\n",
       "mean      20.078190\n",
       "std       14.454616\n",
       "min       10.000000\n",
       "25%       11.000000\n",
       "50%       15.000000\n",
       "75%       22.000000\n",
       "max       99.000000"
      ]
     },
     "execution_count": 10,
     "metadata": {},
     "output_type": "execute_result"
    }
   ],
   "source": [
    "item_counts_train.describe()"
   ]
  },
  {
   "cell_type": "code",
   "execution_count": 11,
   "metadata": {
    "collapsed": false
   },
   "outputs": [
    {
     "data": {
      "text/html": [
       "<div>\n",
       "<table border=\"1\" class=\"dataframe\">\n",
       "  <thead>\n",
       "    <tr style=\"text-align: right;\">\n",
       "      <th></th>\n",
       "      <th>0</th>\n",
       "    </tr>\n",
       "  </thead>\n",
       "  <tbody>\n",
       "    <tr>\n",
       "      <th>count</th>\n",
       "      <td>43248.000000</td>\n",
       "    </tr>\n",
       "    <tr>\n",
       "      <th>mean</th>\n",
       "      <td>7.958356</td>\n",
       "    </tr>\n",
       "    <tr>\n",
       "      <th>std</th>\n",
       "      <td>9.931169</td>\n",
       "    </tr>\n",
       "    <tr>\n",
       "      <th>min</th>\n",
       "      <td>1.000000</td>\n",
       "    </tr>\n",
       "    <tr>\n",
       "      <th>25%</th>\n",
       "      <td>2.000000</td>\n",
       "    </tr>\n",
       "    <tr>\n",
       "      <th>50%</th>\n",
       "      <td>5.000000</td>\n",
       "    </tr>\n",
       "    <tr>\n",
       "      <th>75%</th>\n",
       "      <td>10.000000</td>\n",
       "    </tr>\n",
       "    <tr>\n",
       "      <th>max</th>\n",
       "      <td>99.000000</td>\n",
       "    </tr>\n",
       "  </tbody>\n",
       "</table>\n",
       "</div>"
      ],
      "text/plain": [
       "                  0\n",
       "count  43248.000000\n",
       "mean       7.958356\n",
       "std        9.931169\n",
       "min        1.000000\n",
       "25%        2.000000\n",
       "50%        5.000000\n",
       "75%       10.000000\n",
       "max       99.000000"
      ]
     },
     "execution_count": 11,
     "metadata": {},
     "output_type": "execute_result"
    }
   ],
   "source": [
    "item_counts_dev.describe()"
   ]
  },
  {
   "cell_type": "code",
   "execution_count": 12,
   "metadata": {
    "collapsed": false
   },
   "outputs": [
    {
     "data": {
      "text/html": [
       "<div>\n",
       "<table border=\"1\" class=\"dataframe\">\n",
       "  <thead>\n",
       "    <tr style=\"text-align: right;\">\n",
       "      <th></th>\n",
       "      <th>0</th>\n",
       "    </tr>\n",
       "  </thead>\n",
       "  <tbody>\n",
       "    <tr>\n",
       "      <th>count</th>\n",
       "      <td>42702.000000</td>\n",
       "    </tr>\n",
       "    <tr>\n",
       "      <th>mean</th>\n",
       "      <td>9.157112</td>\n",
       "    </tr>\n",
       "    <tr>\n",
       "      <th>std</th>\n",
       "      <td>11.883411</td>\n",
       "    </tr>\n",
       "    <tr>\n",
       "      <th>min</th>\n",
       "      <td>1.000000</td>\n",
       "    </tr>\n",
       "    <tr>\n",
       "      <th>25%</th>\n",
       "      <td>2.000000</td>\n",
       "    </tr>\n",
       "    <tr>\n",
       "      <th>50%</th>\n",
       "      <td>5.000000</td>\n",
       "    </tr>\n",
       "    <tr>\n",
       "      <th>75%</th>\n",
       "      <td>11.000000</td>\n",
       "    </tr>\n",
       "    <tr>\n",
       "      <th>max</th>\n",
       "      <td>99.000000</td>\n",
       "    </tr>\n",
       "  </tbody>\n",
       "</table>\n",
       "</div>"
      ],
      "text/plain": [
       "                  0\n",
       "count  42702.000000\n",
       "mean       9.157112\n",
       "std       11.883411\n",
       "min        1.000000\n",
       "25%        2.000000\n",
       "50%        5.000000\n",
       "75%       11.000000\n",
       "max       99.000000"
      ]
     },
     "execution_count": 12,
     "metadata": {},
     "output_type": "execute_result"
    }
   ],
   "source": [
    "item_counts_test.describe()"
   ]
  },
  {
   "cell_type": "code",
   "execution_count": 13,
   "metadata": {
    "collapsed": false,
    "scrolled": true
   },
   "outputs": [
    {
     "data": {
      "text/plain": [
       "array([[<matplotlib.axes._subplots.AxesSubplot object at 0x7f3bd6bf8050>]], dtype=object)"
      ]
     },
     "execution_count": 13,
     "metadata": {},
     "output_type": "execute_result"
    },
    {
     "data": {
      "image/png": "[encoded data removed]",
      "text/plain": [
       "<matplotlib.figure.Figure at 0x7f3c7e336950>"
      ]
     },
     "metadata": {},
     "output_type": "display_data"
    },
    {
     "data": {
      "image/png": "[encoded data removed]",
      "text/plain": [
       "<matplotlib.figure.Figure at 0x7f3c1537fd50>"
      ]
     },
     "metadata": {},
     "output_type": "display_data"
    },
    {
     "data": {
      "image/png": "[encoded data removed]",
      "text/plain": [
       "<matplotlib.figure.Figure at 0x7f3bfa763f50>"
      ]
     },
     "metadata": {},
     "output_type": "display_data"
    }
   ],
   "source": [
    "nbins=100\n",
    "item_counts_train.hist(bins=nbins)\n",
    "item_counts_dev.hist(bins=nbins)\n",
    "item_counts_test.hist(bins=nbins)"
   ]
  },
  {
   "cell_type": "markdown",
   "metadata": {},
   "source": [
    "### Limiting dataset sizes\n",
    "\n",
    "Especially evaluations take a lot of time, limiting dataset sizes might be useful."
   ]
  },
  {
   "cell_type": "code",
   "execution_count": 14,
   "metadata": {
    "collapsed": true
   },
   "outputs": [],
   "source": [
    "#for testing:\n",
    "TRAIN_SIZE=100000\n",
    "DEV_SIZE=1000\n",
    "TEST_SIZE=1000\n",
    "'''\n",
    "In addition to limiting the dataset sizes we need to make sure, \n",
    "that all users from DEV and TEST set are present in TRAIN set.\n",
    "To do that we simply add them to TRAIN set after limiting.\n",
    "'''\n",
    "user_item_train_tmp={key: user_item_train[key] for key in user_item_train.keys()[:TRAIN_SIZE]}\n",
    "user_item_dev={key: user_item_dev[key] for key in user_item_dev.keys()[:DEV_SIZE]}\n",
    "user_item_test={key: user_item_test[key] for key in user_item_test.keys()[:TEST_SIZE]}\n",
    "for usr in user_item_dev:\n",
    "    if usr not in user_item_train_tmp:\n",
    "        user_item_train_tmp[usr]=user_item_train[usr]\n",
    "for usr in user_item_test:\n",
    "    if usr not in user_item_train_tmp:\n",
    "        user_item_train_tmp[usr]=user_item_train[usr]\n",
    "user_item_train=user_item_train_tmp"
   ]
  },
  {
   "cell_type": "code",
   "execution_count": 15,
   "metadata": {
    "collapsed": false
   },
   "outputs": [
    {
     "name": "stdout",
     "output_type": "stream",
     "text": [
      "[62105, 1000, 1000]\n"
     ]
    }
   ],
   "source": [
    "print([len(user_item_train), len(user_item_dev), len(user_item_test)])"
   ]
  },
  {
   "cell_type": "markdown",
   "metadata": {},
   "source": [
    "### Training data preparation\n",
    "For Gensim"
   ]
  },
  {
   "cell_type": "code",
   "execution_count": 16,
   "metadata": {
    "collapsed": false
   },
   "outputs": [],
   "source": [
    "train_data=[TaggedDocument([unicode(word) for word in words], [user_id]) for user_id, words in user_item_train.iteritems()]\n",
    "dev_data=[TaggedDocument([unicode(word) for word in words], [user_id]) for user_id, words in user_item_dev.iteritems()]\n"
   ]
  },
  {
   "cell_type": "markdown",
   "metadata": {},
   "source": [
    "### Baseline model and evaluation function\n",
    "Evaluation methods and Baseline model for comparison."
   ]
  },
  {
   "cell_type": "code",
   "execution_count": 39,
   "metadata": {
    "collapsed": false
   },
   "outputs": [],
   "source": [
    "class BaselineModel():\n",
    "    '''\n",
    "    Always returns k most frequent items.\n",
    "    '''\n",
    "    def __init__(self,train_set,topn=100):\n",
    "        logger.info('Couting %s most frequent items for BaselineModel...',topn)\n",
    "        items=list()\n",
    "        for key in train_set:\n",
    "            items.extend(train_set[key])\n",
    "        counter=Counter(items)\n",
    "        self.result=counter.most_common(topn)\n",
    "        logger.info('BaselineModel initialized...')\n",
    "        \n",
    "    def most_similar(self, positive=None, topn=None):\n",
    "        #parameters are there just for compatibility with Gensim model evaluator\n",
    "        return self.result\n",
    "        \n",
    "        \n",
    "def percentage(part, whole):\n",
    "    return 100 * float(part)/float(whole)\n",
    "\n",
    "def evaluate_score(model, train_set, test_set, exclude_from_test=None, topn=10, limit_users=None):\n",
    "    '''\n",
    "    Asks model for k recommendations based on users data in the past (train_set)\n",
    "    and looks if at least one of them appeared in the future (test_set). In the end\n",
    "    evaluator returns in how many % cases it did.\n",
    "    '''\n",
    "    rec_count=0\n",
    "    confirmed_match=0\n",
    "    if limit_users is not None:\n",
    "        users=test_set.keys()[:limit_users]\n",
    "        np.random.shuffle(users)\n",
    "    else:\n",
    "        users=test_set.keys()\n",
    "    for user in users:\n",
    "        train_items=train_set[user]\n",
    "        test_data=test_set[user]\n",
    "        recommended=[tupl[0] for tupl in model.most_similar(positive=train_items, topn=topn*10) if tupl[0] not in train_items]\n",
    "        if exclude_from_test is not None and user in exclude_from_test:\n",
    "            recommended=[item for item in recommended if item not in exclude_from_test[user]]\n",
    "        recommended=recommended[:topn]\n",
    "        for item in recommended:\n",
    "            if item in test_data:\n",
    "                confirmed_match+=1\n",
    "        rec_count+=topn\n",
    "    return percentage(confirmed_match,rec_count)\n",
    "    \n",
    "    "
   ]
  },
  {
   "cell_type": "markdown",
   "metadata": {},
   "source": [
    "\n",
    "### Doc2Vec models training"
   ]
  },
  {
   "cell_type": "code",
   "execution_count": 28,
   "metadata": {
    "collapsed": false
   },
   "outputs": [],
   "source": [
    "def get_random_cfg(cfgs):\n",
    "    cfg=dict()\n",
    "    for key in cfgs:\n",
    "        num_options=len(cfgs[key])\n",
    "        cfg[key]=np.random.choice(cfgs[key],1)[0]\n",
    "    return cfg\n",
    "\n",
    "\n",
    "def grid_search(cfgs, time_s=120):\n",
    "    logger.info('Performing grid search for %s seconds...',time_s)\n",
    "    start=time.time()\n",
    "    best_cfg=None\n",
    "    best_score=0\n",
    "    while time.time()-start<time_s:\n",
    "        cfg=get_random_cfg(cfgs)\n",
    "        model=train(1, cfg, persist=False, decrease_alpha=False)\n",
    "        score=evaluate_score(model, user_item_train, user_item_dev)\n",
    "        logger.info('Computed score %s...',score)\n",
    "        if score>best_score:\n",
    "            best_score=score\n",
    "            best_cfg=cfg\n",
    "            with open(BEST_CFG_PATH, 'w') as f:\n",
    "                cPickle.dump(best_cfg, f)\n",
    "    logger.info('Grid search finished...')\n",
    "    logger.info('Best cfg: %s', best_cfg)\n",
    "    return best_cfg\n",
    "    \n",
    "def train(num_epochs, cfg, persist=False, decrease_alpha=False):\n",
    "    '''\n",
    "    Initializing model\n",
    "    '''\n",
    "    logger.info('Initializing model...')\n",
    "    model = Doc2Vec(alpha=cfg['alpha'], min_alpha=cfg['alpha'], min_count=cfg['min_count'], size=cfg['size'],\n",
    "                    window=cfg['window'], negative=cfg['negative'])  # use fixed learning rate\n",
    "    logger.info('Building vocabulary...')\n",
    "    logger.setLevel(logging.ERROR)\n",
    "    start=time.time()\n",
    "    model.build_vocab(train_data)\n",
    "    dur=time.time()-start\n",
    "    logger.setLevel(logging.INFO)\n",
    "    logger.info('Building vocabulary took %s seconds...', dur)\n",
    "    '''\n",
    "    Learning model for multiple epochs, after each model is persisted to HDD.\n",
    "    '''\n",
    "    for epoch in range(1,num_epochs+1,1):\n",
    "        start=time.time()\n",
    "        logger.info('Shuffling training data')\n",
    "        '''\n",
    "        Data are shuffled before each iteration to ensure ordering \n",
    "        won't corrupt gradient computation and not cause overfitting on some local minima\n",
    "        '''\n",
    "        np.random.shuffle(train_data)\n",
    "        dur=time.time()-start\n",
    "        logger.info('Shuffling training set took %s seconds...', dur)\n",
    "        start=time.time()\n",
    "        model_save_path=MODELS_FOLDER+'doc2vec_model_ep'+str(epoch)\n",
    "        logger.info('Training epoch no. %s...',epoch)\n",
    "        logger.setLevel(logging.ERROR)\n",
    "        '''\n",
    "        Training\n",
    "        '''\n",
    "        model.train(train_data)\n",
    "        if persist:\n",
    "            '''\n",
    "            Persisting\n",
    "            '''\n",
    "            model.save(model_save_path)\n",
    "        if decrease_alpha:\n",
    "            model.alpha -= 0.0005  # decrease the learning rate\n",
    "        model.min_alpha = model.alpha  # fix the learning rate, no decay\n",
    "        logger.setLevel(logging.INFO)\n",
    "        dur=time.time()-start\n",
    "        logger.info('Training model took %s seconds...', dur)\n",
    "    return model"
   ]
  },
  {
   "cell_type": "code",
   "execution_count": 24,
   "metadata": {
    "collapsed": false,
    "scrolled": true
   },
   "outputs": [
    {
     "name": "stderr",
     "output_type": "stream",
     "text": [
      "2016-12-14 11:58:00,693 - root - INFO - Performing grid search for 3600 seconds...\n",
      "2016-12-14 11:58:00,695 - root - INFO - Initializing model...\n",
      "2016-12-14 11:58:00,696 - root - INFO - Building vocabulary...\n",
      "2016-12-14 11:58:25,071 - root - INFO - Building vocabulary took 24.3733258247 seconds...\n",
      "2016-12-14 11:58:25,072 - root - INFO - Shuffling training data\n",
      "2016-12-14 11:58:25,081 - root - INFO - Shuffling training set took 0.00955200195312 seconds...\n",
      "2016-12-14 11:58:25,082 - root - INFO - Training epoch no. 1...\n",
      "2016-12-14 11:59:54,045 - root - INFO - Training model took 88.9625139236 seconds...\n",
      "2016-12-14 11:59:54,045 - gensim.models.word2vec - INFO - precomputing L2-norms of word weight vectors\n",
      "2016-12-14 12:01:09,586 - root - INFO - Computed score 3.5...\n",
      "2016-12-14 12:01:09,609 - root - INFO - Initializing model...\n",
      "2016-12-14 12:01:09,611 - root - INFO - Building vocabulary...\n",
      "2016-12-14 12:01:32,502 - root - INFO - Building vocabulary took 22.8890879154 seconds...\n",
      "2016-12-14 12:01:32,502 - root - INFO - Shuffling training data\n",
      "2016-12-14 12:01:32,508 - root - INFO - Shuffling training set took 0.00548601150513 seconds...\n",
      "2016-12-14 12:01:32,509 - root - INFO - Training epoch no. 1...\n",
      "2016-12-14 12:02:43,295 - root - INFO - Training model took 70.7862198353 seconds...\n",
      "2016-12-14 12:02:43,897 - gensim.models.word2vec - INFO - precomputing L2-norms of word weight vectors\n",
      "2016-12-14 12:03:31,134 - root - INFO - Computed score 3.7...\n",
      "2016-12-14 12:03:31,136 - root - INFO - Initializing model...\n",
      "2016-12-14 12:03:31,146 - root - INFO - Building vocabulary...\n",
      "2016-12-14 12:03:52,280 - root - INFO - Building vocabulary took 21.1327819824 seconds...\n",
      "2016-12-14 12:03:52,280 - root - INFO - Shuffling training data\n",
      "2016-12-14 12:03:52,286 - root - INFO - Shuffling training set took 0.00541281700134 seconds...\n",
      "2016-12-14 12:03:52,287 - root - INFO - Training epoch no. 1...\n",
      "2016-12-14 12:04:53,163 - root - INFO - Training model took 60.8761620522 seconds...\n",
      "2016-12-14 12:04:53,669 - gensim.models.word2vec - INFO - precomputing L2-norms of word weight vectors\n",
      "2016-12-14 12:05:39,776 - root - INFO - Computed score 0.1...\n",
      "2016-12-14 12:05:39,793 - root - INFO - Initializing model...\n",
      "2016-12-14 12:05:39,794 - root - INFO - Building vocabulary...\n",
      "2016-12-14 12:06:01,222 - root - INFO - Building vocabulary took 21.4267230034 seconds...\n",
      "2016-12-14 12:06:01,223 - root - INFO - Shuffling training data\n",
      "2016-12-14 12:06:01,228 - root - INFO - Shuffling training set took 0.00540399551392 seconds...\n",
      "2016-12-14 12:06:01,229 - root - INFO - Training epoch no. 1...\n",
      "2016-12-14 12:06:42,395 - root - INFO - Training model took 41.1658201218 seconds...\n",
      "2016-12-14 12:06:42,922 - gensim.models.word2vec - INFO - precomputing L2-norms of word weight vectors\n",
      "2016-12-14 12:07:05,400 - root - INFO - Computed score 0.1...\n",
      "2016-12-14 12:07:05,402 - root - INFO - Initializing model...\n",
      "2016-12-14 12:07:05,404 - root - INFO - Building vocabulary...\n",
      "2016-12-14 12:07:25,286 - root - INFO - Building vocabulary took 19.8805429935 seconds...\n",
      "2016-12-14 12:07:25,287 - root - INFO - Shuffling training data\n",
      "2016-12-14 12:07:25,296 - root - INFO - Shuffling training set took 0.00966119766235 seconds...\n",
      "2016-12-14 12:07:25,298 - root - INFO - Training epoch no. 1...\n",
      "2016-12-14 12:08:03,421 - root - INFO - Training model took 38.1232089996 seconds...\n",
      "2016-12-14 12:08:03,876 - gensim.models.word2vec - INFO - precomputing L2-norms of word weight vectors\n",
      "2016-12-14 12:08:26,716 - root - INFO - Computed score 2.7...\n",
      "2016-12-14 12:08:26,717 - root - INFO - Initializing model...\n",
      "2016-12-14 12:08:26,732 - root - INFO - Building vocabulary...\n",
      "2016-12-14 12:08:49,406 - root - INFO - Building vocabulary took 22.6723499298 seconds...\n",
      "2016-12-14 12:08:49,407 - root - INFO - Shuffling training data\n",
      "2016-12-14 12:08:49,412 - root - INFO - Shuffling training set took 0.00516414642334 seconds...\n",
      "2016-12-14 12:08:49,413 - root - INFO - Training epoch no. 1...\n",
      "2016-12-14 12:09:43,098 - root - INFO - Training model took 53.6854159832 seconds...\n",
      "2016-12-14 12:09:43,558 - gensim.models.word2vec - INFO - precomputing L2-norms of word weight vectors\n",
      "2016-12-14 12:10:29,714 - root - INFO - Computed score 0.3...\n",
      "2016-12-14 12:10:29,715 - root - INFO - Initializing model...\n",
      "2016-12-14 12:10:29,716 - root - INFO - Building vocabulary...\n",
      "2016-12-14 12:10:50,519 - root - INFO - Building vocabulary took 20.7995238304 seconds...\n",
      "2016-12-14 12:10:50,520 - root - INFO - Shuffling training data\n",
      "2016-12-14 12:10:50,529 - root - INFO - Shuffling training set took 0.00953793525696 seconds...\n",
      "2016-12-14 12:10:50,531 - root - INFO - Training epoch no. 1...\n",
      "2016-12-14 12:11:41,291 - root - INFO - Training model took 50.7608981133 seconds...\n",
      "2016-12-14 12:11:41,731 - gensim.models.word2vec - INFO - precomputing L2-norms of word weight vectors\n",
      "2016-12-14 12:12:27,468 - root - INFO - Computed score 0.0...\n",
      "2016-12-14 12:12:27,470 - root - INFO - Initializing model...\n",
      "2016-12-14 12:12:27,471 - root - INFO - Building vocabulary...\n",
      "2016-12-14 12:12:50,234 - root - INFO - Building vocabulary took 22.7609221935 seconds...\n",
      "2016-12-14 12:12:50,235 - root - INFO - Shuffling training data\n",
      "2016-12-14 12:12:50,240 - root - INFO - Shuffling training set took 0.00525498390198 seconds...\n",
      "2016-12-14 12:12:50,241 - root - INFO - Training epoch no. 1...\n",
      "2016-12-14 12:13:42,466 - root - INFO - Training model took 52.224684 seconds...\n",
      "2016-12-14 12:13:42,921 - gensim.models.word2vec - INFO - precomputing L2-norms of word weight vectors\n",
      "2016-12-14 12:14:26,580 - root - INFO - Computed score 0.3...\n",
      "2016-12-14 12:14:26,599 - root - INFO - Initializing model...\n",
      "2016-12-14 12:14:26,601 - root - INFO - Building vocabulary...\n",
      "2016-12-14 12:14:47,406 - root - INFO - Building vocabulary took 20.8036248684 seconds...\n",
      "2016-12-14 12:14:47,406 - root - INFO - Shuffling training data\n",
      "2016-12-14 12:14:47,411 - root - INFO - Shuffling training set took 0.00524401664734 seconds...\n",
      "2016-12-14 12:14:47,412 - root - INFO - Training epoch no. 1...\n",
      "2016-12-14 12:15:36,453 - root - INFO - Training model took 49.0405991077 seconds...\n",
      "2016-12-14 12:15:36,934 - gensim.models.word2vec - INFO - precomputing L2-norms of word weight vectors\n",
      "2016-12-14 12:16:01,784 - root - INFO - Computed score 0.2...\n",
      "2016-12-14 12:16:01,802 - root - INFO - Initializing model...\n",
      "2016-12-14 12:16:01,804 - root - INFO - Building vocabulary...\n",
      "2016-12-14 12:16:21,617 - root - INFO - Building vocabulary took 19.8120450974 seconds...\n",
      "2016-12-14 12:16:21,618 - root - INFO - Shuffling training data\n",
      "2016-12-14 12:16:21,623 - root - INFO - Shuffling training set took 0.00555396080017 seconds...\n",
      "2016-12-14 12:16:21,624 - root - INFO - Training epoch no. 1...\n",
      "2016-12-14 12:16:51,890 - root - INFO - Training model took 30.2658588886 seconds...\n",
      "2016-12-14 12:16:52,353 - gensim.models.word2vec - INFO - precomputing L2-norms of word weight vectors\n",
      "2016-12-14 12:17:15,509 - root - INFO - Computed score 0.2...\n",
      "2016-12-14 12:17:15,526 - root - INFO - Initializing model...\n",
      "2016-12-14 12:17:15,528 - root - INFO - Building vocabulary...\n",
      "2016-12-14 12:17:37,106 - root - INFO - Building vocabulary took 21.5693130493 seconds...\n",
      "2016-12-14 12:17:37,107 - root - INFO - Shuffling training data\n",
      "2016-12-14 12:17:37,112 - root - INFO - Shuffling training set took 0.00540709495544 seconds...\n",
      "2016-12-14 12:17:37,113 - root - INFO - Training epoch no. 1...\n",
      "2016-12-14 12:18:33,663 - root - INFO - Training model took 56.5497059822 seconds...\n",
      "2016-12-14 12:18:34,098 - gensim.models.word2vec - INFO - precomputing L2-norms of word weight vectors\n",
      "2016-12-14 12:19:20,481 - root - INFO - Computed score 2.8...\n",
      "2016-12-14 12:19:20,482 - root - INFO - Initializing model...\n",
      "2016-12-14 12:19:20,484 - root - INFO - Building vocabulary...\n",
      "2016-12-14 12:19:44,853 - root - INFO - Building vocabulary took 24.3680400848 seconds...\n",
      "2016-12-14 12:19:44,854 - root - INFO - Shuffling training data\n",
      "2016-12-14 12:19:44,860 - root - INFO - Shuffling training set took 0.00588202476501 seconds...\n",
      "2016-12-14 12:19:44,860 - root - INFO - Training epoch no. 1...\n",
      "2016-12-14 12:21:25,175 - root - INFO - Training model took 100.314810038 seconds...\n",
      "2016-12-14 12:21:25,622 - gensim.models.word2vec - INFO - precomputing L2-norms of word weight vectors\n",
      "2016-12-14 12:22:38,033 - root - INFO - Computed score 0.7...\n",
      "2016-12-14 12:22:38,035 - root - INFO - Initializing model...\n",
      "2016-12-14 12:22:38,037 - root - INFO - Building vocabulary...\n",
      "2016-12-14 12:23:01,842 - root - INFO - Building vocabulary took 23.8037748337 seconds...\n",
      "2016-12-14 12:23:01,843 - root - INFO - Shuffling training data\n",
      "2016-12-14 12:23:01,849 - root - INFO - Shuffling training set took 0.00546598434448 seconds...\n",
      "2016-12-14 12:23:01,850 - root - INFO - Training epoch no. 1...\n",
      "2016-12-14 12:24:33,641 - root - INFO - Training model took 91.7916269302 seconds...\n",
      "2016-12-14 12:24:34,144 - gensim.models.word2vec - INFO - precomputing L2-norms of word weight vectors\n",
      "2016-12-14 12:25:52,396 - root - INFO - Computed score 3.2...\n",
      "2016-12-14 12:25:52,578 - root - INFO - Initializing model...\n",
      "2016-12-14 12:25:52,581 - root - INFO - Building vocabulary...\n",
      "2016-12-14 12:26:15,391 - root - INFO - Building vocabulary took 22.8088870049 seconds...\n",
      "2016-12-14 12:26:15,392 - root - INFO - Shuffling training data\n",
      "2016-12-14 12:26:15,399 - root - INFO - Shuffling training set took 0.00739979743958 seconds...\n",
      "2016-12-14 12:26:15,400 - root - INFO - Training epoch no. 1...\n",
      "2016-12-14 12:27:35,283 - root - INFO - Training model took 79.8824269772 seconds...\n",
      "2016-12-14 12:27:35,836 - gensim.models.word2vec - INFO - precomputing L2-norms of word weight vectors\n",
      "2016-12-14 12:28:50,311 - root - INFO - Computed score 0.2...\n",
      "2016-12-14 12:28:50,312 - root - INFO - Initializing model...\n",
      "2016-12-14 12:28:50,327 - root - INFO - Building vocabulary...\n",
      "2016-12-14 12:29:13,711 - root - INFO - Building vocabulary took 23.3828201294 seconds...\n",
      "2016-12-14 12:29:13,712 - root - INFO - Shuffling training data\n",
      "2016-12-14 12:29:13,718 - root - INFO - Shuffling training set took 0.00585985183716 seconds...\n",
      "2016-12-14 12:29:13,718 - root - INFO - Training epoch no. 1...\n",
      "2016-12-14 12:30:38,389 - root - INFO - Training model took 84.6707959175 seconds...\n",
      "2016-12-14 12:30:38,838 - gensim.models.word2vec - INFO - precomputing L2-norms of word weight vectors\n",
      "2016-12-14 12:31:55,514 - root - INFO - Computed score 2.2...\n",
      "2016-12-14 12:31:55,515 - root - INFO - Initializing model...\n",
      "2016-12-14 12:31:55,516 - root - INFO - Building vocabulary...\n",
      "2016-12-14 12:32:17,185 - root - INFO - Building vocabulary took 21.6683530807 seconds...\n",
      "2016-12-14 12:32:17,185 - root - INFO - Shuffling training data\n",
      "2016-12-14 12:32:17,191 - root - INFO - Shuffling training set took 0.00544714927673 seconds...\n",
      "2016-12-14 12:32:17,192 - root - INFO - Training epoch no. 1...\n",
      "2016-12-14 12:33:05,057 - root - INFO - Training model took 47.8652951717 seconds...\n",
      "2016-12-14 12:33:05,581 - gensim.models.word2vec - INFO - precomputing L2-norms of word weight vectors\n",
      "2016-12-14 12:33:28,900 - root - INFO - Computed score 0.2...\n",
      "2016-12-14 12:33:28,918 - root - INFO - Initializing model...\n",
      "2016-12-14 12:33:28,920 - root - INFO - Building vocabulary...\n",
      "2016-12-14 12:33:49,780 - root - INFO - Building vocabulary took 20.8589010239 seconds...\n",
      "2016-12-14 12:33:49,780 - root - INFO - Shuffling training data\n",
      "2016-12-14 12:33:49,786 - root - INFO - Shuffling training set took 0.00533199310303 seconds...\n",
      "2016-12-14 12:33:49,787 - root - INFO - Training epoch no. 1...\n",
      "2016-12-14 12:34:27,613 - root - INFO - Training model took 37.8262979984 seconds...\n",
      "2016-12-14 12:34:28,045 - gensim.models.word2vec - INFO - precomputing L2-norms of word weight vectors\n",
      "2016-12-14 12:34:50,984 - root - INFO - Computed score 0.1...\n",
      "2016-12-14 12:34:50,985 - root - INFO - Initializing model...\n",
      "2016-12-14 12:34:50,986 - root - INFO - Building vocabulary...\n",
      "2016-12-14 12:35:13,076 - root - INFO - Building vocabulary took 22.0890159607 seconds...\n",
      "2016-12-14 12:35:13,077 - root - INFO - Shuffling training data\n",
      "2016-12-14 12:35:13,086 - root - INFO - Shuffling training set took 0.00970792770386 seconds...\n",
      "2016-12-14 12:35:13,087 - root - INFO - Training epoch no. 1...\n",
      "2016-12-14 12:36:06,170 - root - INFO - Training model took 53.0825049877 seconds...\n",
      "2016-12-14 12:36:06,626 - gensim.models.word2vec - INFO - precomputing L2-norms of word weight vectors\n",
      "2016-12-14 12:36:53,719 - root - INFO - Computed score 0.8...\n",
      "2016-12-14 12:36:53,730 - root - INFO - Initializing model...\n",
      "2016-12-14 12:36:53,746 - root - INFO - Building vocabulary...\n",
      "2016-12-14 12:37:16,353 - root - INFO - Building vocabulary took 22.600246191 seconds...\n",
      "2016-12-14 12:37:16,354 - root - INFO - Shuffling training data\n",
      "2016-12-14 12:37:16,363 - root - INFO - Shuffling training set took 0.0095419883728 seconds...\n",
      "2016-12-14 12:37:16,364 - root - INFO - Training epoch no. 1...\n",
      "2016-12-14 12:38:52,524 - root - INFO - Training model took 96.160148859 seconds...\n",
      "2016-12-14 12:38:52,971 - gensim.models.word2vec - INFO - precomputing L2-norms of word weight vectors\n",
      "2016-12-14 12:40:32,300 - root - INFO - Computed score 0.7...\n",
      "2016-12-14 12:40:32,315 - root - INFO - Initializing model...\n",
      "2016-12-14 12:40:32,330 - root - INFO - Building vocabulary...\n",
      "2016-12-14 12:40:54,950 - root - INFO - Building vocabulary took 22.6198029518 seconds...\n",
      "2016-12-14 12:40:54,951 - root - INFO - Shuffling training data\n",
      "2016-12-14 12:40:54,961 - root - INFO - Shuffling training set took 0.00942897796631 seconds...\n",
      "2016-12-14 12:40:54,961 - root - INFO - Training epoch no. 1...\n",
      "2016-12-14 12:42:02,859 - root - INFO - Training model took 67.8978009224 seconds...\n",
      "2016-12-14 12:42:03,365 - gensim.models.word2vec - INFO - precomputing L2-norms of word weight vectors\n",
      "2016-12-14 12:43:08,351 - root - INFO - Computed score 0.7...\n",
      "2016-12-14 12:43:08,353 - root - INFO - Initializing model...\n",
      "2016-12-14 12:43:08,355 - root - INFO - Building vocabulary...\n",
      "2016-12-14 12:43:31,866 - root - INFO - Building vocabulary took 23.509431839 seconds...\n",
      "2016-12-14 12:43:31,867 - root - INFO - Shuffling training data\n",
      "2016-12-14 12:43:31,872 - root - INFO - Shuffling training set took 0.00574398040771 seconds...\n",
      "2016-12-14 12:43:31,873 - root - INFO - Training epoch no. 1...\n",
      "2016-12-14 12:44:14,681 - root - INFO - Training model took 42.8072829247 seconds...\n",
      "2016-12-14 12:44:15,177 - gensim.models.word2vec - INFO - precomputing L2-norms of word weight vectors\n",
      "2016-12-14 12:44:45,865 - root - INFO - Computed score 0.2...\n",
      "2016-12-14 12:44:45,867 - root - INFO - Initializing model...\n",
      "2016-12-14 12:44:45,869 - root - INFO - Building vocabulary...\n",
      "2016-12-14 12:45:11,119 - root - INFO - Building vocabulary took 25.2483689785 seconds...\n",
      "2016-12-14 12:45:11,119 - root - INFO - Shuffling training data\n",
      "2016-12-14 12:45:11,125 - root - INFO - Shuffling training set took 0.00550603866577 seconds...\n",
      "2016-12-14 12:45:11,126 - root - INFO - Training epoch no. 1...\n",
      "2016-12-14 12:46:32,015 - root - INFO - Training model took 80.8893508911 seconds...\n",
      "2016-12-14 12:46:32,466 - gensim.models.word2vec - INFO - precomputing L2-norms of word weight vectors\n",
      "2016-12-14 12:48:04,686 - root - INFO - Computed score 0.3...\n",
      "2016-12-14 12:48:04,689 - root - INFO - Initializing model...\n",
      "2016-12-14 12:48:04,691 - root - INFO - Building vocabulary...\n",
      "2016-12-14 12:48:30,435 - root - INFO - Building vocabulary took 25.7423939705 seconds...\n",
      "2016-12-14 12:48:30,436 - root - INFO - Shuffling training data\n",
      "2016-12-14 12:48:30,441 - root - INFO - Shuffling training set took 0.00544619560242 seconds...\n",
      "2016-12-14 12:48:30,442 - root - INFO - Training epoch no. 1...\n",
      "2016-12-14 12:49:59,382 - root - INFO - Training model took 88.9402520657 seconds...\n",
      "2016-12-14 12:49:59,870 - gensim.models.word2vec - INFO - precomputing L2-norms of word weight vectors\n",
      "2016-12-14 12:51:31,981 - root - INFO - Computed score 0.2...\n",
      "2016-12-14 12:51:31,982 - root - INFO - Initializing model...\n",
      "2016-12-14 12:51:31,994 - root - INFO - Building vocabulary...\n",
      "2016-12-14 12:51:52,443 - root - INFO - Building vocabulary took 20.433729887 seconds...\n",
      "2016-12-14 12:51:52,444 - root - INFO - Shuffling training data\n",
      "2016-12-14 12:51:52,451 - root - INFO - Shuffling training set took 0.00633215904236 seconds...\n",
      "2016-12-14 12:51:52,452 - root - INFO - Training epoch no. 1...\n",
      "2016-12-14 12:52:25,782 - root - INFO - Training model took 33.3300991058 seconds...\n",
      "2016-12-14 12:52:26,359 - gensim.models.word2vec - INFO - precomputing L2-norms of word weight vectors\n",
      "2016-12-14 12:52:48,580 - root - INFO - Computed score 0.1...\n",
      "2016-12-14 12:52:48,581 - root - INFO - Initializing model...\n",
      "2016-12-14 12:52:48,587 - root - INFO - Building vocabulary...\n",
      "2016-12-14 12:53:11,804 - root - INFO - Building vocabulary took 23.2163200378 seconds...\n",
      "2016-12-14 12:53:11,805 - root - INFO - Shuffling training data\n",
      "2016-12-14 12:53:11,811 - root - INFO - Shuffling training set took 0.00550198554993 seconds...\n",
      "2016-12-14 12:53:11,812 - root - INFO - Training epoch no. 1...\n",
      "2016-12-14 12:54:13,707 - root - INFO - Training model took 61.8951809406 seconds...\n",
      "2016-12-14 12:54:14,179 - gensim.models.word2vec - INFO - precomputing L2-norms of word weight vectors\n",
      "2016-12-14 12:55:17,336 - root - INFO - Computed score 2.7...\n",
      "2016-12-14 12:55:17,337 - root - INFO - Initializing model...\n",
      "2016-12-14 12:55:17,339 - root - INFO - Building vocabulary...\n",
      "2016-12-14 12:55:41,777 - root - INFO - Building vocabulary took 24.4379320145 seconds...\n",
      "2016-12-14 12:55:41,778 - root - INFO - Shuffling training data\n",
      "2016-12-14 12:55:41,783 - root - INFO - Shuffling training set took 0.00516891479492 seconds...\n",
      "2016-12-14 12:55:41,784 - root - INFO - Training epoch no. 1...\n",
      "2016-12-14 12:57:05,233 - root - INFO - Training model took 83.4492709637 seconds...\n",
      "2016-12-14 12:57:05,703 - gensim.models.word2vec - INFO - precomputing L2-norms of word weight vectors\n",
      "2016-12-14 12:58:22,603 - root - INFO - Computed score 2.3...\n",
      "2016-12-14 12:58:22,610 - root - INFO - Grid search finished...\n",
      "2016-12-14 12:58:22,611 - root - INFO - Best cfg: {'alpha': 0.02, 'window': 8, 'size': 300, 'negative': 5, 'min_count': 1}\n",
      "2016-12-14 12:58:23,113 - root - INFO - Initializing model...\n",
      "2016-12-14 12:58:23,114 - root - INFO - Building vocabulary...\n",
      "2016-12-14 12:58:46,415 - root - INFO - Building vocabulary took 23.2997009754 seconds...\n",
      "2016-12-14 12:58:46,416 - root - INFO - Shuffling training data\n",
      "2016-12-14 12:58:46,422 - root - INFO - Shuffling training set took 0.00596284866333 seconds...\n",
      "2016-12-14 12:58:46,423 - root - INFO - Training epoch no. 1...\n",
      "2016-12-14 13:00:09,899 - root - INFO - Training model took 83.4761939049 seconds...\n",
      "2016-12-14 13:00:09,901 - root - INFO - Shuffling training data\n",
      "2016-12-14 13:00:09,916 - root - INFO - Shuffling training set took 0.0141279697418 seconds...\n",
      "2016-12-14 13:00:09,917 - root - INFO - Training epoch no. 2...\n",
      "2016-12-14 13:01:35,029 - root - INFO - Training model took 85.1116509438 seconds...\n",
      "2016-12-14 13:01:35,030 - root - INFO - Shuffling training data\n",
      "2016-12-14 13:01:35,036 - root - INFO - Shuffling training set took 0.00594902038574 seconds...\n",
      "2016-12-14 13:01:35,037 - root - INFO - Training epoch no. 3...\n",
      "2016-12-14 13:02:55,662 - root - INFO - Training model took 80.6253869534 seconds...\n",
      "2016-12-14 13:02:55,663 - root - INFO - Shuffling training data\n",
      "2016-12-14 13:02:55,669 - root - INFO - Shuffling training set took 0.00595307350159 seconds...\n",
      "2016-12-14 13:02:55,670 - root - INFO - Training epoch no. 4...\n",
      "2016-12-14 13:04:17,640 - root - INFO - Training model took 81.9702188969 seconds...\n",
      "2016-12-14 13:04:17,641 - root - INFO - Shuffling training data\n",
      "2016-12-14 13:04:17,647 - root - INFO - Shuffling training set took 0.00659894943237 seconds...\n",
      "2016-12-14 13:04:17,648 - root - INFO - Training epoch no. 5...\n",
      "2016-12-14 13:05:40,729 - root - INFO - Training model took 83.0808589458 seconds...\n",
      "2016-12-14 13:05:40,837 - root - INFO - Shuffling training data\n",
      "2016-12-14 13:05:40,843 - root - INFO - Shuffling training set took 0.00559902191162 seconds...\n",
      "2016-12-14 13:05:40,843 - root - INFO - Training epoch no. 6...\n",
      "2016-12-14 13:07:00,820 - root - INFO - Training model took 79.9763507843 seconds...\n",
      "2016-12-14 13:07:00,821 - root - INFO - Shuffling training data\n",
      "2016-12-14 13:07:00,831 - root - INFO - Shuffling training set took 0.0106329917908 seconds...\n",
      "2016-12-14 13:07:00,833 - root - INFO - Training epoch no. 7...\n",
      "2016-12-14 13:08:22,674 - root - INFO - Training model took 81.8411819935 seconds...\n",
      "2016-12-14 13:08:22,675 - root - INFO - Shuffling training data\n",
      "2016-12-14 13:08:22,681 - root - INFO - Shuffling training set took 0.00580191612244 seconds...\n",
      "2016-12-14 13:08:22,682 - root - INFO - Training epoch no. 8...\n",
      "2016-12-14 13:09:39,839 - root - INFO - Training model took 77.1571359634 seconds...\n",
      "2016-12-14 13:09:39,840 - root - INFO - Shuffling training data\n",
      "2016-12-14 13:09:39,846 - root - INFO - Shuffling training set took 0.00615191459656 seconds...\n",
      "2016-12-14 13:09:39,847 - root - INFO - Training epoch no. 9...\n",
      "2016-12-14 13:10:56,987 - root - INFO - Training model took 77.139688015 seconds...\n",
      "2016-12-14 13:10:56,987 - root - INFO - Shuffling training data\n",
      "2016-12-14 13:10:56,992 - root - INFO - Shuffling training set took 0.00518012046814 seconds...\n",
      "2016-12-14 13:10:56,993 - root - INFO - Training epoch no. 10...\n",
      "2016-12-14 13:12:14,011 - root - INFO - Training model took 77.017482996 seconds...\n"
     ]
    },
    {
     "data": {
      "text/plain": [
       "<gensim.models.doc2vec.Doc2Vec at 0x7f3c0905f9d0>"
      ]
     },
     "execution_count": 24,
     "metadata": {},
     "output_type": "execute_result"
    }
   ],
   "source": [
    "logger.setLevel(logging.INFO)\n",
    "cfgs={'negative':[2,5], 'alpha':[0.02,0.18, 0.25], 'size':[250,300,350], 'window':[7,8,9], 'min_count':[1]}\n",
    "cfg=grid_search(cfgs,time_s=3600)\n",
    "train(8, cfg, persist=True, decrease_alpha=False)"
   ]
  },
  {
   "cell_type": "markdown",
   "metadata": {},
   "source": [
    "### Doc2Vec model evaluation"
   ]
  },
  {
   "cell_type": "code",
   "execution_count": 40,
   "metadata": {
    "collapsed": false,
    "scrolled": false
   },
   "outputs": [
    {
     "name": "stderr",
     "output_type": "stream",
     "text": [
      "2016-12-14 13:50:48,548 - root - INFO - Couting 100 most frequent items for BaselineModel...\n",
      "2016-12-14 13:50:49,331 - root - INFO - BaselineModel initialized...\n",
      "2016-12-14 13:50:49,353 - root - INFO - Computing scores...\n",
      "2016-12-14 13:50:49,483 - root - INFO - Baseline score: 0.15%...\n",
      "2016-12-14 13:50:49,483 - root - INFO - Baseline score test: 0.12%...\n",
      "2016-12-14 13:50:49,485 - root - INFO - Loading model no. 1...\n",
      "2016-12-14 13:50:55,294 - root - INFO - Model loading took 5.8085231781 seconds...\n",
      "2016-12-14 13:50:55,296 - root - INFO - Computing score for epoch 1...\n",
      "2016-12-14 13:51:45,235 - root - INFO - Computing score took 49.9386529922 seconds...\n",
      "2016-12-14 13:51:45,250 - root - INFO - Score on dev set for epoch 1 = 0.39 %...\n",
      "2016-12-14 13:51:45,251 - root - INFO - Score on test set for epoch 1 = 0.21 %...\n",
      "2016-12-14 13:51:45,253 - root - INFO - Loading model no. 2...\n",
      "2016-12-14 13:51:52,900 - root - INFO - Model loading took 7.64710402489 seconds...\n",
      "2016-12-14 13:51:52,901 - root - INFO - Computing score for epoch 2...\n",
      "2016-12-14 13:52:40,773 - root - INFO - Computing score took 47.8703701496 seconds...\n",
      "2016-12-14 13:52:40,774 - root - INFO - Score on dev set for epoch 2 = 0.53 %...\n",
      "2016-12-14 13:52:40,775 - root - INFO - Score on test set for epoch 2 = 0.28 %...\n",
      "2016-12-14 13:52:40,784 - root - INFO - Loading model no. 3...\n",
      "2016-12-14 13:52:48,657 - root - INFO - Model loading took 7.87245583534 seconds...\n",
      "2016-12-14 13:52:48,658 - root - INFO - Computing score for epoch 3...\n",
      "2016-12-14 13:53:43,864 - root - INFO - Computing score took 55.2043740749 seconds...\n",
      "2016-12-14 13:53:43,866 - root - INFO - Score on dev set for epoch 3 = 0.56 %...\n",
      "2016-12-14 13:53:43,871 - root - INFO - Score on test set for epoch 3 = 0.23 %...\n",
      "2016-12-14 13:53:43,872 - root - INFO - Loading model no. 4...\n",
      "2016-12-14 13:53:51,866 - root - INFO - Model loading took 7.99339985847 seconds...\n",
      "2016-12-14 13:53:51,868 - root - INFO - Computing score for epoch 4...\n",
      "2016-12-14 13:54:44,442 - root - INFO - Computing score took 52.5720720291 seconds...\n",
      "2016-12-14 13:54:44,443 - root - INFO - Score on dev set for epoch 4 = 0.57 %...\n",
      "2016-12-14 13:54:44,443 - root - INFO - Score on test set for epoch 4 = 0.21 %...\n",
      "2016-12-14 13:54:44,444 - root - INFO - Loading model no. 5...\n",
      "2016-12-14 13:54:52,467 - root - INFO - Model loading took 8.02267313004 seconds...\n",
      "2016-12-14 13:54:52,469 - root - INFO - Computing score for epoch 5...\n",
      "2016-12-14 13:55:41,753 - root - INFO - Computing score took 49.2834639549 seconds...\n",
      "2016-12-14 13:55:41,754 - root - INFO - Score on dev set for epoch 5 = 0.52 %...\n",
      "2016-12-14 13:55:41,755 - root - INFO - Score on test set for epoch 5 = 0.16 %...\n",
      "2016-12-14 13:55:41,774 - root - INFO - Loading model no. 6...\n",
      "2016-12-14 13:55:50,491 - root - INFO - Model loading took 8.71785211563 seconds...\n",
      "2016-12-14 13:55:50,493 - root - INFO - Computing score for epoch 6...\n",
      "2016-12-14 13:56:42,349 - root - INFO - Computing score took 51.8543560505 seconds...\n",
      "2016-12-14 13:56:42,350 - root - INFO - Score on dev set for epoch 6 = 0.52 %...\n",
      "2016-12-14 13:56:42,350 - root - INFO - Score on test set for epoch 6 = 0.13 %...\n",
      "2016-12-14 13:56:42,366 - root - INFO - Loading model no. 7...\n",
      "2016-12-14 13:56:50,331 - root - INFO - Model loading took 7.96554088593 seconds...\n",
      "2016-12-14 13:56:50,333 - root - INFO - Computing score for epoch 7...\n",
      "2016-12-14 13:57:38,113 - root - INFO - Computing score took 47.7794060707 seconds...\n",
      "2016-12-14 13:57:38,114 - root - INFO - Score on dev set for epoch 7 = 0.47 %...\n",
      "2016-12-14 13:57:38,115 - root - INFO - Score on test set for epoch 7 = 0.13 %...\n",
      "2016-12-14 13:57:38,124 - root - INFO - Loading model no. 8...\n",
      "2016-12-14 13:57:46,114 - root - INFO - Model loading took 7.99001002312 seconds...\n",
      "2016-12-14 13:57:46,117 - root - INFO - Computing score for epoch 8...\n",
      "2016-12-14 13:58:38,078 - root - INFO - Computing score took 51.9600851536 seconds...\n",
      "2016-12-14 13:58:38,079 - root - INFO - Score on dev set for epoch 8 = 0.43 %...\n",
      "2016-12-14 13:58:38,080 - root - INFO - Score on test set for epoch 8 = 0.14 %...\n",
      "2016-12-14 13:58:38,081 - root - INFO - Loading model no. 9...\n",
      "2016-12-14 13:58:46,265 - root - INFO - Model loading took 8.1836950779 seconds...\n",
      "2016-12-14 13:58:46,266 - root - INFO - Computing score for epoch 9...\n",
      "2016-12-14 13:59:40,607 - root - INFO - Computing score took 54.3395831585 seconds...\n",
      "2016-12-14 13:59:40,608 - root - INFO - Score on dev set for epoch 9 = 0.4 %...\n",
      "2016-12-14 13:59:40,609 - root - INFO - Score on test set for epoch 9 = 0.11 %...\n",
      "2016-12-14 13:59:40,630 - root - INFO - Result scores: [0.39, 0.53, 0.56, 0.57, 0.52, 0.52, 0.47, 0.43, 0.4]\n"
     ]
    }
   ],
   "source": [
    "logger.setLevel(logging.INFO)\n",
    "baseline_model=BaselineModel(user_item_train)\n",
    "model_paths=[MODELS_FOLDER+'doc2vec_model_ep'+str(r) for r in range(1,8,1)]\n",
    "logger.info('Computing scores...')\n",
    "scores=list()\n",
    "scores_test=list()\n",
    "scores_baseline=[evaluate_score(baseline_model, user_item_train, user_item_dev)]*len(model_paths)\n",
    "scores_baseline_test=[evaluate_score(baseline_model, user_item_train, user_item_test, exclude_from_test=user_item_dev)]*len(model_paths)\n",
    "logger.info('Baseline score: %s%%...',scores_baseline[0])\n",
    "logger.info('Baseline score test: %s%%...',scores_baseline_test[0])\n",
    "for i in xrange(len(model_paths)):\n",
    "    start=time.time()\n",
    "    logger.info('Loading model no. %s...',i+1)\n",
    "    logger.setLevel(logging.ERROR)\n",
    "    model=Doc2Vec.load(model_paths[i])\n",
    "    dur=time.time()-start\n",
    "    logger.setLevel(logging.INFO)\n",
    "    logger.info('Model loading took %s seconds...', dur)\n",
    "\n",
    "    logger.info('Computing score for epoch %s...',i+1)\n",
    "    logger.setLevel(logging.ERROR)\n",
    "    start=time.time()\n",
    "    score=evaluate_score(model, user_item_train, user_item_dev)\n",
    "    score_test=evaluate_score(model, user_item_train, user_item_test, exclude_from_test=user_item_dev)\n",
    "    dur=time.time()-start\n",
    "    logger.setLevel(logging.INFO)\n",
    "    logger.info('Computing score took %s seconds...', dur)\n",
    "    logger.info('Score on dev set for epoch %s = %s %%...',i+1,score)\n",
    "    logger.info('Score on test set for epoch %s = %s %%...',i+1,score_test)\n",
    "    scores.append(score)\n",
    "    scores_test.append(score_test)\n",
    "logger.info('Result scores: %s', scores)\n",
    "    "
   ]
  },
  {
   "cell_type": "code",
   "execution_count": 43,
   "metadata": {
    "collapsed": false
   },
   "outputs": [
    {
     "data": {
      "text/plain": [
       "<matplotlib.text.Text at 0x7f3b946b4350>"
      ]
     },
     "execution_count": 43,
     "metadata": {},
     "output_type": "execute_result"
    },
    {
     "data": {
      "image/png": "[encoded data removed]",
      "text/plain": [
       "<matplotlib.figure.Figure at 0x7f3b946bf790>"
      ]
     },
     "metadata": {},
     "output_type": "display_data"
    }
   ],
   "source": [
    "df=pd.DataFrame.from_dict({'item2vec_score_train': scores,\n",
    "                           'item2vec_score_test' : scores_test,\n",
    "                           'baseline_scores_train':scores_baseline,\n",
    "                           'baseline_scores_test':scores_baseline_test})\n",
    "df.plot(figsize=(10,6))\n",
    "plt.title('Item2Vec model vs Baseline recommender')\n",
    "plt.xlabel('epoch no.')\n",
    "plt.ylabel('% correct recommendations')"
   ]
  },
  {
   "cell_type": "code",
   "execution_count": 42,
   "metadata": {
    "collapsed": false
   },
   "outputs": [
    {
     "data": {
      "text/plain": [
       "<matplotlib.text.Text at 0x7f3b6cd70cd0>"
      ]
     },
     "execution_count": 42,
     "metadata": {},
     "output_type": "execute_result"
    },
    {
     "data": {
      "image/png": "[encoded data removed]",
      "text/plain": [
       "<matplotlib.figure.Figure at 0x7f3b8c6fbfd0>"
      ]
     },
     "metadata": {},
     "output_type": "display_data"
    }
   ],
   "source": [
    "df['train_improvement']=df['item2vec_score_train']-df['baseline_scores_train']\n",
    "df['test_improvement']=df['item2vec_score_test']-df['baseline_scores_test']\n",
    "df_diffs=df.reindex_axis(['train_improvement','test_improvement'], axis=1)\n",
    "df_diffs.plot()\n",
    "plt.title('Item2Vec model score vs Baseline recommender improvement')\n",
    "plt.xlabel('epoch no.')\n",
    "plt.ylabel('% correct recommendations improvement')"
   ]
  },
  {
   "cell_type": "code",
   "execution_count": null,
   "metadata": {
    "collapsed": true
   },
   "outputs": [],
   "source": []
  },
  {
   "cell_type": "code",
   "execution_count": null,
   "metadata": {
    "collapsed": true
   },
   "outputs": [],
   "source": []
  },
  {
   "cell_type": "code",
   "execution_count": null,
   "metadata": {
    "collapsed": true
   },
   "outputs": [],
   "source": []
  },
  {
   "cell_type": "code",
   "execution_count": null,
   "metadata": {
    "collapsed": true
   },
   "outputs": [],
   "source": []
  },
  {
   "cell_type": "code",
   "execution_count": null,
   "metadata": {
    "collapsed": true
   },
   "outputs": [],
   "source": []
  },
  {
   "cell_type": "code",
   "execution_count": null,
   "metadata": {
    "collapsed": true
   },
   "outputs": [],
   "source": []
  },
  {
   "cell_type": "code",
   "execution_count": null,
   "metadata": {
    "collapsed": true
   },
   "outputs": [],
   "source": []
  },
  {
   "cell_type": "code",
   "execution_count": null,
   "metadata": {
    "collapsed": true
   },
   "outputs": [],
   "source": []
  },
  {
   "cell_type": "code",
   "execution_count": null,
   "metadata": {
    "collapsed": true
   },
   "outputs": [],
   "source": []
  },
  {
   "cell_type": "code",
   "execution_count": null,
   "metadata": {
    "collapsed": true
   },
   "outputs": [],
   "source": []
  },
  {
   "cell_type": "code",
   "execution_count": null,
   "metadata": {
    "collapsed": true
   },
   "outputs": [],
   "source": []
  },
  {
   "cell_type": "code",
   "execution_count": null,
   "metadata": {
    "collapsed": true
   },
   "outputs": [],
   "source": []
  },
  {
   "cell_type": "code",
   "execution_count": null,
   "metadata": {
    "collapsed": true
   },
   "outputs": [],
   "source": []
  },
  {
   "cell_type": "code",
   "execution_count": null,
   "metadata": {
    "collapsed": true
   },
   "outputs": [],
   "source": []
  },
  {
   "cell_type": "code",
   "execution_count": null,
   "metadata": {
    "collapsed": true
   },
   "outputs": [],
   "source": []
  }
 ],
 "metadata": {
  "kernelspec": {
   "display_name": "Python 2",
   "language": "python",
   "name": "python2"
  },
  "language_info": {
   "codemirror_mode": {
    "name": "ipython",
    "version": 2
   },
   "file_extension": ".py",
   "mimetype": "text/x-python",
   "name": "python",
   "nbconvert_exporter": "python",
   "pygments_lexer": "ipython2",
   "version": "2.7.10"
  }
 },
 "nbformat": 4,
 "nbformat_minor": 0
}

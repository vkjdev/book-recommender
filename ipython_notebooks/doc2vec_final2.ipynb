{
 "cells": [
  {
   "cell_type": "code",
   "execution_count": 1,
   "metadata": {
    "collapsed": false
   },
   "outputs": [],
   "source": [
    "import pandas as pd\n",
    "from datetime import datetime\n",
    "from gensim.models.word2vec import Word2Vec\n",
    "from gensim.models.doc2vec import Doc2Vec\n",
    "from gensim.models.doc2vec import TaggedDocument\n",
    "import time\n",
    "import numpy as np\n",
    "from collections import Counter\n",
    "from matplotlib import pyplot as plt\n",
    "import cPickle\n",
    "CSV_PATH='/home/kvassay/data/book-recommender/ratings_Books.csv'\n",
    "QUESTIONS_PATH='/home/kvassay/data/book-recommender/questions.txt'\n",
    "MODELS_FOLDER='/home/kvassay/data/book-recommender/models/'\n",
    "BEST_CFG_PATH='/home/kvassay/data/book-recommender/best_cfg.dump'\n",
    "%matplotlib inline"
   ]
  },
  {
   "cell_type": "code",
   "execution_count": 2,
   "metadata": {
    "collapsed": false
   },
   "outputs": [
    {
     "name": "stderr",
     "output_type": "stream",
     "text": [
      "2016-12-14 16:04:09,213 - root - INFO - Logger works.\n"
     ]
    }
   ],
   "source": [
    "import logging\n",
    "logger = logging.getLogger()\n",
    "logger.setLevel('INFO')\n",
    "ch = logging.StreamHandler()\n",
    "ch.setLevel(logging.DEBUG)\n",
    "formatter = logging.Formatter('%(asctime)s - %(name)s - %(levelname)s - %(message)s')\n",
    "ch.setFormatter(formatter)\n",
    "# add the handlers to the logger\n",
    "logger.addHandler(ch)\n",
    "logger.info('Logger works.') #to prevent duplicate logs"
   ]
  },
  {
   "cell_type": "markdown",
   "metadata": {},
   "source": [
    "### Reading and sorting data"
   ]
  },
  {
   "cell_type": "code",
   "execution_count": 3,
   "metadata": {
    "collapsed": false
   },
   "outputs": [],
   "source": [
    "raw_data=pd.read_csv(CSV_PATH,header=0,names=['user','item','rating','timestamp'])"
   ]
  },
  {
   "cell_type": "markdown",
   "metadata": {},
   "source": [
    "### Dumping data < 2013."
   ]
  },
  {
   "cell_type": "code",
   "execution_count": 4,
   "metadata": {
    "collapsed": false
   },
   "outputs": [],
   "source": [
    "raw_data=raw_data[raw_data['timestamp']>1356998400]"
   ]
  },
  {
   "cell_type": "markdown",
   "metadata": {},
   "source": [
    "### Extract user-item impressions dict"
   ]
  },
  {
   "cell_type": "code",
   "execution_count": 5,
   "metadata": {
    "collapsed": false
   },
   "outputs": [],
   "source": [
    "def split(raw_data, quantile=0.7):\n",
    "    q=raw_data['timestamp'].quantile(quantile)\n",
    "    return raw_data[raw_data['timestamp']<=q], raw_data[raw_data['timestamp']>q]\n",
    "\n",
    "def get_user_items_dict(data, min_ratings, max_ratings):\n",
    "    user_item_dict=dict()\n",
    "    for row in data.itertuples():\n",
    "        if row.user in user_item_dict:\n",
    "            user_item_dict[row.user].append(row.item)\n",
    "        else:\n",
    "            user_item_dict[row.user]=[row.item]\n",
    "    user_item_dict_clean={key: value for key,value in user_item_dict.iteritems() if len(value)>=min_ratings and len(value)<max_ratings}\n",
    "    return user_item_dict_clean\n",
    "\n",
    "def get_user_items_list_lengths(user_item_dict):\n",
    "    return pd.DataFrame(sorted([len(item_list) for _,item_list in user_item_dict.iteritems()]))\n",
    "    \n",
    "\n",
    "def remove_users_not_in_train(train_dict, other_dict):\n",
    "    #intersection=set(other_dict.keys()) & set(train_dict.keys())\n",
    "    #n_intersection=len(intersection)\n",
    "    #new_dict={key: other_dict[key] for key in intersection}\n",
    "    #len_before=len(other_dict)\n",
    "    #n_removed = len_before - len(new_dict)\n",
    "    #logger.info('Removed %s users which weren\\'t in the training set. Intersection cardinality: %s...', n_removed, n_intersection)\n",
    "    keys=other_dict.keys()\n",
    "    for key in keys:\n",
    "        if not key in train_dict:\n",
    "            del other_dict[key]\n",
    "    return other_dict"
   ]
  },
  {
   "cell_type": "markdown",
   "metadata": {},
   "source": [
    "### Train-test split"
   ]
  },
  {
   "cell_type": "code",
   "execution_count": 6,
   "metadata": {
    "collapsed": false
   },
   "outputs": [],
   "source": [
    "raw_train, raw_test = split(raw_data)\n",
    "raw_train, raw_dev = split(raw_train)"
   ]
  },
  {
   "cell_type": "code",
   "execution_count": 7,
   "metadata": {
    "collapsed": false
   },
   "outputs": [],
   "source": [
    "user_item_train = get_user_items_dict(raw_train, min_ratings=10, max_ratings=100)\n",
    "user_item_dev = get_user_items_dict(raw_dev, min_ratings=1, max_ratings=100)\n",
    "user_item_test = get_user_items_dict(raw_test, min_ratings=1, max_ratings=100)\n",
    "\n",
    "user_item_dev=remove_users_not_in_train(user_item_train, user_item_dev)\n",
    "user_item_test= remove_users_not_in_train(user_item_train, user_item_test)"
   ]
  },
  {
   "cell_type": "markdown",
   "metadata": {},
   "source": [
    "### Training dataset Analysis"
   ]
  },
  {
   "cell_type": "markdown",
   "metadata": {},
   "source": [
    "#### User count"
   ]
  },
  {
   "cell_type": "code",
   "execution_count": 8,
   "metadata": {
    "collapsed": false
   },
   "outputs": [
    {
     "data": {
      "text/plain": [
       "62105"
      ]
     },
     "execution_count": 8,
     "metadata": {},
     "output_type": "execute_result"
    }
   ],
   "source": [
    "len(user_item_train.keys())"
   ]
  },
  {
   "cell_type": "markdown",
   "metadata": {},
   "source": [
    "#### Item count distribution per user"
   ]
  },
  {
   "cell_type": "code",
   "execution_count": 9,
   "metadata": {
    "collapsed": false,
    "scrolled": true
   },
   "outputs": [],
   "source": [
    "item_counts_train=get_user_items_list_lengths(user_item_train)\n",
    "item_counts_dev=get_user_items_list_lengths(user_item_dev)\n",
    "item_counts_test=get_user_items_list_lengths(user_item_test)"
   ]
  },
  {
   "cell_type": "code",
   "execution_count": 10,
   "metadata": {
    "collapsed": false,
    "scrolled": true
   },
   "outputs": [
    {
     "data": {
      "text/html": [
       "<div>\n",
       "<table border=\"1\" class=\"dataframe\">\n",
       "  <thead>\n",
       "    <tr style=\"text-align: right;\">\n",
       "      <th></th>\n",
       "      <th>0</th>\n",
       "    </tr>\n",
       "  </thead>\n",
       "  <tbody>\n",
       "    <tr>\n",
       "      <th>count</th>\n",
       "      <td>62105.000000</td>\n",
       "    </tr>\n",
       "    <tr>\n",
       "      <th>mean</th>\n",
       "      <td>20.078190</td>\n",
       "    </tr>\n",
       "    <tr>\n",
       "      <th>std</th>\n",
       "      <td>14.454616</td>\n",
       "    </tr>\n",
       "    <tr>\n",
       "      <th>min</th>\n",
       "      <td>10.000000</td>\n",
       "    </tr>\n",
       "    <tr>\n",
       "      <th>25%</th>\n",
       "      <td>11.000000</td>\n",
       "    </tr>\n",
       "    <tr>\n",
       "      <th>50%</th>\n",
       "      <td>15.000000</td>\n",
       "    </tr>\n",
       "    <tr>\n",
       "      <th>75%</th>\n",
       "      <td>22.000000</td>\n",
       "    </tr>\n",
       "    <tr>\n",
       "      <th>max</th>\n",
       "      <td>99.000000</td>\n",
       "    </tr>\n",
       "  </tbody>\n",
       "</table>\n",
       "</div>"
      ],
      "text/plain": [
       "                  0\n",
       "count  62105.000000\n",
       "mean      20.078190\n",
       "std       14.454616\n",
       "min       10.000000\n",
       "25%       11.000000\n",
       "50%       15.000000\n",
       "75%       22.000000\n",
       "max       99.000000"
      ]
     },
     "execution_count": 10,
     "metadata": {},
     "output_type": "execute_result"
    }
   ],
   "source": [
    "item_counts_train.describe()"
   ]
  },
  {
   "cell_type": "code",
   "execution_count": 11,
   "metadata": {
    "collapsed": false
   },
   "outputs": [
    {
     "data": {
      "text/html": [
       "<div>\n",
       "<table border=\"1\" class=\"dataframe\">\n",
       "  <thead>\n",
       "    <tr style=\"text-align: right;\">\n",
       "      <th></th>\n",
       "      <th>0</th>\n",
       "    </tr>\n",
       "  </thead>\n",
       "  <tbody>\n",
       "    <tr>\n",
       "      <th>count</th>\n",
       "      <td>43248.000000</td>\n",
       "    </tr>\n",
       "    <tr>\n",
       "      <th>mean</th>\n",
       "      <td>7.958356</td>\n",
       "    </tr>\n",
       "    <tr>\n",
       "      <th>std</th>\n",
       "      <td>9.931169</td>\n",
       "    </tr>\n",
       "    <tr>\n",
       "      <th>min</th>\n",
       "      <td>1.000000</td>\n",
       "    </tr>\n",
       "    <tr>\n",
       "      <th>25%</th>\n",
       "      <td>2.000000</td>\n",
       "    </tr>\n",
       "    <tr>\n",
       "      <th>50%</th>\n",
       "      <td>5.000000</td>\n",
       "    </tr>\n",
       "    <tr>\n",
       "      <th>75%</th>\n",
       "      <td>10.000000</td>\n",
       "    </tr>\n",
       "    <tr>\n",
       "      <th>max</th>\n",
       "      <td>99.000000</td>\n",
       "    </tr>\n",
       "  </tbody>\n",
       "</table>\n",
       "</div>"
      ],
      "text/plain": [
       "                  0\n",
       "count  43248.000000\n",
       "mean       7.958356\n",
       "std        9.931169\n",
       "min        1.000000\n",
       "25%        2.000000\n",
       "50%        5.000000\n",
       "75%       10.000000\n",
       "max       99.000000"
      ]
     },
     "execution_count": 11,
     "metadata": {},
     "output_type": "execute_result"
    }
   ],
   "source": [
    "item_counts_dev.describe()"
   ]
  },
  {
   "cell_type": "code",
   "execution_count": 12,
   "metadata": {
    "collapsed": false
   },
   "outputs": [
    {
     "data": {
      "text/html": [
       "<div>\n",
       "<table border=\"1\" class=\"dataframe\">\n",
       "  <thead>\n",
       "    <tr style=\"text-align: right;\">\n",
       "      <th></th>\n",
       "      <th>0</th>\n",
       "    </tr>\n",
       "  </thead>\n",
       "  <tbody>\n",
       "    <tr>\n",
       "      <th>count</th>\n",
       "      <td>42702.000000</td>\n",
       "    </tr>\n",
       "    <tr>\n",
       "      <th>mean</th>\n",
       "      <td>9.157112</td>\n",
       "    </tr>\n",
       "    <tr>\n",
       "      <th>std</th>\n",
       "      <td>11.883411</td>\n",
       "    </tr>\n",
       "    <tr>\n",
       "      <th>min</th>\n",
       "      <td>1.000000</td>\n",
       "    </tr>\n",
       "    <tr>\n",
       "      <th>25%</th>\n",
       "      <td>2.000000</td>\n",
       "    </tr>\n",
       "    <tr>\n",
       "      <th>50%</th>\n",
       "      <td>5.000000</td>\n",
       "    </tr>\n",
       "    <tr>\n",
       "      <th>75%</th>\n",
       "      <td>11.000000</td>\n",
       "    </tr>\n",
       "    <tr>\n",
       "      <th>max</th>\n",
       "      <td>99.000000</td>\n",
       "    </tr>\n",
       "  </tbody>\n",
       "</table>\n",
       "</div>"
      ],
      "text/plain": [
       "                  0\n",
       "count  42702.000000\n",
       "mean       9.157112\n",
       "std       11.883411\n",
       "min        1.000000\n",
       "25%        2.000000\n",
       "50%        5.000000\n",
       "75%       11.000000\n",
       "max       99.000000"
      ]
     },
     "execution_count": 12,
     "metadata": {},
     "output_type": "execute_result"
    }
   ],
   "source": [
    "item_counts_test.describe()"
   ]
  },
  {
   "cell_type": "code",
   "execution_count": 13,
   "metadata": {
    "collapsed": false,
    "scrolled": true
   },
   "outputs": [
    {
     "data": {
      "text/plain": [
       "array([[<matplotlib.axes._subplots.AxesSubplot object at 0x7f664a41c050>]], dtype=object)"
      ]
     },
     "execution_count": 13,
     "metadata": {},
     "output_type": "execute_result"
    },
    {
     "data": {
      "image/png": "[encoded data removed]",
      "text/plain": [
       "<matplotlib.figure.Figure at 0x7f667eed0e10>"
      ]
     },
     "metadata": {},
     "output_type": "display_data"
    },
    {
     "data": {
      "image/png": "[encoded data removed]",
      "text/plain": [
       "<matplotlib.figure.Figure at 0x7f668b910a10>"
      ]
     },
     "metadata": {},
     "output_type": "display_data"
    },
    {
     "data": {
      "image/png": "[encoded data removed]",
      "text/plain": [
       "<matplotlib.figure.Figure at 0x7f664e7d9f50>"
      ]
     },
     "metadata": {},
     "output_type": "display_data"
    }
   ],
   "source": [
    "nbins=100\n",
    "item_counts_train.hist(bins=nbins)\n",
    "item_counts_dev.hist(bins=nbins)\n",
    "item_counts_test.hist(bins=nbins)"
   ]
  },
  {
   "cell_type": "markdown",
   "metadata": {},
   "source": [
    "### Limiting dataset sizes\n",
    "\n",
    "Especially evaluations take a lot of time, limiting dataset sizes might be useful."
   ]
  },
  {
   "cell_type": "code",
   "execution_count": 14,
   "metadata": {
    "collapsed": true
   },
   "outputs": [],
   "source": [
    "#for testing:\n",
    "TRAIN_SIZE=100000\n",
    "DEV_SIZE=1000\n",
    "TEST_SIZE=1000\n",
    "'''\n",
    "In addition to limiting the dataset sizes we need to make sure, \n",
    "that all users from DEV and TEST set are present in TRAIN set.\n",
    "To do that we simply add them to TRAIN set after limiting.\n",
    "'''\n",
    "user_item_train_tmp={key: user_item_train[key] for key in user_item_train.keys()[:TRAIN_SIZE]}\n",
    "user_item_dev={key: user_item_dev[key] for key in user_item_dev.keys()[:DEV_SIZE]}\n",
    "user_item_test={key: user_item_test[key] for key in user_item_test.keys()[:TEST_SIZE]}\n",
    "for usr in user_item_dev:\n",
    "    if usr not in user_item_train_tmp:\n",
    "        user_item_train_tmp[usr]=user_item_train[usr]\n",
    "for usr in user_item_test:\n",
    "    if usr not in user_item_train_tmp:\n",
    "        user_item_train_tmp[usr]=user_item_train[usr]\n",
    "user_item_train=user_item_train_tmp"
   ]
  },
  {
   "cell_type": "code",
   "execution_count": 15,
   "metadata": {
    "collapsed": false
   },
   "outputs": [
    {
     "name": "stdout",
     "output_type": "stream",
     "text": [
      "[62105, 1000, 1000]\n"
     ]
    }
   ],
   "source": [
    "print([len(user_item_train), len(user_item_dev), len(user_item_test)])"
   ]
  },
  {
   "cell_type": "markdown",
   "metadata": {},
   "source": [
    "### Training data preparation\n",
    "For Gensim"
   ]
  },
  {
   "cell_type": "code",
   "execution_count": 16,
   "metadata": {
    "collapsed": false
   },
   "outputs": [],
   "source": [
    "train_data=[TaggedDocument([unicode(word) for word in words], [user_id]) for user_id, words in user_item_train.iteritems()]\n",
    "dev_data=[TaggedDocument([unicode(word) for word in words], [user_id]) for user_id, words in user_item_dev.iteritems()]\n"
   ]
  },
  {
   "cell_type": "markdown",
   "metadata": {},
   "source": [
    "### Baseline model and evaluation function\n",
    "Evaluation methods and Baseline model for comparison."
   ]
  },
  {
   "cell_type": "code",
   "execution_count": 17,
   "metadata": {
    "collapsed": false
   },
   "outputs": [],
   "source": [
    "class BaselineModel():\n",
    "    '''\n",
    "    Always returns k most frequent items.\n",
    "    '''\n",
    "    def __init__(self,train_set,topn=100):\n",
    "        logger.info('Couting %s most frequent items for BaselineModel...',topn)\n",
    "        items=list()\n",
    "        for key in train_set:\n",
    "            items.extend(train_set[key])\n",
    "        counter=Counter(items)\n",
    "        self.result=counter.most_common(topn)\n",
    "        logger.info('BaselineModel initialized...')\n",
    "        \n",
    "    def most_similar(self, positive=None, topn=None):\n",
    "        #parameters are there just for compatibility with Gensim model evaluator\n",
    "        return self.result\n",
    "        \n",
    "        \n",
    "def percentage(part, whole):\n",
    "    return 100 * float(part)/float(whole)\n",
    "\n",
    "def evaluate_score(model, train_set, test_set, exclude_from_test=None, topn=10, limit_users=None):\n",
    "    '''\n",
    "    Asks model for k recommendations based on users data in the past (train_set)\n",
    "    and looks if at least one of them appeared in the future (test_set). In the end\n",
    "    evaluator returns in how many % cases it did.\n",
    "    '''\n",
    "    rec_count=0\n",
    "    confirmed_match=0\n",
    "    if limit_users is not None:\n",
    "        users=test_set.keys()[:limit_users]\n",
    "        np.random.shuffle(users)\n",
    "    else:\n",
    "        users=test_set.keys()\n",
    "    for user in users:\n",
    "        train_items=train_set[user]\n",
    "        test_data=test_set[user]\n",
    "        recommended=[tupl[0] for tupl in model.most_similar(positive=train_items, topn=topn*10) if tupl[0] not in train_items]\n",
    "        if exclude_from_test is not None and user in exclude_from_test:\n",
    "            recommended=[item for item in recommended if item not in exclude_from_test[user]]\n",
    "        recommended=recommended[:topn]\n",
    "        for item in recommended:\n",
    "            if item in test_data:\n",
    "                confirmed_match+=1\n",
    "        rec_count+=topn\n",
    "    return percentage(confirmed_match,rec_count)\n",
    "    \n",
    "    "
   ]
  },
  {
   "cell_type": "markdown",
   "metadata": {},
   "source": [
    "\n",
    "### Doc2Vec models training"
   ]
  },
  {
   "cell_type": "code",
   "execution_count": null,
   "metadata": {
    "collapsed": false
   },
   "outputs": [],
   "source": [
    "def get_random_cfg(cfgs):\n",
    "    cfg=dict()\n",
    "    for key in cfgs:\n",
    "        num_options=len(cfgs[key])\n",
    "        cfg[key]=np.random.choice(cfgs[key],1)[0]\n",
    "    return cfg\n",
    "\n",
    "\n",
    "def grid_search(cfgs, time_s=120):\n",
    "    logger.info('Performing grid search for %s seconds...',time_s)\n",
    "    start=time.time()\n",
    "    best_cfg=None\n",
    "    best_score=0\n",
    "    while time.time()-start<time_s:\n",
    "        cfg=get_random_cfg(cfgs)\n",
    "        model=train(1, cfg, persist=False, decrease_alpha=False)\n",
    "        score=evaluate_score(model, user_item_train, user_item_dev)\n",
    "        logger.info('Computed score %s...',score)\n",
    "        if score>best_score:\n",
    "            best_score=score\n",
    "            best_cfg=cfg\n",
    "            with open(BEST_CFG_PATH, 'w') as f:\n",
    "                cPickle.dump(best_cfg, f)\n",
    "    logger.info('Grid search finished...')\n",
    "    logger.info('Best cfg: %s', best_cfg)\n",
    "    return best_cfg\n",
    "    \n",
    "def train(num_epochs, cfg, persist=False, decrease_alpha=False):\n",
    "    '''\n",
    "    Initializing model\n",
    "    '''\n",
    "    logger.info('Initializing model...')\n",
    "    model = Doc2Vec(alpha=cfg['alpha'], min_alpha=cfg['alpha'], min_count=cfg['min_count'], size=cfg['size'],\n",
    "                    window=cfg['window'], negative=cfg['negative'])  # use fixed learning rate\n",
    "    logger.info('Building vocabulary...')\n",
    "    logger.setLevel(logging.ERROR)\n",
    "    start=time.time()\n",
    "    model.build_vocab(train_data)\n",
    "    dur=time.time()-start\n",
    "    logger.setLevel(logging.INFO)\n",
    "    logger.info('Building vocabulary took %s seconds...', dur)\n",
    "    '''\n",
    "    Learning model for multiple epochs, after each model is persisted to HDD.\n",
    "    '''\n",
    "    for epoch in range(1,num_epochs+1,1):\n",
    "        start=time.time()\n",
    "        logger.info('Shuffling training data')\n",
    "        '''\n",
    "        Data are shuffled before each iteration to ensure ordering \n",
    "        won't corrupt gradient computation and not cause overfitting on some local minima\n",
    "        '''\n",
    "        np.random.shuffle(train_data)\n",
    "        dur=time.time()-start\n",
    "        logger.info('Shuffling training set took %s seconds...', dur)\n",
    "        start=time.time()\n",
    "        model_save_path=MODELS_FOLDER+'doc2vec_model_ep'+str(epoch)\n",
    "        logger.info('Training epoch no. %s...',epoch)\n",
    "        logger.setLevel(logging.ERROR)\n",
    "        '''\n",
    "        Training\n",
    "        '''\n",
    "        model.train(train_data)\n",
    "        if persist:\n",
    "            '''\n",
    "            Persisting\n",
    "            '''\n",
    "            model.save(model_save_path)\n",
    "        if decrease_alpha:\n",
    "            model.alpha -= 0.0005  # decrease the learning rate\n",
    "        model.min_alpha = model.alpha  # fix the learning rate, no decay\n",
    "        logger.setLevel(logging.INFO)\n",
    "        dur=time.time()-start\n",
    "        logger.info('Training model took %s seconds...', dur)\n",
    "    return model"
   ]
  },
  {
   "cell_type": "code",
   "execution_count": null,
   "metadata": {
    "collapsed": false,
    "scrolled": true
   },
   "outputs": [
    {
     "name": "stderr",
     "output_type": "stream",
     "text": [
      "2016-12-14 16:05:18,712 - root - INFO - Initializing model...\n",
      "2016-12-14 16:05:18,718 - root - INFO - Building vocabulary...\n",
      "2016-12-14 16:05:41,851 - root - INFO - Building vocabulary took 23.132641077 seconds...\n",
      "2016-12-14 16:05:41,852 - root - INFO - Shuffling training data\n",
      "2016-12-14 16:05:41,857 - root - INFO - Shuffling training set took 0.00521898269653 seconds...\n",
      "2016-12-14 16:05:41,858 - root - INFO - Training epoch no. 1...\n"
     ]
    }
   ],
   "source": [
    "logger.setLevel(logging.INFO)\n",
    "#cfgs={'negative':[2,5], 'alpha':[0.02,0.18, 0.25], 'size':[250,300,350], 'window':[7,8,9], 'min_count':[1]}\n",
    "#cfg=grid_search(cfgs,time_s=3600)\n",
    "with open(BEST_CFG_PATH, 'r') as f:\n",
    "    cfg=cPickle.load(f)\n",
    "train(8, cfg, persist=True, decrease_alpha=False)"
   ]
  },
  {
   "cell_type": "markdown",
   "metadata": {},
   "source": [
    "### Doc2Vec model evaluation"
   ]
  },
  {
   "cell_type": "code",
   "execution_count": null,
   "metadata": {
    "collapsed": false,
    "scrolled": false
   },
   "outputs": [],
   "source": [
    "logger.setLevel(logging.INFO)\n",
    "baseline_model=BaselineModel(user_item_train)\n",
    "model_paths=[MODELS_FOLDER+'doc2vec_model_ep'+str(r) for r in range(1,8,1)]\n",
    "logger.info('Computing scores...')\n",
    "scores=list()\n",
    "scores_test=list()\n",
    "scores_baseline=[evaluate_score(baseline_model, user_item_train, user_item_dev)]*len(model_paths)\n",
    "scores_baseline_test=[evaluate_score(baseline_model, user_item_train, user_item_test, exclude_from_test=user_item_dev)]*len(model_paths)\n",
    "logger.info('Baseline score: %s%%...',scores_baseline[0])\n",
    "logger.info('Baseline score test: %s%%...',scores_baseline_test[0])\n",
    "for i in xrange(len(model_paths)):\n",
    "    start=time.time()\n",
    "    logger.info('Loading model no. %s...',i+1)\n",
    "    logger.setLevel(logging.ERROR)\n",
    "    model=Doc2Vec.load(model_paths[i])\n",
    "    dur=time.time()-start\n",
    "    logger.setLevel(logging.INFO)\n",
    "    logger.info('Model loading took %s seconds...', dur)\n",
    "\n",
    "    logger.info('Computing score for epoch %s...',i+1)\n",
    "    logger.setLevel(logging.ERROR)\n",
    "    start=time.time()\n",
    "    score=evaluate_score(model, user_item_train, user_item_dev)\n",
    "    score_test=evaluate_score(model, user_item_train, user_item_test, exclude_from_test=user_item_dev)\n",
    "    dur=time.time()-start\n",
    "    logger.setLevel(logging.INFO)\n",
    "    logger.info('Computing score took %s seconds...', dur)\n",
    "    logger.info('Score on dev set for epoch %s = %s %%...',i+1,score)\n",
    "    logger.info('Score on test set for epoch %s = %s %%...',i+1,score_test)\n",
    "    scores.append(score)\n",
    "    scores_test.append(score_test)\n",
    "logger.info('Result scores: %s', scores)\n",
    "    "
   ]
  },
  {
   "cell_type": "code",
   "execution_count": null,
   "metadata": {
    "collapsed": false
   },
   "outputs": [],
   "source": [
    "df=pd.DataFrame.from_dict({'item2vec_score_train': scores,\n",
    "                           'item2vec_score_test' : scores_test,\n",
    "                           'baseline_scores_train':scores_baseline,\n",
    "                           'baseline_scores_test':scores_baseline_test})\n",
    "df.plot(figsize=(10,6))\n",
    "plt.title('Item2Vec model vs Baseline recommender')\n",
    "plt.xlabel('epoch no.')\n",
    "plt.ylabel('% correct recommendations')"
   ]
  },
  {
   "cell_type": "code",
   "execution_count": null,
   "metadata": {
    "collapsed": false
   },
   "outputs": [],
   "source": [
    "df['train_improvement']=df['item2vec_score_train']-df['baseline_scores_train']\n",
    "df['test_improvement']=df['item2vec_score_test']-df['baseline_scores_test']\n",
    "df_diffs=df.reindex_axis(['train_improvement','test_improvement'], axis=1)\n",
    "df_diffs.plot()\n",
    "plt.title('Item2Vec model vs Baseline recommender improvement')\n",
    "plt.xlabel('epoch no.')\n",
    "plt.ylabel('% correct recommendations improvement')"
   ]
  },
  {
   "cell_type": "code",
   "execution_count": null,
   "metadata": {
    "collapsed": true
   },
   "outputs": [],
   "source": []
  },
  {
   "cell_type": "code",
   "execution_count": null,
   "metadata": {
    "collapsed": true
   },
   "outputs": [],
   "source": []
  },
  {
   "cell_type": "code",
   "execution_count": null,
   "metadata": {
    "collapsed": true
   },
   "outputs": [],
   "source": []
  },
  {
   "cell_type": "code",
   "execution_count": null,
   "metadata": {
    "collapsed": true
   },
   "outputs": [],
   "source": []
  },
  {
   "cell_type": "code",
   "execution_count": null,
   "metadata": {
    "collapsed": true
   },
   "outputs": [],
   "source": []
  },
  {
   "cell_type": "code",
   "execution_count": null,
   "metadata": {
    "collapsed": true
   },
   "outputs": [],
   "source": []
  },
  {
   "cell_type": "code",
   "execution_count": null,
   "metadata": {
    "collapsed": true
   },
   "outputs": [],
   "source": []
  },
  {
   "cell_type": "code",
   "execution_count": null,
   "metadata": {
    "collapsed": true
   },
   "outputs": [],
   "source": []
  },
  {
   "cell_type": "code",
   "execution_count": null,
   "metadata": {
    "collapsed": true
   },
   "outputs": [],
   "source": []
  },
  {
   "cell_type": "code",
   "execution_count": null,
   "metadata": {
    "collapsed": true
   },
   "outputs": [],
   "source": []
  },
  {
   "cell_type": "code",
   "execution_count": null,
   "metadata": {
    "collapsed": true
   },
   "outputs": [],
   "source": []
  },
  {
   "cell_type": "code",
   "execution_count": null,
   "metadata": {
    "collapsed": true
   },
   "outputs": [],
   "source": []
  },
  {
   "cell_type": "code",
   "execution_count": null,
   "metadata": {
    "collapsed": true
   },
   "outputs": [],
   "source": []
  },
  {
   "cell_type": "code",
   "execution_count": null,
   "metadata": {
    "collapsed": true
   },
   "outputs": [],
   "source": []
  },
  {
   "cell_type": "code",
   "execution_count": null,
   "metadata": {
    "collapsed": true
   },
   "outputs": [],
   "source": []
  }
 ],
 "metadata": {
  "kernelspec": {
   "display_name": "Python 2",
   "language": "python",
   "name": "python2"
  },
  "language_info": {
   "codemirror_mode": {
    "name": "ipython",
    "version": 2
   },
   "file_extension": ".py",
   "mimetype": "text/x-python",
   "name": "python",
   "nbconvert_exporter": "python",
   "pygments_lexer": "ipython2",
   "version": "2.7.12"
  }
 },
 "nbformat": 4,
 "nbformat_minor": 0
}

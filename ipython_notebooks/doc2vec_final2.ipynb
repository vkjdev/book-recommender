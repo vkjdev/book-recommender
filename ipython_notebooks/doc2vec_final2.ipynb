{
 "cells": [
  {
   "cell_type": "code",
   "execution_count": 47,
   "metadata": {
    "collapsed": false
   },
   "outputs": [],
   "source": [
    "import pandas as pd\n",
    "from datetime import datetime\n",
    "from gensim.models.word2vec import Word2Vec\n",
    "from gensim.models.doc2vec import Doc2Vec\n",
    "from gensim.models.doc2vec import TaggedDocument\n",
    "import time\n",
    "import numpy as np\n",
    "from collections import Counter\n",
    "from matplotlib import pyplot as plt\n",
    "CSV_PATH='/home/kvassay/data/book-recommender/ratings_Books.csv'\n",
    "QUESTIONS_PATH='/home/kvassay/data/book-recommender/questions.txt'\n",
    "MODELS_FOLDER='/home/kvassay/data/book-recommender/models/'\n",
    "%matplotlib inline"
   ]
  },
  {
   "cell_type": "code",
   "execution_count": 2,
   "metadata": {
    "collapsed": false
   },
   "outputs": [
    {
     "name": "stderr",
     "output_type": "stream",
     "text": [
      "2016-12-14 08:00:17,174 - root - INFO - Logger works.\n"
     ]
    }
   ],
   "source": [
    "import logging\n",
    "logger = logging.getLogger()\n",
    "logger.setLevel('INFO')\n",
    "ch = logging.StreamHandler()\n",
    "ch.setLevel(logging.DEBUG)\n",
    "formatter = logging.Formatter('%(asctime)s - %(name)s - %(levelname)s - %(message)s')\n",
    "ch.setFormatter(formatter)\n",
    "# add the handlers to the logger\n",
    "logger.addHandler(ch)\n",
    "logger.info('Logger works.') #to prevent duplicate logs"
   ]
  },
  {
   "cell_type": "markdown",
   "metadata": {},
   "source": [
    "### Reading and sorting data"
   ]
  },
  {
   "cell_type": "code",
   "execution_count": 3,
   "metadata": {
    "collapsed": false
   },
   "outputs": [],
   "source": [
    "raw_data=pd.read_csv(CSV_PATH,header=0,names=['user','item','rating','timestamp'])"
   ]
  },
  {
   "cell_type": "markdown",
   "metadata": {},
   "source": [
    "### Dumping data < 2013."
   ]
  },
  {
   "cell_type": "code",
   "execution_count": 4,
   "metadata": {
    "collapsed": false
   },
   "outputs": [],
   "source": [
    "raw_data=raw_data[raw_data['timestamp']>1356998400]"
   ]
  },
  {
   "cell_type": "markdown",
   "metadata": {},
   "source": [
    "### Extract user-item impressions dict"
   ]
  },
  {
   "cell_type": "code",
   "execution_count": 5,
   "metadata": {
    "collapsed": false
   },
   "outputs": [],
   "source": [
    "def split(raw_data, quantile=0.7):\n",
    "    q=raw_data['timestamp'].quantile(quantile)\n",
    "    return raw_data[raw_data['timestamp']<=q], raw_data[raw_data['timestamp']>q]\n",
    "\n",
    "def get_user_items_dict(data, min_ratings, max_ratings):\n",
    "    user_item_dict=dict()\n",
    "    for row in data.itertuples():\n",
    "        if row.user in user_item_dict:\n",
    "            user_item_dict[row.user].append(row.item)\n",
    "        else:\n",
    "            user_item_dict[row.user]=[row.item]\n",
    "    user_item_dict_clean={key: value for key,value in user_item_dict.iteritems() if len(value)>=min_ratings and len(value)<max_ratings}\n",
    "    return user_item_dict_clean\n",
    "\n",
    "def get_user_items_list_lengths(user_item_dict):\n",
    "    return pd.DataFrame(sorted([len(item_list) for _,item_list in user_item_dict.iteritems()]))\n",
    "    \n",
    "\n",
    "def remove_users_not_in_train(train_dict, other_dict):\n",
    "    #intersection=set(other_dict.keys()) & set(train_dict.keys())\n",
    "    #n_intersection=len(intersection)\n",
    "    #new_dict={key: other_dict[key] for key in intersection}\n",
    "    #len_before=len(other_dict)\n",
    "    #n_removed = len_before - len(new_dict)\n",
    "    #logger.info('Removed %s users which weren\\'t in the training set. Intersection cardinality: %s...', n_removed, n_intersection)\n",
    "    keys=other_dict.keys()\n",
    "    for key in keys:\n",
    "        if not key in train_dict:\n",
    "            del other_dict[key]\n",
    "    return other_dict"
   ]
  },
  {
   "cell_type": "markdown",
   "metadata": {},
   "source": [
    "### Train-test split"
   ]
  },
  {
   "cell_type": "code",
   "execution_count": 6,
   "metadata": {
    "collapsed": false
   },
   "outputs": [],
   "source": [
    "raw_train, raw_test = split(raw_data)\n",
    "raw_train, raw_dev = split(raw_train)"
   ]
  },
  {
   "cell_type": "code",
   "execution_count": 7,
   "metadata": {
    "collapsed": false
   },
   "outputs": [],
   "source": [
    "user_item_train = get_user_items_dict(raw_train, min_ratings=10, max_ratings=100)\n",
    "user_item_dev = get_user_items_dict(raw_dev, min_ratings=2, max_ratings=1000000)\n",
    "user_item_test = get_user_items_dict(raw_test, min_ratings=2, max_ratings=1000000)\n",
    "\n",
    "user_item_dev=remove_users_not_in_train(user_item_train, user_item_dev)\n",
    "user_item_test= remove_users_not_in_train(user_item_train, user_item_test)"
   ]
  },
  {
   "cell_type": "markdown",
   "metadata": {},
   "source": [
    "### Training dataset Analysis"
   ]
  },
  {
   "cell_type": "markdown",
   "metadata": {},
   "source": [
    "#### User count"
   ]
  },
  {
   "cell_type": "code",
   "execution_count": 8,
   "metadata": {
    "collapsed": false
   },
   "outputs": [
    {
     "data": {
      "text/plain": [
       "62105"
      ]
     },
     "execution_count": 8,
     "metadata": {},
     "output_type": "execute_result"
    }
   ],
   "source": [
    "len(user_item_train.keys())"
   ]
  },
  {
   "cell_type": "markdown",
   "metadata": {},
   "source": [
    "#### Item count distribution per user"
   ]
  },
  {
   "cell_type": "code",
   "execution_count": 9,
   "metadata": {
    "collapsed": false,
    "scrolled": true
   },
   "outputs": [],
   "source": [
    "item_counts_train=get_user_items_list_lengths(user_item_train)\n",
    "item_counts_dev=get_user_items_list_lengths(user_item_dev)\n",
    "item_counts_test=get_user_items_list_lengths(user_item_test)"
   ]
  },
  {
   "cell_type": "code",
   "execution_count": 10,
   "metadata": {
    "collapsed": false,
    "scrolled": true
   },
   "outputs": [
    {
     "data": {
      "text/html": [
       "<div>\n",
       "<table border=\"1\" class=\"dataframe\">\n",
       "  <thead>\n",
       "    <tr style=\"text-align: right;\">\n",
       "      <th></th>\n",
       "      <th>0</th>\n",
       "    </tr>\n",
       "  </thead>\n",
       "  <tbody>\n",
       "    <tr>\n",
       "      <th>count</th>\n",
       "      <td>62105.000000</td>\n",
       "    </tr>\n",
       "    <tr>\n",
       "      <th>mean</th>\n",
       "      <td>20.078190</td>\n",
       "    </tr>\n",
       "    <tr>\n",
       "      <th>std</th>\n",
       "      <td>14.454616</td>\n",
       "    </tr>\n",
       "    <tr>\n",
       "      <th>min</th>\n",
       "      <td>10.000000</td>\n",
       "    </tr>\n",
       "    <tr>\n",
       "      <th>25%</th>\n",
       "      <td>11.000000</td>\n",
       "    </tr>\n",
       "    <tr>\n",
       "      <th>50%</th>\n",
       "      <td>15.000000</td>\n",
       "    </tr>\n",
       "    <tr>\n",
       "      <th>75%</th>\n",
       "      <td>22.000000</td>\n",
       "    </tr>\n",
       "    <tr>\n",
       "      <th>max</th>\n",
       "      <td>99.000000</td>\n",
       "    </tr>\n",
       "  </tbody>\n",
       "</table>\n",
       "</div>"
      ],
      "text/plain": [
       "                  0\n",
       "count  62105.000000\n",
       "mean      20.078190\n",
       "std       14.454616\n",
       "min       10.000000\n",
       "25%       11.000000\n",
       "50%       15.000000\n",
       "75%       22.000000\n",
       "max       99.000000"
      ]
     },
     "execution_count": 10,
     "metadata": {},
     "output_type": "execute_result"
    }
   ],
   "source": [
    "item_counts_train.describe()"
   ]
  },
  {
   "cell_type": "code",
   "execution_count": 11,
   "metadata": {
    "collapsed": false
   },
   "outputs": [
    {
     "data": {
      "text/html": [
       "<div>\n",
       "<table border=\"1\" class=\"dataframe\">\n",
       "  <thead>\n",
       "    <tr style=\"text-align: right;\">\n",
       "      <th></th>\n",
       "      <th>0</th>\n",
       "    </tr>\n",
       "  </thead>\n",
       "  <tbody>\n",
       "    <tr>\n",
       "      <th>count</th>\n",
       "      <td>35702.000000</td>\n",
       "    </tr>\n",
       "    <tr>\n",
       "      <th>mean</th>\n",
       "      <td>9.754159</td>\n",
       "    </tr>\n",
       "    <tr>\n",
       "      <th>std</th>\n",
       "      <td>12.897457</td>\n",
       "    </tr>\n",
       "    <tr>\n",
       "      <th>min</th>\n",
       "      <td>2.000000</td>\n",
       "    </tr>\n",
       "    <tr>\n",
       "      <th>25%</th>\n",
       "      <td>3.000000</td>\n",
       "    </tr>\n",
       "    <tr>\n",
       "      <th>50%</th>\n",
       "      <td>6.000000</td>\n",
       "    </tr>\n",
       "    <tr>\n",
       "      <th>75%</th>\n",
       "      <td>12.000000</td>\n",
       "    </tr>\n",
       "    <tr>\n",
       "      <th>max</th>\n",
       "      <td>511.000000</td>\n",
       "    </tr>\n",
       "  </tbody>\n",
       "</table>\n",
       "</div>"
      ],
      "text/plain": [
       "                  0\n",
       "count  35702.000000\n",
       "mean       9.754159\n",
       "std       12.897457\n",
       "min        2.000000\n",
       "25%        3.000000\n",
       "50%        6.000000\n",
       "75%       12.000000\n",
       "max      511.000000"
      ]
     },
     "execution_count": 11,
     "metadata": {},
     "output_type": "execute_result"
    }
   ],
   "source": [
    "item_counts_dev.describe()"
   ]
  },
  {
   "cell_type": "code",
   "execution_count": 12,
   "metadata": {
    "collapsed": false
   },
   "outputs": [
    {
     "data": {
      "text/html": [
       "<div>\n",
       "<table border=\"1\" class=\"dataframe\">\n",
       "  <thead>\n",
       "    <tr style=\"text-align: right;\">\n",
       "      <th></th>\n",
       "      <th>0</th>\n",
       "    </tr>\n",
       "  </thead>\n",
       "  <tbody>\n",
       "    <tr>\n",
       "      <th>count</th>\n",
       "      <td>35656.000000</td>\n",
       "    </tr>\n",
       "    <tr>\n",
       "      <th>mean</th>\n",
       "      <td>11.585708</td>\n",
       "    </tr>\n",
       "    <tr>\n",
       "      <th>std</th>\n",
       "      <td>16.979665</td>\n",
       "    </tr>\n",
       "    <tr>\n",
       "      <th>min</th>\n",
       "      <td>2.000000</td>\n",
       "    </tr>\n",
       "    <tr>\n",
       "      <th>25%</th>\n",
       "      <td>3.000000</td>\n",
       "    </tr>\n",
       "    <tr>\n",
       "      <th>50%</th>\n",
       "      <td>6.000000</td>\n",
       "    </tr>\n",
       "    <tr>\n",
       "      <th>75%</th>\n",
       "      <td>13.000000</td>\n",
       "    </tr>\n",
       "    <tr>\n",
       "      <th>max</th>\n",
       "      <td>660.000000</td>\n",
       "    </tr>\n",
       "  </tbody>\n",
       "</table>\n",
       "</div>"
      ],
      "text/plain": [
       "                  0\n",
       "count  35656.000000\n",
       "mean      11.585708\n",
       "std       16.979665\n",
       "min        2.000000\n",
       "25%        3.000000\n",
       "50%        6.000000\n",
       "75%       13.000000\n",
       "max      660.000000"
      ]
     },
     "execution_count": 12,
     "metadata": {},
     "output_type": "execute_result"
    }
   ],
   "source": [
    "item_counts_test.describe()"
   ]
  },
  {
   "cell_type": "code",
   "execution_count": 13,
   "metadata": {
    "collapsed": false,
    "scrolled": true
   },
   "outputs": [
    {
     "data": {
      "text/plain": [
       "array([[<matplotlib.axes._subplots.AxesSubplot object at 0x7f5302923610>]], dtype=object)"
      ]
     },
     "execution_count": 13,
     "metadata": {},
     "output_type": "execute_result"
    },
    {
     "data": {
      "image/png": "[encoded data removed]",
      "text/plain": [
       "<matplotlib.figure.Figure at 0x7f5337b6ac90>"
      ]
     },
     "metadata": {},
     "output_type": "display_data"
    },
    {
     "data": {
      "image/png": "[encoded data removed]",
      "text/plain": [
       "<matplotlib.figure.Figure at 0x7f5343e8aa50>"
      ]
     },
     "metadata": {},
     "output_type": "display_data"
    },
    {
     "data": {
      "image/png": "[encoded data removed]",
      "text/plain": [
       "<matplotlib.figure.Figure at 0x7f532892f250>"
      ]
     },
     "metadata": {},
     "output_type": "display_data"
    }
   ],
   "source": [
    "nbins=100\n",
    "item_counts_train.hist(bins=nbins)\n",
    "item_counts_dev.hist(bins=nbins)\n",
    "item_counts_test.hist(bins=nbins)"
   ]
  },
  {
   "cell_type": "markdown",
   "metadata": {},
   "source": [
    "### Limiting dataset sizes\n",
    "\n",
    "Especially evaluations take a lot of time, limiting dataset sizes might be useful."
   ]
  },
  {
   "cell_type": "code",
   "execution_count": 14,
   "metadata": {
    "collapsed": false
   },
   "outputs": [
    {
     "data": {
      "text/plain": [
       "35925"
      ]
     },
     "execution_count": 14,
     "metadata": {},
     "output_type": "execute_result"
    }
   ],
   "source": [
    "#for testing:\n",
    "TRAIN_SIZE=100000\n",
    "DEV_SIZE=1000\n",
    "TEST_SIZE=1000\n",
    "'''\n",
    "In addition to limiting the dataset sizes we need to make sure, \n",
    "that all users from DEV and TEST set are present in TRAIN set.\n",
    "To do that we simply add them to TRAIN set after limiting.\n",
    "'''\n",
    "user_item_train_tmp={key: user_item_train[key] for key in user_item_dev.keys()[:TRAIN_SIZE]}\n",
    "user_item_dev={key: user_item_dev[key] for key in user_item_dev.keys()[:DEV_SIZE]}\n",
    "user_item_test={key: user_item_test[key] for key in user_item_test.keys()[:TEST_SIZE]}\n",
    "for usr in user_item_dev:\n",
    "    if usr not in user_item_train_tmp:\n",
    "        user_item_train_tmp[usr]=user_item_train[usr]\n",
    "for usr in user_item_test:\n",
    "    if usr not in user_item_train_tmp:\n",
    "        user_item_train_tmp[usr]=user_item_train[usr]\n",
    "user_item_train=user_item_train_tmp\n",
    "len(user_item_train)"
   ]
  },
  {
   "cell_type": "markdown",
   "metadata": {},
   "source": [
    "### Training data preparation\n",
    "For Gensim"
   ]
  },
  {
   "cell_type": "code",
   "execution_count": 15,
   "metadata": {
    "collapsed": false
   },
   "outputs": [],
   "source": [
    "train_data=[TaggedDocument([unicode(word) for word in words], [user_id]) for user_id, words in user_item_train.iteritems()]\n",
    "dev_data=[TaggedDocument([unicode(word) for word in words], [user_id]) for user_id, words in user_item_dev.iteritems()]\n"
   ]
  },
  {
   "cell_type": "markdown",
   "metadata": {},
   "source": [
    "### Baseline model and evaluation function\n",
    "Evaluation methods and Baseline model for comparison."
   ]
  },
  {
   "cell_type": "code",
   "execution_count": 41,
   "metadata": {
    "collapsed": false
   },
   "outputs": [],
   "source": [
    "class BaselineModel():\n",
    "    '''\n",
    "    Always returns k most frequent items.\n",
    "    '''\n",
    "    def __init__(self,train_set,topn=10):\n",
    "        logger.info('Couting %s most frequent items for BaselineModel...',topn)\n",
    "        items=list()\n",
    "        for key in train_set:\n",
    "            items.extend(train_set[key])\n",
    "        counter=Counter(items)\n",
    "        self.result=counter.most_common(10)\n",
    "        logger.info('BaselineModel initialized...')\n",
    "        \n",
    "    def most_similar(self, positive=None, topn=None):\n",
    "        #parameters are there just for compatibility with Gensim model evaluator\n",
    "        return self.result\n",
    "        \n",
    "        \n",
    "def percentage(part, whole):\n",
    "    return 100 * float(part)/float(whole)\n",
    "\n",
    "def evaluate_score(model, train_set, test_set,topn=10, limit_users=None):\n",
    "    '''\n",
    "    Asks model for k recommendations based on users data in the past (train_set)\n",
    "    and looks if at least one of them appeared in the future (test_set). In the end\n",
    "    evaluator returns in how many % cases it did.\n",
    "    '''\n",
    "    rec_count=0\n",
    "    confirmed_match=0\n",
    "    if limit_users is not None:\n",
    "        users=test_set.keys()[:limit_users]\n",
    "        np.random.shuffle(users)\n",
    "    else:\n",
    "        users=test_set.keys()\n",
    "    for user in users:\n",
    "        train_items=train_set[user]\n",
    "        test_data=test_set[user]\n",
    "        \n",
    "        result=[tupl[0] for tupl in model.most_similar(positive=train_items, topn=topn)]\n",
    "        for item in result:\n",
    "            if item in test_data:\n",
    "                confirmed_match+=1\n",
    "                break\n",
    "        rec_count+=1\n",
    "    return percentage(confirmed_match,rec_count)\n",
    "    \n",
    "    "
   ]
  },
  {
   "cell_type": "markdown",
   "metadata": {},
   "source": [
    "### Doc2Vec models training"
   ]
  },
  {
   "cell_type": "code",
   "execution_count": 39,
   "metadata": {
    "collapsed": false
   },
   "outputs": [
    {
     "ename": "KeyboardInterrupt",
     "evalue": "",
     "output_type": "error",
     "traceback": [
      "\u001b[0;31m---------------------------------------------------------------------------\u001b[0m",
      "\u001b[0;31mKeyboardInterrupt\u001b[0m                         Traceback (most recent call last)",
      "\u001b[0;32m<ipython-input-39-b7127bebe4c6>\u001b[0m in \u001b[0;36m<module>\u001b[0;34m()\u001b[0m\n\u001b[1;32m      7\u001b[0m \u001b[0mlogger\u001b[0m\u001b[0;34m.\u001b[0m\u001b[0msetLevel\u001b[0m\u001b[0;34m(\u001b[0m\u001b[0mlogging\u001b[0m\u001b[0;34m.\u001b[0m\u001b[0mERROR\u001b[0m\u001b[0;34m)\u001b[0m\u001b[0;34m\u001b[0m\u001b[0m\n\u001b[1;32m      8\u001b[0m \u001b[0mstart\u001b[0m\u001b[0;34m=\u001b[0m\u001b[0mtime\u001b[0m\u001b[0;34m.\u001b[0m\u001b[0mtime\u001b[0m\u001b[0;34m(\u001b[0m\u001b[0;34m)\u001b[0m\u001b[0;34m\u001b[0m\u001b[0m\n\u001b[0;32m----> 9\u001b[0;31m \u001b[0mmodel\u001b[0m\u001b[0;34m.\u001b[0m\u001b[0mbuild_vocab\u001b[0m\u001b[0;34m(\u001b[0m\u001b[0mtrain_data\u001b[0m\u001b[0;34m)\u001b[0m\u001b[0;34m\u001b[0m\u001b[0m\n\u001b[0m\u001b[1;32m     10\u001b[0m \u001b[0mdur\u001b[0m\u001b[0;34m=\u001b[0m\u001b[0mtime\u001b[0m\u001b[0;34m.\u001b[0m\u001b[0mtime\u001b[0m\u001b[0;34m(\u001b[0m\u001b[0;34m)\u001b[0m\u001b[0;34m-\u001b[0m\u001b[0mstart\u001b[0m\u001b[0;34m\u001b[0m\u001b[0m\n\u001b[1;32m     11\u001b[0m \u001b[0mlogger\u001b[0m\u001b[0;34m.\u001b[0m\u001b[0msetLevel\u001b[0m\u001b[0;34m(\u001b[0m\u001b[0mlogging\u001b[0m\u001b[0;34m.\u001b[0m\u001b[0mINFO\u001b[0m\u001b[0;34m)\u001b[0m\u001b[0;34m\u001b[0m\u001b[0m\n",
      "\u001b[0;32m/home/kvassay/.env/main/local/lib/python2.7/site-packages/gensim/models/word2vec.pyc\u001b[0m in \u001b[0;36mbuild_vocab\u001b[0;34m(self, sentences, keep_raw_vocab, trim_rule, progress_per)\u001b[0m\n\u001b[1;32m    523\u001b[0m         \u001b[0mself\u001b[0m\u001b[0;34m.\u001b[0m\u001b[0mscan_vocab\u001b[0m\u001b[0;34m(\u001b[0m\u001b[0msentences\u001b[0m\u001b[0;34m,\u001b[0m \u001b[0mprogress_per\u001b[0m\u001b[0;34m=\u001b[0m\u001b[0mprogress_per\u001b[0m\u001b[0;34m,\u001b[0m \u001b[0mtrim_rule\u001b[0m\u001b[0;34m=\u001b[0m\u001b[0mtrim_rule\u001b[0m\u001b[0;34m)\u001b[0m  \u001b[0;31m# initial survey\u001b[0m\u001b[0;34m\u001b[0m\u001b[0m\n\u001b[1;32m    524\u001b[0m         \u001b[0mself\u001b[0m\u001b[0;34m.\u001b[0m\u001b[0mscale_vocab\u001b[0m\u001b[0;34m(\u001b[0m\u001b[0mkeep_raw_vocab\u001b[0m\u001b[0;34m=\u001b[0m\u001b[0mkeep_raw_vocab\u001b[0m\u001b[0;34m,\u001b[0m \u001b[0mtrim_rule\u001b[0m\u001b[0;34m=\u001b[0m\u001b[0mtrim_rule\u001b[0m\u001b[0;34m)\u001b[0m  \u001b[0;31m# trim by min_count & precalculate downsampling\u001b[0m\u001b[0;34m\u001b[0m\u001b[0m\n\u001b[0;32m--> 525\u001b[0;31m         \u001b[0mself\u001b[0m\u001b[0;34m.\u001b[0m\u001b[0mfinalize_vocab\u001b[0m\u001b[0;34m(\u001b[0m\u001b[0;34m)\u001b[0m  \u001b[0;31m# build tables & arrays\u001b[0m\u001b[0;34m\u001b[0m\u001b[0m\n\u001b[0m\u001b[1;32m    526\u001b[0m \u001b[0;34m\u001b[0m\u001b[0m\n\u001b[1;32m    527\u001b[0m     \u001b[0;32mdef\u001b[0m \u001b[0mscan_vocab\u001b[0m\u001b[0;34m(\u001b[0m\u001b[0mself\u001b[0m\u001b[0;34m,\u001b[0m \u001b[0msentences\u001b[0m\u001b[0;34m,\u001b[0m \u001b[0mprogress_per\u001b[0m\u001b[0;34m=\u001b[0m\u001b[0;36m10000\u001b[0m\u001b[0;34m,\u001b[0m \u001b[0mtrim_rule\u001b[0m\u001b[0;34m=\u001b[0m\u001b[0mNone\u001b[0m\u001b[0;34m)\u001b[0m\u001b[0;34m:\u001b[0m\u001b[0;34m\u001b[0m\u001b[0m\n",
      "\u001b[0;32m/home/kvassay/.env/main/local/lib/python2.7/site-packages/gensim/models/word2vec.pyc\u001b[0m in \u001b[0;36mfinalize_vocab\u001b[0;34m(self)\u001b[0m\n\u001b[1;32m    647\u001b[0m         \u001b[0;32mif\u001b[0m \u001b[0mself\u001b[0m\u001b[0;34m.\u001b[0m\u001b[0mhs\u001b[0m\u001b[0;34m:\u001b[0m\u001b[0;34m\u001b[0m\u001b[0m\n\u001b[1;32m    648\u001b[0m             \u001b[0;31m# add info about each word's Huffman encoding\u001b[0m\u001b[0;34m\u001b[0m\u001b[0;34m\u001b[0m\u001b[0m\n\u001b[0;32m--> 649\u001b[0;31m             \u001b[0mself\u001b[0m\u001b[0;34m.\u001b[0m\u001b[0mcreate_binary_tree\u001b[0m\u001b[0;34m(\u001b[0m\u001b[0;34m)\u001b[0m\u001b[0;34m\u001b[0m\u001b[0m\n\u001b[0m\u001b[1;32m    650\u001b[0m         \u001b[0;32mif\u001b[0m \u001b[0mself\u001b[0m\u001b[0;34m.\u001b[0m\u001b[0mnegative\u001b[0m\u001b[0;34m:\u001b[0m\u001b[0;34m\u001b[0m\u001b[0m\n\u001b[1;32m    651\u001b[0m             \u001b[0;31m# build the table for drawing random words (for negative sampling)\u001b[0m\u001b[0;34m\u001b[0m\u001b[0;34m\u001b[0m\u001b[0m\n",
      "\u001b[0;32m/home/kvassay/.env/main/local/lib/python2.7/site-packages/gensim/models/word2vec.pyc\u001b[0m in \u001b[0;36mcreate_binary_tree\u001b[0;34m(self)\u001b[0m\n\u001b[1;32m    495\u001b[0m         \u001b[0mheapq\u001b[0m\u001b[0;34m.\u001b[0m\u001b[0mheapify\u001b[0m\u001b[0;34m(\u001b[0m\u001b[0mheap\u001b[0m\u001b[0;34m)\u001b[0m\u001b[0;34m\u001b[0m\u001b[0m\n\u001b[1;32m    496\u001b[0m         \u001b[0;32mfor\u001b[0m \u001b[0mi\u001b[0m \u001b[0;32min\u001b[0m \u001b[0mxrange\u001b[0m\u001b[0;34m(\u001b[0m\u001b[0mlen\u001b[0m\u001b[0;34m(\u001b[0m\u001b[0mself\u001b[0m\u001b[0;34m.\u001b[0m\u001b[0mvocab\u001b[0m\u001b[0;34m)\u001b[0m \u001b[0;34m-\u001b[0m \u001b[0;36m1\u001b[0m\u001b[0;34m)\u001b[0m\u001b[0;34m:\u001b[0m\u001b[0;34m\u001b[0m\u001b[0m\n\u001b[0;32m--> 497\u001b[0;31m             \u001b[0mmin1\u001b[0m\u001b[0;34m,\u001b[0m \u001b[0mmin2\u001b[0m \u001b[0;34m=\u001b[0m \u001b[0mheapq\u001b[0m\u001b[0;34m.\u001b[0m\u001b[0mheappop\u001b[0m\u001b[0;34m(\u001b[0m\u001b[0mheap\u001b[0m\u001b[0;34m)\u001b[0m\u001b[0;34m,\u001b[0m \u001b[0mheapq\u001b[0m\u001b[0;34m.\u001b[0m\u001b[0mheappop\u001b[0m\u001b[0;34m(\u001b[0m\u001b[0mheap\u001b[0m\u001b[0;34m)\u001b[0m\u001b[0;34m\u001b[0m\u001b[0m\n\u001b[0m\u001b[1;32m    498\u001b[0m             \u001b[0mheapq\u001b[0m\u001b[0;34m.\u001b[0m\u001b[0mheappush\u001b[0m\u001b[0;34m(\u001b[0m\u001b[0mheap\u001b[0m\u001b[0;34m,\u001b[0m \u001b[0mVocab\u001b[0m\u001b[0;34m(\u001b[0m\u001b[0mcount\u001b[0m\u001b[0;34m=\u001b[0m\u001b[0mmin1\u001b[0m\u001b[0;34m.\u001b[0m\u001b[0mcount\u001b[0m \u001b[0;34m+\u001b[0m \u001b[0mmin2\u001b[0m\u001b[0;34m.\u001b[0m\u001b[0mcount\u001b[0m\u001b[0;34m,\u001b[0m \u001b[0mindex\u001b[0m\u001b[0;34m=\u001b[0m\u001b[0mi\u001b[0m \u001b[0;34m+\u001b[0m \u001b[0mlen\u001b[0m\u001b[0;34m(\u001b[0m\u001b[0mself\u001b[0m\u001b[0;34m.\u001b[0m\u001b[0mvocab\u001b[0m\u001b[0;34m)\u001b[0m\u001b[0;34m,\u001b[0m \u001b[0mleft\u001b[0m\u001b[0;34m=\u001b[0m\u001b[0mmin1\u001b[0m\u001b[0;34m,\u001b[0m \u001b[0mright\u001b[0m\u001b[0;34m=\u001b[0m\u001b[0mmin2\u001b[0m\u001b[0;34m)\u001b[0m\u001b[0;34m)\u001b[0m\u001b[0;34m\u001b[0m\u001b[0m\n\u001b[1;32m    499\u001b[0m \u001b[0;34m\u001b[0m\u001b[0m\n",
      "\u001b[0;32m/home/kvassay/.env/main/local/lib/python2.7/site-packages/gensim/models/word2vec.pyc\u001b[0m in \u001b[0;36m__lt__\u001b[0;34m(self, other)\u001b[0m\n\u001b[1;32m    335\u001b[0m         \u001b[0mself\u001b[0m\u001b[0;34m.\u001b[0m\u001b[0m__dict__\u001b[0m\u001b[0;34m.\u001b[0m\u001b[0mupdate\u001b[0m\u001b[0;34m(\u001b[0m\u001b[0mkwargs\u001b[0m\u001b[0;34m)\u001b[0m\u001b[0;34m\u001b[0m\u001b[0m\n\u001b[1;32m    336\u001b[0m \u001b[0;34m\u001b[0m\u001b[0m\n\u001b[0;32m--> 337\u001b[0;31m     \u001b[0;32mdef\u001b[0m \u001b[0m__lt__\u001b[0m\u001b[0;34m(\u001b[0m\u001b[0mself\u001b[0m\u001b[0;34m,\u001b[0m \u001b[0mother\u001b[0m\u001b[0;34m)\u001b[0m\u001b[0;34m:\u001b[0m  \u001b[0;31m# used for sorting in a priority queue\u001b[0m\u001b[0;34m\u001b[0m\u001b[0m\n\u001b[0m\u001b[1;32m    338\u001b[0m         \u001b[0;32mreturn\u001b[0m \u001b[0mself\u001b[0m\u001b[0;34m.\u001b[0m\u001b[0mcount\u001b[0m \u001b[0;34m<\u001b[0m \u001b[0mother\u001b[0m\u001b[0;34m.\u001b[0m\u001b[0mcount\u001b[0m\u001b[0;34m\u001b[0m\u001b[0m\n\u001b[1;32m    339\u001b[0m \u001b[0;34m\u001b[0m\u001b[0m\n",
      "\u001b[0;31mKeyboardInterrupt\u001b[0m: "
     ]
    }
   ],
   "source": [
    "'''\n",
    "Initializing model\n",
    "'''\n",
    "logger.info('Initializing model...')\n",
    "model = Doc2Vec(alpha=0.025, min_alpha=0.025, min_count=1, size=300, window=8, negative=2)  # use fixed learning rate\n",
    "logger.info('Building vocabulary...')\n",
    "logger.setLevel(logging.ERROR)\n",
    "start=time.time()\n",
    "model.build_vocab(train_data)\n",
    "dur=time.time()-start\n",
    "logger.setLevel(logging.INFO)\n",
    "logger.info('Building vocabulary took %s seconds...', dur)\n",
    "'''\n",
    "Learning model for multiple epochs, after each model is persisted to HDD.\n",
    "'''\n",
    "for epoch in range(1,20,1):\n",
    "    start=time.time()\n",
    "    logger.info('Shuffling training data')\n",
    "    '''\n",
    "    Data are shuffled before each iteration to ensure ordering \n",
    "    won't corrupt gradient computation and not cause overfitting on some local minima\n",
    "    '''\n",
    "    np.random.shuffle(train_data)\n",
    "    dur=time.time()-start\n",
    "    logger.info('Shuffling training set took %s seconds...', dur)\n",
    "    start=time.time()\n",
    "    model_save_path=MODELS_FOLDER+'doc2vec_model_ep'+str(epoch)\n",
    "    logger.info('Training epoch no. %s...',epoch)\n",
    "    logger.setLevel(logging.ERROR)\n",
    "    '''\n",
    "    Training\n",
    "    '''\n",
    "    model.train(train_data)\n",
    "    '''\n",
    "    Persisting\n",
    "    '''\n",
    "    model.save(model_save_path)\n",
    "    model.alpha -= 0.0005  # decrease the learning rate\n",
    "    model.min_alpha = model.alpha  # fix the learning rate, no decay\n",
    "    logger.setLevel(logging.INFO)\n",
    "    dur=time.time()-start\n",
    "    logger.info('Training model and persisting took %s seconds...', dur)"
   ]
  },
  {
   "cell_type": "markdown",
   "metadata": {},
   "source": [
    "### Doc2Vec model evaluation"
   ]
  },
  {
   "cell_type": "code",
   "execution_count": 43,
   "metadata": {
    "collapsed": false,
    "scrolled": true
   },
   "outputs": [
    {
     "name": "stderr",
     "output_type": "stream",
     "text": [
      "2016-12-14 08:31:41,202 - root - INFO - Couting 10 most frequent items for BaselineModel...\n",
      "2016-12-14 08:31:41,707 - root - INFO - BaselineModel initialized...\n",
      "2016-12-14 08:31:41,723 - root - INFO - Computing scores...\n",
      "2016-12-14 08:31:41,730 - root - INFO - Baseline score: 1.2%...\n",
      "2016-12-14 08:31:41,732 - root - INFO - Loading model no. 1...\n",
      "2016-12-14 08:31:44,055 - root - INFO - Model loading took 2.32280993462 seconds...\n",
      "2016-12-14 08:31:44,055 - root - INFO - Computing score for epoch 1...\n",
      "2016-12-14 08:32:00,603 - root - INFO - Computing score took 16.547219038 seconds...\n",
      "2016-12-14 08:32:00,604 - root - INFO - Score for epoch 1 = 3.7 %...\n",
      "2016-12-14 08:32:00,619 - root - INFO - Loading model no. 2...\n",
      "2016-12-14 08:32:06,910 - root - INFO - Model loading took 6.29181313515 seconds...\n",
      "2016-12-14 08:32:06,912 - root - INFO - Computing score for epoch 2...\n",
      "2016-12-14 08:32:29,390 - root - INFO - Computing score took 22.4758551121 seconds...\n",
      "2016-12-14 08:32:29,391 - root - INFO - Score for epoch 2 = 5.8 %...\n",
      "2016-12-14 08:32:29,391 - root - INFO - Loading model no. 3...\n",
      "2016-12-14 08:32:34,699 - root - INFO - Model loading took 5.30786108971 seconds...\n",
      "2016-12-14 08:32:34,700 - root - INFO - Computing score for epoch 3...\n",
      "2016-12-14 08:32:53,981 - root - INFO - Computing score took 19.2804160118 seconds...\n",
      "2016-12-14 08:32:53,982 - root - INFO - Score for epoch 3 = 6.2 %...\n",
      "2016-12-14 08:32:53,991 - root - INFO - Loading model no. 4...\n",
      "2016-12-14 08:32:59,421 - root - INFO - Model loading took 5.42980194092 seconds...\n",
      "2016-12-14 08:32:59,423 - root - INFO - Computing score for epoch 4...\n",
      "2016-12-14 08:33:20,073 - root - INFO - Computing score took 20.647685051 seconds...\n",
      "2016-12-14 08:33:20,080 - root - INFO - Score for epoch 4 = 5.9 %...\n",
      "2016-12-14 08:33:20,081 - root - INFO - Loading model no. 5...\n",
      "2016-12-14 08:33:25,429 - root - INFO - Model loading took 5.347438097 seconds...\n",
      "2016-12-14 08:33:25,430 - root - INFO - Computing score for epoch 5...\n",
      "2016-12-14 08:33:42,992 - root - INFO - Computing score took 17.5605452061 seconds...\n",
      "2016-12-14 08:33:42,993 - root - INFO - Score for epoch 5 = 6.5 %...\n",
      "2016-12-14 08:33:42,994 - root - INFO - Loading model no. 6...\n",
      "2016-12-14 08:33:48,365 - root - INFO - Model loading took 5.37046694756 seconds...\n",
      "2016-12-14 08:33:48,367 - root - INFO - Computing score for epoch 6...\n",
      "2016-12-14 08:34:05,207 - root - INFO - Computing score took 16.8366999626 seconds...\n",
      "2016-12-14 08:34:05,218 - root - INFO - Score for epoch 6 = 6.0 %...\n",
      "2016-12-14 08:34:05,226 - root - INFO - Loading model no. 7...\n",
      "2016-12-14 08:34:10,626 - root - INFO - Model loading took 5.40026497841 seconds...\n",
      "2016-12-14 08:34:10,627 - root - INFO - Computing score for epoch 7...\n",
      "2016-12-14 08:34:28,534 - root - INFO - Computing score took 17.9046669006 seconds...\n",
      "2016-12-14 08:34:28,536 - root - INFO - Score for epoch 7 = 5.7 %...\n",
      "2016-12-14 08:34:28,550 - root - INFO - Loading model no. 8...\n",
      "2016-12-14 08:34:34,088 - root - INFO - Model loading took 5.53813409805 seconds...\n",
      "2016-12-14 08:34:34,091 - root - INFO - Computing score for epoch 8...\n",
      "2016-12-14 08:34:55,320 - root - INFO - Computing score took 21.2266979218 seconds...\n",
      "2016-12-14 08:34:55,321 - root - INFO - Score for epoch 8 = 5.8 %...\n",
      "2016-12-14 08:34:55,321 - root - INFO - Loading model no. 9...\n",
      "2016-12-14 08:35:00,718 - root - INFO - Model loading took 5.39651298523 seconds...\n",
      "2016-12-14 08:35:00,720 - root - INFO - Computing score for epoch 9...\n",
      "2016-12-14 08:35:19,276 - root - INFO - Computing score took 18.5554640293 seconds...\n",
      "2016-12-14 08:35:19,277 - root - INFO - Score for epoch 9 = 5.9 %...\n",
      "2016-12-14 08:35:19,279 - root - INFO - Loading model no. 10...\n",
      "2016-12-14 08:35:24,660 - root - INFO - Model loading took 5.38115501404 seconds...\n",
      "2016-12-14 08:35:24,663 - root - INFO - Computing score for epoch 10...\n",
      "2016-12-14 08:35:44,587 - root - INFO - Computing score took 19.921462059 seconds...\n",
      "2016-12-14 08:35:44,589 - root - INFO - Score for epoch 10 = 6.1 %...\n",
      "2016-12-14 08:35:44,590 - root - INFO - Loading model no. 11...\n",
      "2016-12-14 08:35:50,419 - root - INFO - Model loading took 5.82928800583 seconds...\n",
      "2016-12-14 08:35:50,421 - root - INFO - Computing score for epoch 11...\n",
      "2016-12-14 08:36:10,739 - root - INFO - Computing score took 20.3161690235 seconds...\n",
      "2016-12-14 08:36:10,739 - root - INFO - Score for epoch 11 = 5.5 %...\n",
      "2016-12-14 08:36:10,740 - root - INFO - Loading model no. 12...\n",
      "2016-12-14 08:36:15,978 - root - INFO - Model loading took 5.23751401901 seconds...\n",
      "2016-12-14 08:36:15,980 - root - INFO - Computing score for epoch 12...\n",
      "2016-12-14 08:36:35,031 - root - INFO - Computing score took 19.0475449562 seconds...\n",
      "2016-12-14 08:36:35,032 - root - INFO - Score for epoch 12 = 5.6 %...\n",
      "2016-12-14 08:36:35,043 - root - INFO - Loading model no. 13...\n",
      "2016-12-14 08:36:40,248 - root - INFO - Model loading took 5.20508599281 seconds...\n",
      "2016-12-14 08:36:40,250 - root - INFO - Computing score for epoch 13...\n",
      "2016-12-14 08:36:59,685 - root - INFO - Computing score took 19.4343111515 seconds...\n",
      "2016-12-14 08:36:59,685 - root - INFO - Score for epoch 13 = 5.4 %...\n",
      "2016-12-14 08:36:59,686 - root - INFO - Loading model no. 14...\n",
      "2016-12-14 08:37:05,107 - root - INFO - Model loading took 5.42049908638 seconds...\n",
      "2016-12-14 08:37:05,108 - root - INFO - Computing score for epoch 14...\n",
      "2016-12-14 08:37:23,915 - root - INFO - Computing score took 18.8048830032 seconds...\n",
      "2016-12-14 08:37:23,916 - root - INFO - Score for epoch 14 = 5.0 %...\n",
      "2016-12-14 08:37:23,916 - root - INFO - Loading model no. 15...\n",
      "2016-12-14 08:37:29,284 - root - INFO - Model loading took 5.36809706688 seconds...\n",
      "2016-12-14 08:37:29,287 - root - INFO - Computing score for epoch 15...\n",
      "2016-12-14 08:37:49,523 - root - INFO - Computing score took 20.2352869511 seconds...\n",
      "2016-12-14 08:37:49,539 - root - INFO - Score for epoch 15 = 4.7 %...\n",
      "2016-12-14 08:37:49,540 - root - INFO - Loading model no. 16...\n",
      "2016-12-14 08:37:55,031 - root - INFO - Model loading took 5.49052405357 seconds...\n",
      "2016-12-14 08:37:55,033 - root - INFO - Computing score for epoch 16...\n",
      "2016-12-14 08:38:12,664 - root - INFO - Computing score took 17.628524065 seconds...\n",
      "2016-12-14 08:38:12,665 - root - INFO - Score for epoch 16 = 4.6 %...\n",
      "2016-12-14 08:38:12,666 - root - INFO - Loading model no. 17...\n",
      "2016-12-14 08:38:18,113 - root - INFO - Model loading took 5.44703722 seconds...\n",
      "2016-12-14 08:38:18,115 - root - INFO - Computing score for epoch 17...\n",
      "2016-12-14 08:38:39,307 - root - INFO - Computing score took 21.19095397 seconds...\n",
      "2016-12-14 08:38:39,309 - root - INFO - Score for epoch 17 = 4.5 %...\n",
      "2016-12-14 08:38:39,310 - root - INFO - Loading model no. 18...\n",
      "2016-12-14 08:38:45,248 - root - INFO - Model loading took 5.93765687943 seconds...\n",
      "2016-12-14 08:38:45,250 - root - INFO - Computing score for epoch 18...\n",
      "2016-12-14 08:39:02,350 - root - INFO - Computing score took 17.0972328186 seconds...\n",
      "2016-12-14 08:39:02,366 - root - INFO - Score for epoch 18 = 4.0 %...\n",
      "2016-12-14 08:39:02,367 - root - INFO - Loading model no. 19...\n",
      "2016-12-14 08:39:08,060 - root - INFO - Model loading took 5.69291114807 seconds...\n",
      "2016-12-14 08:39:08,062 - root - INFO - Computing score for epoch 19...\n",
      "2016-12-14 08:39:25,755 - root - INFO - Computing score took 17.6917381287 seconds...\n",
      "2016-12-14 08:39:25,757 - root - INFO - Score for epoch 19 = 4.1 %...\n",
      "2016-12-14 08:39:25,759 - root - INFO - Result scores: [3.7, 5.8, 6.2, 5.9, 6.5, 6.0, 5.7, 5.8, 5.9, 6.1, 5.5, 5.6, 5.4, 5.0, 4.7, 4.6, 4.5, 4.0, 4.1]\n"
     ]
    }
   ],
   "source": [
    "\n",
    "logger.setLevel(logging.INFO)\n",
    "baseline_model=BaselineModel(user_item_train)\n",
    "model_paths=[MODELS_FOLDER+'doc2vec_model_ep'+str(r) for r in range(1,20,1)]\n",
    "logger.info('Computing scores...')\n",
    "scores=list()\n",
    "scores_baseline=[evaluate_score(baseline_model, user_item_train, user_item_dev)]*len(model_paths)\n",
    "logger.info('Baseline score: %s%%...',scores_baseline[0])\n",
    "for i in xrange(len(model_paths)):\n",
    "    start=time.time()\n",
    "    logger.info('Loading model no. %s...',i+1)\n",
    "    logger.setLevel(logging.ERROR)\n",
    "    model=Doc2Vec.load(model_paths[i])\n",
    "    dur=time.time()-start\n",
    "    logger.setLevel(logging.INFO)\n",
    "    logger.info('Model loading took %s seconds...', dur)\n",
    "\n",
    "    logger.info('Computing score for epoch %s...',i+1)\n",
    "    logger.setLevel(logging.ERROR)\n",
    "    start=time.time()\n",
    "    score=evaluate_score(model, user_item_train, user_item_dev)\n",
    "    dur=time.time()-start\n",
    "    logger.setLevel(logging.INFO)\n",
    "    logger.info('Computing score took %s seconds...', dur)\n",
    "    logger.info('Score for epoch %s = %s %%...',i+1,score)\n",
    "    scores.append(score)\n",
    "logger.info('Result scores: %s', scores)\n",
    "    "
   ]
  },
  {
   "cell_type": "code",
   "execution_count": null,
   "metadata": {
    "collapsed": true
   },
   "outputs": [],
   "source": []
  },
  {
   "cell_type": "code",
   "execution_count": 52,
   "metadata": {
    "collapsed": false,
    "scrolled": true
   },
   "outputs": [
    {
     "data": {
      "text/plain": [
       "<matplotlib.text.Text at 0x7f5328816ed0>"
      ]
     },
     "execution_count": 52,
     "metadata": {},
     "output_type": "execute_result"
    },
    {
     "data": {
      "image/png": "[encoded data removed]",
      "text/plain": [
       "<matplotlib.figure.Figure at 0x7f5328c515d0>"
      ]
     },
     "metadata": {},
     "output_type": "display_data"
    }
   ],
   "source": [
    "df=pd.DataFrame.from_dict({'item2vec_score_train': scores,'baseline_scores':scores_baseline})\n",
    "df.plot()\n",
    "plt.title('Item2Vec model score vs Baseline recommender')\n",
    "plt.xlabel('epoch no.')\n",
    "plt.ylabel('% correct recommendations')"
   ]
  },
  {
   "cell_type": "code",
   "execution_count": null,
   "metadata": {
    "collapsed": true
   },
   "outputs": [],
   "source": []
  },
  {
   "cell_type": "code",
   "execution_count": null,
   "metadata": {
    "collapsed": true
   },
   "outputs": [],
   "source": []
  },
  {
   "cell_type": "code",
   "execution_count": null,
   "metadata": {
    "collapsed": true
   },
   "outputs": [],
   "source": []
  },
  {
   "cell_type": "code",
   "execution_count": null,
   "metadata": {
    "collapsed": true
   },
   "outputs": [],
   "source": []
  },
  {
   "cell_type": "code",
   "execution_count": null,
   "metadata": {
    "collapsed": true
   },
   "outputs": [],
   "source": []
  },
  {
   "cell_type": "code",
   "execution_count": null,
   "metadata": {
    "collapsed": true
   },
   "outputs": [],
   "source": []
  },
  {
   "cell_type": "code",
   "execution_count": null,
   "metadata": {
    "collapsed": true
   },
   "outputs": [],
   "source": []
  },
  {
   "cell_type": "code",
   "execution_count": null,
   "metadata": {
    "collapsed": true
   },
   "outputs": [],
   "source": []
  },
  {
   "cell_type": "code",
   "execution_count": null,
   "metadata": {
    "collapsed": true
   },
   "outputs": [],
   "source": []
  },
  {
   "cell_type": "code",
   "execution_count": null,
   "metadata": {
    "collapsed": true
   },
   "outputs": [],
   "source": []
  },
  {
   "cell_type": "code",
   "execution_count": null,
   "metadata": {
    "collapsed": true
   },
   "outputs": [],
   "source": []
  },
  {
   "cell_type": "code",
   "execution_count": null,
   "metadata": {
    "collapsed": true
   },
   "outputs": [],
   "source": []
  },
  {
   "cell_type": "code",
   "execution_count": null,
   "metadata": {
    "collapsed": true
   },
   "outputs": [],
   "source": []
  },
  {
   "cell_type": "code",
   "execution_count": null,
   "metadata": {
    "collapsed": true
   },
   "outputs": [],
   "source": []
  },
  {
   "cell_type": "code",
   "execution_count": null,
   "metadata": {
    "collapsed": true
   },
   "outputs": [],
   "source": []
  },
  {
   "cell_type": "code",
   "execution_count": null,
   "metadata": {
    "collapsed": true
   },
   "outputs": [],
   "source": []
  },
  {
   "cell_type": "code",
   "execution_count": null,
   "metadata": {
    "collapsed": true
   },
   "outputs": [],
   "source": []
  },
  {
   "cell_type": "code",
   "execution_count": null,
   "metadata": {
    "collapsed": true
   },
   "outputs": [],
   "source": []
  },
  {
   "cell_type": "code",
   "execution_count": null,
   "metadata": {
    "collapsed": true
   },
   "outputs": [],
   "source": []
  },
  {
   "cell_type": "code",
   "execution_count": null,
   "metadata": {
    "collapsed": true
   },
   "outputs": [],
   "source": []
  },
  {
   "cell_type": "code",
   "execution_count": null,
   "metadata": {
    "collapsed": true
   },
   "outputs": [],
   "source": []
  }
 ],
 "metadata": {
  "kernelspec": {
   "display_name": "Python 2",
   "language": "python",
   "name": "python2"
  },
  "language_info": {
   "codemirror_mode": {
    "name": "ipython",
    "version": 2
   },
   "file_extension": ".py",
   "mimetype": "text/x-python",
   "name": "python",
   "nbconvert_exporter": "python",
   "pygments_lexer": "ipython2",
   "version": "2.7.12"
  }
 },
 "nbformat": 4,
 "nbformat_minor": 0
}

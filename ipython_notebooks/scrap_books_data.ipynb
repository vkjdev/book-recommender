{
 "cells": [
  {
   "cell_type": "code",
   "execution_count": 4,
   "metadata": {
    "collapsed": true
   },
   "outputs": [],
   "source": [
    "import pandas as pd\n",
    "from datetime import datetime\n",
    "from gensim.models.word2vec import Word2Vec\n",
    "from gensim.models.doc2vec import Doc2Vec\n",
    "from gensim.models.doc2vec import TaggedDocument\n",
    "from recommender.util import AmazonParser\n",
    "from time import sleep\n",
    "from time import time\n",
    "import os\n",
    "import json\n",
    "CSV_PATH='/Users/matejkvassay/project/data/book-recommender/ratings_Books.csv'\n",
    "ITEM_DATA_PATH='/Users/matejkvassay/project/data/book-recommender/books_2013_metadata/'\n",
    "\n",
    "%matplotlib inline"
   ]
  },
  {
   "cell_type": "code",
   "execution_count": 5,
   "metadata": {
    "collapsed": false
   },
   "outputs": [],
   "source": [
    "raw_data=pd.read_csv(CSV_PATH,header=0,names=['user','item','rating','timestamp'])"
   ]
  },
  {
   "cell_type": "code",
   "execution_count": 6,
   "metadata": {
    "collapsed": false
   },
   "outputs": [],
   "source": [
    "raw_data=raw_data[raw_data['timestamp']>1356998400]"
   ]
  },
  {
   "cell_type": "code",
   "execution_count": null,
   "metadata": {
    "collapsed": false
   },
   "outputs": [
    {
     "data": {
      "text/plain": [
       "array(['0000000116', '0000013714', '0000029831', ..., 'B00M111QCM',\n",
       "       'B00M1336U0', 'B00M13FNSS'], dtype=object)"
      ]
     },
     "execution_count": 7,
     "metadata": {},
     "output_type": "execute_result"
    }
   ],
   "source": [
    "asin_list=raw_data['item'].unique()\n",
    "asin_list"
   ]
  },
  {
   "cell_type": "code",
   "execution_count": null,
   "metadata": {
    "collapsed": false
   },
   "outputs": [],
   "source": [
    "#read product desc\n",
    "start_time=time()\n",
    "ok=0\n",
    "err=0\n",
    "processed=0\n",
    "to_be_processed=len(asin_list)\n",
    "log=[]\n",
    "for asin in asin_list:\n",
    "    try:\n",
    "        url = \"http://www.amazon.com/dp/\"+asin\n",
    "        extracted_data=AmazonParser(url)\n",
    "        if extracted_data:\n",
    "            with open(ITEM_DATA_PATH+asin+'.json', 'w') as f: \n",
    "                json.dump(extracted_data,f)\n",
    "            sleep(0.1)\n",
    "            ok+=1\n",
    "        else:\n",
    "            err+=1\n",
    "            continue\n",
    "    except:\n",
    "        err+=1\n",
    "    processed+=1\n",
    "    log.append((processed, ok, err))\n",
    "    if processed%100==0:\n",
    "        print('Processed: '+str(processed)+'/'+str(to_be_processed)+'. Error count: '+str(err)+'. Processing time: '+str(time()-start_time)+'s.')\n",
    "print(ok)\n",
    "print(err)\n",
    "    "
   ]
  },
  {
   "cell_type": "code",
   "execution_count": null,
   "metadata": {
    "collapsed": true
   },
   "outputs": [],
   "source": []
  },
  {
   "cell_type": "code",
   "execution_count": null,
   "metadata": {
    "collapsed": true
   },
   "outputs": [],
   "source": []
  }
 ],
 "metadata": {
  "kernelspec": {
   "display_name": "Python 2",
   "language": "python",
   "name": "python2"
  },
  "language_info": {
   "codemirror_mode": {
    "name": "ipython",
    "version": 2
   },
   "file_extension": ".py",
   "mimetype": "text/x-python",
   "name": "python",
   "nbconvert_exporter": "python",
   "pygments_lexer": "ipython2",
   "version": "2.7.10"
  }
 },
 "nbformat": 4,
 "nbformat_minor": 1
}

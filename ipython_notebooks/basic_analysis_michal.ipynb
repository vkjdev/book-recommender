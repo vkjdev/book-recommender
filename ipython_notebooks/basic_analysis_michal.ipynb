{
 "cells": [
  {
   "cell_type": "code",
   "execution_count": 2,
   "metadata": {
    "collapsed": true
   },
   "outputs": [],
   "source": [
    "import pandas as pd\n",
    "import matplotlib.pyplot as plt\n",
    "from pandas import DataFrame as df\n",
    "import numpy as np\n",
    "%matplotlib inline\n",
    "\n",
    "parsed_file = \"/home/michal/Documents/Misc/recommenders/vcs/book-recommender/data/ratings_Books.csv\""
   ]
  },
  {
   "cell_type": "code",
   "execution_count": 3,
   "metadata": {
    "collapsed": true
   },
   "outputs": [],
   "source": [
    "ratings_dataset = pd.read_csv(parsed_file)"
   ]
  },
  {
   "cell_type": "code",
   "execution_count": 4,
   "metadata": {
    "collapsed": false
   },
   "outputs": [
    {
     "name": "stdout",
     "output_type": "stream",
     "text": [
      "                  user        item           rating     timestamp\n",
      "count         22507155    22507155  22507155.000000  2.250716e+07\n",
      "unique         8026324     2330066              NaN           NaN\n",
      "top     A14OJS0VWMOSWO  0439023483              NaN           NaN\n",
      "freq             43201       21398              NaN           NaN\n",
      "mean               NaN         NaN         4.295759  1.310415e+09\n",
      "std                NaN         NaN         1.111507  1.106154e+08\n",
      "min                NaN         NaN         1.000000  8.325504e+08\n",
      "25%                NaN         NaN         4.000000  1.274573e+09\n",
      "50%                NaN         NaN         5.000000  1.358813e+09\n",
      "75%                NaN         NaN         5.000000  1.384560e+09\n",
      "max                NaN         NaN         5.000000  1.406074e+09\n"
     ]
    }
   ],
   "source": [
    "print(ratings_dataset.describe(include=\"all\"))"
   ]
  },
  {
   "cell_type": "code",
   "execution_count": 5,
   "metadata": {
    "collapsed": false
   },
   "outputs": [
    {
     "name": "stdout",
     "output_type": "stream",
     "text": [
      "             user        item  rating   timestamp\n",
      "0   AH2L9G3DQHHAJ  0000000116       4  1019865600\n",
      "1  A2IIIDRK3PRRZY  0000000116       1  1395619200\n",
      "2  A1TADCM7YWPQ8M  0000000868       4  1031702400\n",
      "3   AWGH7V0BDOJKB  0000013714       4  1383177600\n",
      "4  A3UTQPQPM4TQO0  0000013714       5  1374883200\n",
      "5   A8ZS0I5L5V31B  0000013714       5  1393632000\n",
      "6   ACNGUPJ3A3TM9  0000013714       4  1386028800\n",
      "7  A3BED5QFJWK88M  0000013714       4  1350345600\n",
      "8  A2SUAM1J3GNN3B  0000013714       5  1252800000\n",
      "9   APOZ15IEYQRRR  0000013714       5  1362787200\n"
     ]
    }
   ],
   "source": [
    "print(ratings_dataset.head(10))"
   ]
  },
  {
   "cell_type": "code",
   "execution_count": 6,
   "metadata": {
    "collapsed": false
   },
   "outputs": [
    {
     "name": "stdout",
     "output_type": "stream",
     "text": [
      "{0.0: 0, 4.443031560408234e-06: 1116862, 1.3329094681224704e-05: 1922390, 1.7772126241632936e-05: 4602555, 2.2215157802041175e-05: 13886788, 8.886063120816468e-06: 978560}\n"
     ]
    }
   ],
   "source": [
    "rating_distribution = dict()\n",
    "rating_distribution[0] = 0\n",
    "\n",
    "s = 0\n",
    "for r in range(1, 6):\n",
    "    rating_distribution[r] = ratings_dataset.loc[ratings_dataset[\"rating\"] == r].count()[\"item\"]\n",
    "    s += rating_distribution[r]\n",
    "    \n",
    "rating_distribution = {float(k)/s*100: v for k, v in rating_distribution.iteritems()}\n",
    "print(rating_distribution)"
   ]
  },
  {
   "cell_type": "code",
   "execution_count": 7,
   "metadata": {
    "collapsed": false
   },
   "outputs": [
    {
     "data": {
      "image/png": "[encoded data removed]",
      "text/plain": [
       "<matplotlib.figure.Figure at 0x7fd4062ebd50>"
      ]
     },
     "metadata": {},
     "output_type": "display_data"
    },
    {
     "name": "stdout",
     "output_type": "stream",
     "text": [
      "{0.0: 0, 4.443031560408234e-06: 1116862, 1.3329094681224704e-05: 1922390, 1.7772126241632936e-05: 4602555, 2.2215157802041175e-05: 13886788, 8.886063120816468e-06: 978560}\n"
     ]
    }
   ],
   "source": [
    "# df.hist(ratings_dataset, column=\"rating\")\n",
    "# n, bins, patches = plt.hist(rating_distribution.values(), normed=True)\n",
    "plt.hist(ratings_dataset[\"rating\"], bins=5, normed=1, facecolor='y', alpha=0.5)\n",
    "plt.show()\n",
    "print(rating_distribution)"
   ]
  },
  {
   "cell_type": "code",
   "execution_count": 18,
   "metadata": {
    "collapsed": false
   },
   "outputs": [
    {
     "name": "stdout",
     "output_type": "stream",
     "text": [
      "['AH2L9G3DQHHAJ' 'A2IIIDRK3PRRZY' 'A1TADCM7YWPQ8M' ..., 'AQSL89CSKJYB1'\n",
      " 'A1CI87FHKK6HVC' 'A8W4BR3HGGS3C']\n",
      "8026324\n"
     ]
    }
   ],
   "source": [
    "# priemerne hodnotenie pre uzivatela\n",
    "users = ratings_dataset[\"user\"].unique()\n",
    "print users\n",
    "print users.__len__()"
   ]
  },
  {
   "cell_type": "code",
   "execution_count": 17,
   "metadata": {
    "collapsed": true
   },
   "outputs": [],
   "source": [
    "avg_for_user = list()\n",
    "\n",
    "for user in np.random.choice(users, 1000):\n",
    "    user_sum = ratings_dataset[ratings_dataset['user'] == user][\"rating\"].sum()\n",
    "    user_len = ratings_dataset[ratings_dataset['user'] == user][\"rating\"].__len__()\n",
    "    user_avg = float(user_sum)/user_len\n",
    "    avg_for_user.append(user_avg)\n",
    "    \n",
    "print(avg_for_user[:20])"
   ]
  },
  {
   "cell_type": "code",
   "execution_count": 30,
   "metadata": {
    "collapsed": false
   },
   "outputs": [
    {
     "data": {
      "image/png": "[encoded data removed]",
      "text/plain": [
       "<matplotlib.figure.Figure at 0x7fd44bd36dd0>"
      ]
     },
     "metadata": {},
     "output_type": "display_data"
    }
   ],
   "source": [
    "plt.hist(avg_for_user, bins=20, normed=1, facecolor='g', alpha=0.5)\n",
    "plt.show()"
   ]
  },
  {
   "cell_type": "code",
   "execution_count": 52,
   "metadata": {
    "collapsed": false
   },
   "outputs": [
    {
     "name": "stdout",
     "output_type": "stream",
     "text": [
      "['0000000116' '0000000868' '0000013714' ..., 'B00M111QCM' 'B00M1336U0'\n",
      " 'B00M13FNSS']\n",
      "2330066\n"
     ]
    }
   ],
   "source": [
    "# priemerne hodnotenie polozky\n",
    "books = ratings_dataset[\"item\"].unique()\n",
    "print books\n",
    "print books.__len__()"
   ]
  },
  {
   "cell_type": "code",
   "execution_count": 56,
   "metadata": {
    "collapsed": false
   },
   "outputs": [
    {
     "name": "stdout",
     "output_type": "stream",
     "text": [
      "[4.333333333333333, 5.0, 5.0, 5.0, 5.0, 5.0, 3.8823529411764706, 1.0, 5.0, 3.6, 4.0, 5.0, 4.333333333333333, 4.615384615384615, 3.6363636363636362, 5.0, 4.166666666666667, 5.0, 5.0, 5.0]\n"
     ]
    }
   ],
   "source": [
    "avg_for_book = list()\n",
    "\n",
    "for book in np.random.choice(books, 1000):\n",
    "    book_sum = ratings_dataset[ratings_dataset['item'] == book][\"rating\"].sum()\n",
    "    book_len = ratings_dataset[ratings_dataset['item'] == book][\"rating\"].__len__()\n",
    "    book_avg = float(book_sum)/book_len\n",
    "    avg_for_book.append(book_avg)\n",
    "    \n",
    "print(avg_for_book[:20])"
   ]
  },
  {
   "cell_type": "code",
   "execution_count": 57,
   "metadata": {
    "collapsed": false
   },
   "outputs": [
    {
     "name": "stdout",
     "output_type": "stream",
     "text": [
      "[4.333333333333333, 5.0, 5.0, 5.0, 5.0, 5.0, 3.8823529411764706, 1.0, 5.0, 3.6, 4.0, 5.0, 4.333333333333333, 4.615384615384615, 3.6363636363636362, 5.0, 4.166666666666667, 5.0, 5.0, 5.0]\n"
     ]
    },
    {
     "data": {
      "image/png": "[encoded data removed]",
      "text/plain": [
       "<matplotlib.figure.Figure at 0x7fd44ba46290>"
      ]
     },
     "metadata": {},
     "output_type": "display_data"
    }
   ],
   "source": [
    "print(avg_for_book[:20])\n",
    "plt.hist(avg_for_book, bins=20, normed=1, facecolor='b', alpha=0.5)\n",
    "plt.show()"
   ]
  },
  {
   "cell_type": "code",
   "execution_count": null,
   "metadata": {
    "collapsed": true
   },
   "outputs": [],
   "source": [
    ""
   ]
  }
 ],
 "metadata": {
  "kernelspec": {
   "display_name": "Python 2",
   "language": "python",
   "name": "python2"
  },
  "language_info": {
   "codemirror_mode": {
    "name": "ipython",
    "version": 2.0
   },
   "file_extension": ".py",
   "mimetype": "text/x-python",
   "name": "python",
   "nbconvert_exporter": "python",
   "pygments_lexer": "ipython2",
   "version": "2.7.8"
  }
 },
 "nbformat": 4,
 "nbformat_minor": 0
}
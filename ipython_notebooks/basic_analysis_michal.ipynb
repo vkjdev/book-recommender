{
 "cells": [
  {
   "cell_type": "code",
   "execution_count": 2,
   "metadata": {
    "collapsed": true
   },
   "outputs": [],
   "source": [
    "import pandas as pd\n",
    "import matplotlib.pyplot as plt\n",
    "from pandas import DataFrame as df\n",
    "import numpy as np\n",
    "%matplotlib inline\n",
    "\n",
    "parsed_file = \"/home/michal/Documents/Misc/recommenders/vcs/book-recommender/data/ratings_Books.csv\""
   ]
  },
  {
   "cell_type": "code",
   "execution_count": 3,
   "metadata": {},
   "outputs": [],
   "source": [
    "ratings_dataset = pd.read_csv(parsed_file)"
   ]
  },
  {
   "cell_type": "code",
   "execution_count": 4,
   "metadata": {},
   "outputs": [
    {
     "name": "stdout",
     "output_type": "stream",
     "text": [
      "                  user        item           rating     timestamp\ncount         22507155    22507155  22507155.000000  2.250716e+07\nunique         8026324     2330066              NaN           NaN\ntop     A14OJS0VWMOSWO  0439023483              NaN           NaN\nfreq             43201       21398              NaN           NaN\nmean               NaN         NaN         4.295759  1.310415e+09\nstd                NaN         NaN         1.111507  1.106154e+08\nmin                NaN         NaN         1.000000  8.325504e+08\n25%                NaN         NaN         4.000000  1.274573e+09\n50%                NaN         NaN         5.000000  1.358813e+09\n75%                NaN         NaN         5.000000  1.384560e+09\nmax                NaN         NaN         5.000000  1.406074e+09\n"
     ]
    }
   ],
   "source": [
    "print(ratings_dataset.describe(include=\"all\"))"
   ]
  },
  {
   "cell_type": "code",
   "execution_count": 5,
   "metadata": {},
   "outputs": [
    {
     "name": "stdout",
     "output_type": "stream",
     "text": [
      "             user        item  rating   timestamp\n0   AH2L9G3DQHHAJ  0000000116       4  1019865600\n1  A2IIIDRK3PRRZY  0000000116       1  1395619200\n2  A1TADCM7YWPQ8M  0000000868       4  1031702400\n3   AWGH7V0BDOJKB  0000013714       4  1383177600\n4  A3UTQPQPM4TQO0  0000013714       5  1374883200\n5   A8ZS0I5L5V31B  0000013714       5  1393632000\n6   ACNGUPJ3A3TM9  0000013714       4  1386028800\n7  A3BED5QFJWK88M  0000013714       4  1350345600\n8  A2SUAM1J3GNN3B  0000013714       5  1252800000\n9   APOZ15IEYQRRR  0000013714       5  1362787200\n"
     ]
    }
   ],
   "source": [
    "print(ratings_dataset.head(10))"
   ]
  },
  {
   "cell_type": "code",
   "execution_count": 6,
   "metadata": {},
   "outputs": [
    {
     "name": "stdout",
     "output_type": "stream",
     "text": [
      "{0.0: 0, 4.443031560408234e-06: 1116862, 1.3329094681224704e-05: 1922390, 1.7772126241632936e-05: 4602555, 2.2215157802041175e-05: 13886788, 8.886063120816468e-06: 978560}\n"
     ]
    }
   ],
   "source": [
    "rating_distribution = dict()\n",
    "rating_distribution[0] = 0\n",
    "\n",
    "s = 0\n",
    "for r in range(1, 6):\n",
    "    rating_distribution[r] = ratings_dataset.loc[ratings_dataset[\"rating\"] == r].count()[\"item\"]\n",
    "    s += rating_distribution[r]\n",
    "    \n",
    "rating_distribution = {float(k)/s*100: v for k, v in rating_distribution.iteritems()}\n",
    "print(rating_distribution)"
   ]
  },
  {
   "cell_type": "code",
   "execution_count": 7,
   "metadata": {},
   "outputs": [
    {
     "data": {
      "image/png": "[encoded data removed]",
      "text/plain": [
       "<matplotlib.figure.Figure at 0x7fd4062ebd50>"
      ]
     },
     "metadata": {},
     "output_type": "display_data"
    },
    {
     "name": "stdout",
     "output_type": "stream",
     "text": [
      "{0.0: 0, 4.443031560408234e-06: 1116862, 1.3329094681224704e-05: 1922390, 1.7772126241632936e-05: 4602555, 2.2215157802041175e-05: 13886788, 8.886063120816468e-06: 978560}\n"
     ]
    }
   ],
   "source": [
    "# df.hist(ratings_dataset, column=\"rating\")\n",
    "# n, bins, patches = plt.hist(rating_distribution.values(), normed=True)\n",
    "plt.hist(ratings_dataset[\"rating\"], bins=5, normed=1, facecolor='y', alpha=0.5)\n",
    "plt.show()\n",
    "print(rating_distribution)"
   ]
  },
  {
   "cell_type": "code",
   "execution_count": 18,
   "metadata": {},
   "outputs": [
    {
     "name": "stdout",
     "output_type": "stream",
     "text": [
      "['AH2L9G3DQHHAJ' 'A2IIIDRK3PRRZY' 'A1TADCM7YWPQ8M' ..., 'AQSL89CSKJYB1'\n 'A1CI87FHKK6HVC' 'A8W4BR3HGGS3C']\n8026324\n"
     ]
    }
   ],
   "source": [
    "# priemerne hodnotenie pre uzivatela\n",
    "users = ratings_dataset[\"user\"].unique()\n",
    "print users\n",
    "print users.__len__()"
   ]
  },
  {
   "cell_type": "code",
   "execution_count": 17,
   "metadata": {},
   "outputs": [],
   "source": [
    "avg_for_user = list()\n",
    "\n",
    "for user in np.random.choice(users, 1000):\n",
    "    user_sum = ratings_dataset[ratings_dataset['user'] == user][\"rating\"].sum()\n",
    "    user_len = ratings_dataset[ratings_dataset['user'] == user][\"rating\"].__len__()\n",
    "    user_avg = float(user_sum)/user_len\n",
    "    avg_for_user.append(user_avg)\n",
    "    \n",
    "print(avg_for_user[:20])"
   ]
  },
  {
   "cell_type": "code",
   "execution_count": 30,
   "metadata": {},
   "outputs": [
    {
     "data": {
      "image/png": "[encoded data removed]",
      "text/plain": [
       "<matplotlib.figure.Figure at 0x7fd44bd36dd0>"
      ]
     },
     "metadata": {},
     "output_type": "display_data"
    }
   ],
   "source": [
    "plt.hist(avg_for_user, bins=20, normed=1, facecolor='g', alpha=0.5)\n",
    "plt.show()"
   ]
  },
  {
   "cell_type": "code",
   "execution_count": 31,
   "metadata": {},
   "outputs": [
    {
     "name": "stdout",
     "output_type": "stream",
     "text": [
      "['AH2L9G3DQHHAJ' 'A2IIIDRK3PRRZY' 'A1TADCM7YWPQ8M' ..., 'AQSL89CSKJYB1'\n 'A1CI87FHKK6HVC' 'A8W4BR3HGGS3C']\n8026324\n"
     ]
    }
   ],
   "source": [
    "# priemerne hodnotenie polozky\n",
    "books = ratings_dataset[\"item\"].unique()\n",
    "print users\n",
    "print users.__len__()"
   ]
  },
  {
   "cell_type": "code",
   "execution_count": null,
   "metadata": {},
   "outputs": [],
   "source": [
    "avg_for_book = list()\n",
    "\n",
    "for book in np.random.choice(books, 100):\n",
    "    book_sum = ratings_dataset[ratings_dataset['item'] == user][\"rating\"].sum()\n",
    "    book_len = ratings_dataset[ratings_dataset['item'] == user][\"rating\"].__len__()\n",
    "    book_avg = float(user_sum)/user_len\n",
    "    avg_for_book.append(user_avg)\n",
    "    \n",
    "print(avg_for_user[:20])"
   ]
  },
  {
   "cell_type": "code",
   "execution_count": null,
   "metadata": {},
   "outputs": [],
   "source": [
    "plt.hist(avg_for_book, bins=20, normed=1, facecolor='g', alpha=0.5)\n",
    "plt.show()"
   ]
  },
  {
   "cell_type": "code",
   "execution_count": null,
   "metadata": {},
   "outputs": [],
   "source": [
    ""
   ]
  }
 ],
 "metadata": {
  "kernelspec": {
   "display_name": "Python 2",
   "language": "python",
   "name": "python2"
  },
  "language_info": {
   "codemirror_mode": {
    "name": "ipython",
    "version": 2.0
   },
   "file_extension": ".py",
   "mimetype": "text/x-python",
   "name": "python",
   "nbconvert_exporter": "python",
   "pygments_lexer": "ipython2",
   "version": "2.7.6"
  }
 },
 "nbformat": 4,
 "nbformat_minor": 0
}
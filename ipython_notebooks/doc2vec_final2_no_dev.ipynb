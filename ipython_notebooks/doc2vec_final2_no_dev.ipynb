{
 "cells": [
  {
   "cell_type": "code",
   "execution_count": 2,
   "metadata": {
    "collapsed": false
   },
   "outputs": [],
   "source": [
    "import pandas as pd\n",
    "from datetime import datetime\n",
    "from gensim.models.word2vec import Word2Vec\n",
    "from gensim.models.doc2vec import Doc2Vec\n",
    "from gensim.models.doc2vec import TaggedDocument\n",
    "import time\n",
    "import numpy as np\n",
    "from collections import Counter\n",
    "from matplotlib import pyplot as plt\n",
    "import cPickle\n",
    "CSV_PATH='/home/kvassay/data/book-recommender/ratings_Books.csv'\n",
    "QUESTIONS_PATH='/home/kvassay/data/book-recommender/questions.txt'\n",
    "MODELS_FOLDER='/home/kvassay/data/book-recommender/models_no_dev/'\n",
    "BEST_CFG_PATH='/home/kvassay/data/book-recommender/best_cfg.dump'\n",
    "%matplotlib inline"
   ]
  },
  {
   "cell_type": "code",
   "execution_count": 3,
   "metadata": {
    "collapsed": false
   },
   "outputs": [
    {
     "name": "stderr",
     "output_type": "stream",
     "text": [
      "2016-12-14 14:32:34,875 - root - INFO - Logger works.\n"
     ]
    }
   ],
   "source": [
    "import logging\n",
    "logger = logging.getLogger()\n",
    "logger.setLevel('INFO')\n",
    "ch = logging.StreamHandler()\n",
    "ch.setLevel(logging.DEBUG)\n",
    "formatter = logging.Formatter('%(asctime)s - %(name)s - %(levelname)s - %(message)s')\n",
    "ch.setFormatter(formatter)\n",
    "# add the handlers to the logger\n",
    "logger.addHandler(ch)\n",
    "logger.info('Logger works.') #to prevent duplicate logs"
   ]
  },
  {
   "cell_type": "markdown",
   "metadata": {},
   "source": [
    "### Reading and sorting data"
   ]
  },
  {
   "cell_type": "code",
   "execution_count": 4,
   "metadata": {
    "collapsed": false
   },
   "outputs": [],
   "source": [
    "raw_data=pd.read_csv(CSV_PATH,header=0,names=['user','item','rating','timestamp'])"
   ]
  },
  {
   "cell_type": "markdown",
   "metadata": {},
   "source": [
    "### Dumping data < 2013."
   ]
  },
  {
   "cell_type": "code",
   "execution_count": 5,
   "metadata": {
    "collapsed": false
   },
   "outputs": [],
   "source": [
    "raw_data=raw_data[raw_data['timestamp']>1356998400]"
   ]
  },
  {
   "cell_type": "markdown",
   "metadata": {},
   "source": [
    "### Extract user-item impressions dict"
   ]
  },
  {
   "cell_type": "code",
   "execution_count": 6,
   "metadata": {
    "collapsed": false
   },
   "outputs": [],
   "source": [
    "def split(raw_data, quantile=0.7):\n",
    "    q=raw_data['timestamp'].quantile(quantile)\n",
    "    return raw_data[raw_data['timestamp']<=q], raw_data[raw_data['timestamp']>q]\n",
    "\n",
    "def get_user_items_dict(data, min_ratings, max_ratings):\n",
    "    user_item_dict=dict()\n",
    "    for row in data.itertuples():\n",
    "        if row.user in user_item_dict:\n",
    "            user_item_dict[row.user].append(row.item)\n",
    "        else:\n",
    "            user_item_dict[row.user]=[row.item]\n",
    "    user_item_dict_clean={key: value for key,value in user_item_dict.iteritems() if len(value)>=min_ratings and len(value)<max_ratings}\n",
    "    return user_item_dict_clean\n",
    "\n",
    "def get_user_items_list_lengths(user_item_dict):\n",
    "    return pd.DataFrame(sorted([len(item_list) for _,item_list in user_item_dict.iteritems()]))\n",
    "    \n",
    "\n",
    "def remove_users_not_in_train(train_dict, other_dict):\n",
    "    #intersection=set(other_dict.keys()) & set(train_dict.keys())\n",
    "    #n_intersection=len(intersection)\n",
    "    #new_dict={key: other_dict[key] for key in intersection}\n",
    "    #len_before=len(other_dict)\n",
    "    #n_removed = len_before - len(new_dict)\n",
    "    #logger.info('Removed %s users which weren\\'t in the training set. Intersection cardinality: %s...', n_removed, n_intersection)\n",
    "    keys=other_dict.keys()\n",
    "    for key in keys:\n",
    "        if not key in train_dict:\n",
    "            del other_dict[key]\n",
    "    return other_dict"
   ]
  },
  {
   "cell_type": "markdown",
   "metadata": {},
   "source": [
    "### Train-test split"
   ]
  },
  {
   "cell_type": "code",
   "execution_count": 7,
   "metadata": {
    "collapsed": false
   },
   "outputs": [],
   "source": [
    "raw_train, raw_test = split(raw_data)"
   ]
  },
  {
   "cell_type": "code",
   "execution_count": 8,
   "metadata": {
    "collapsed": false
   },
   "outputs": [],
   "source": [
    "user_item_train = get_user_items_dict(raw_train, min_ratings=10, max_ratings=100)\n",
    "user_item_test = get_user_items_dict(raw_test, min_ratings=1, max_ratings=100)\n",
    "user_item_test = remove_users_not_in_train(user_item_train, user_item_test)"
   ]
  },
  {
   "cell_type": "markdown",
   "metadata": {},
   "source": [
    "### Training dataset Analysis"
   ]
  },
  {
   "cell_type": "markdown",
   "metadata": {},
   "source": [
    "#### User count"
   ]
  },
  {
   "cell_type": "code",
   "execution_count": 9,
   "metadata": {
    "collapsed": false
   },
   "outputs": [
    {
     "data": {
      "text/plain": [
       "94722"
      ]
     },
     "execution_count": 9,
     "metadata": {},
     "output_type": "execute_result"
    }
   ],
   "source": [
    "len(user_item_train.keys())"
   ]
  },
  {
   "cell_type": "markdown",
   "metadata": {},
   "source": [
    "#### Item count distribution per user"
   ]
  },
  {
   "cell_type": "code",
   "execution_count": 10,
   "metadata": {
    "collapsed": false,
    "scrolled": true
   },
   "outputs": [],
   "source": [
    "item_counts_train=get_user_items_list_lengths(user_item_train)\n",
    "item_counts_test=get_user_items_list_lengths(user_item_test)"
   ]
  },
  {
   "cell_type": "code",
   "execution_count": 11,
   "metadata": {
    "collapsed": false,
    "scrolled": true
   },
   "outputs": [
    {
     "data": {
      "text/html": [
       "<div>\n",
       "<table border=\"1\" class=\"dataframe\">\n",
       "  <thead>\n",
       "    <tr style=\"text-align: right;\">\n",
       "      <th></th>\n",
       "      <th>0</th>\n",
       "    </tr>\n",
       "  </thead>\n",
       "  <tbody>\n",
       "    <tr>\n",
       "      <th>count</th>\n",
       "      <td>94722.000000</td>\n",
       "    </tr>\n",
       "    <tr>\n",
       "      <th>mean</th>\n",
       "      <td>20.397173</td>\n",
       "    </tr>\n",
       "    <tr>\n",
       "      <th>std</th>\n",
       "      <td>14.792865</td>\n",
       "    </tr>\n",
       "    <tr>\n",
       "      <th>min</th>\n",
       "      <td>10.000000</td>\n",
       "    </tr>\n",
       "    <tr>\n",
       "      <th>25%</th>\n",
       "      <td>11.000000</td>\n",
       "    </tr>\n",
       "    <tr>\n",
       "      <th>50%</th>\n",
       "      <td>15.000000</td>\n",
       "    </tr>\n",
       "    <tr>\n",
       "      <th>75%</th>\n",
       "      <td>23.000000</td>\n",
       "    </tr>\n",
       "    <tr>\n",
       "      <th>max</th>\n",
       "      <td>99.000000</td>\n",
       "    </tr>\n",
       "  </tbody>\n",
       "</table>\n",
       "</div>"
      ],
      "text/plain": [
       "                  0\n",
       "count  94722.000000\n",
       "mean      20.397173\n",
       "std       14.792865\n",
       "min       10.000000\n",
       "25%       11.000000\n",
       "50%       15.000000\n",
       "75%       23.000000\n",
       "max       99.000000"
      ]
     },
     "execution_count": 11,
     "metadata": {},
     "output_type": "execute_result"
    }
   ],
   "source": [
    "item_counts_train.describe()"
   ]
  },
  {
   "cell_type": "code",
   "execution_count": 12,
   "metadata": {
    "collapsed": false
   },
   "outputs": [
    {
     "data": {
      "text/html": [
       "<div>\n",
       "<table border=\"1\" class=\"dataframe\">\n",
       "  <thead>\n",
       "    <tr style=\"text-align: right;\">\n",
       "      <th></th>\n",
       "      <th>0</th>\n",
       "    </tr>\n",
       "  </thead>\n",
       "  <tbody>\n",
       "    <tr>\n",
       "      <th>count</th>\n",
       "      <td>66877.000000</td>\n",
       "    </tr>\n",
       "    <tr>\n",
       "      <th>mean</th>\n",
       "      <td>8.005742</td>\n",
       "    </tr>\n",
       "    <tr>\n",
       "      <th>std</th>\n",
       "      <td>10.458562</td>\n",
       "    </tr>\n",
       "    <tr>\n",
       "      <th>min</th>\n",
       "      <td>1.000000</td>\n",
       "    </tr>\n",
       "    <tr>\n",
       "      <th>25%</th>\n",
       "      <td>2.000000</td>\n",
       "    </tr>\n",
       "    <tr>\n",
       "      <th>50%</th>\n",
       "      <td>4.000000</td>\n",
       "    </tr>\n",
       "    <tr>\n",
       "      <th>75%</th>\n",
       "      <td>10.000000</td>\n",
       "    </tr>\n",
       "    <tr>\n",
       "      <th>max</th>\n",
       "      <td>99.000000</td>\n",
       "    </tr>\n",
       "  </tbody>\n",
       "</table>\n",
       "</div>"
      ],
      "text/plain": [
       "                  0\n",
       "count  66877.000000\n",
       "mean       8.005742\n",
       "std       10.458562\n",
       "min        1.000000\n",
       "25%        2.000000\n",
       "50%        4.000000\n",
       "75%       10.000000\n",
       "max       99.000000"
      ]
     },
     "execution_count": 12,
     "metadata": {},
     "output_type": "execute_result"
    }
   ],
   "source": [
    "item_counts_test.describe()"
   ]
  },
  {
   "cell_type": "code",
   "execution_count": 13,
   "metadata": {
    "collapsed": false,
    "scrolled": true
   },
   "outputs": [
    {
     "data": {
      "text/plain": [
       "array([[<matplotlib.axes._subplots.AxesSubplot object at 0x7fe678c08c10>]], dtype=object)"
      ]
     },
     "execution_count": 13,
     "metadata": {},
     "output_type": "execute_result"
    },
    {
     "data": {
      "image/png": "[encoded data removed]",
      "text/plain": [
       "<matplotlib.figure.Figure at 0x7fe6ab7d5fd0>"
      ]
     },
     "metadata": {},
     "output_type": "display_data"
    },
    {
     "data": {
      "image/png": "[encoded data removed]",
      "text/plain": [
       "<matplotlib.figure.Figure at 0x7fe6acd4cb50>"
      ]
     },
     "metadata": {},
     "output_type": "display_data"
    }
   ],
   "source": [
    "nbins=100\n",
    "item_counts_train.hist(bins=nbins)\n",
    "item_counts_test.hist(bins=nbins)"
   ]
  },
  {
   "cell_type": "markdown",
   "metadata": {},
   "source": [
    "### Limiting dataset sizes\n",
    "\n",
    "Especially evaluations take a lot of time, limiting dataset sizes might be useful."
   ]
  },
  {
   "cell_type": "code",
   "execution_count": 14,
   "metadata": {
    "collapsed": true
   },
   "outputs": [],
   "source": [
    "#for testing:\n",
    "TRAIN_SIZE=100000\n",
    "TEST_SIZE=1000\n",
    "'''\n",
    "In addition to limiting the dataset sizes we need to make sure, \n",
    "that all users from DEV and TEST set are present in TRAIN set.\n",
    "To do that we simply add them to TRAIN set after limiting.\n",
    "'''\n",
    "user_item_train_tmp={key: user_item_train[key] for key in user_item_train.keys()[:TRAIN_SIZE]}\n",
    "user_item_test={key: user_item_test[key] for key in user_item_test.keys()[:TEST_SIZE]}\n",
    "for usr in user_item_test:\n",
    "    if usr not in user_item_train_tmp:\n",
    "        user_item_train_tmp[usr]=user_item_train[usr]\n",
    "user_item_train=user_item_train_tmp"
   ]
  },
  {
   "cell_type": "code",
   "execution_count": 15,
   "metadata": {
    "collapsed": false
   },
   "outputs": [
    {
     "name": "stdout",
     "output_type": "stream",
     "text": [
      "[94722, 1000]\n"
     ]
    }
   ],
   "source": [
    "print([len(user_item_train), len(user_item_test)])"
   ]
  },
  {
   "cell_type": "markdown",
   "metadata": {},
   "source": [
    "### Training data preparation\n",
    "For Gensim"
   ]
  },
  {
   "cell_type": "code",
   "execution_count": 19,
   "metadata": {
    "collapsed": false
   },
   "outputs": [],
   "source": [
    "train_data=[TaggedDocument([unicode(word) for word in words], [user_id]) for user_id, words in user_item_train.iteritems()]"
   ]
  },
  {
   "cell_type": "markdown",
   "metadata": {},
   "source": [
    "### Baseline model and evaluation function\n",
    "Evaluation methods and Baseline model for comparison."
   ]
  },
  {
   "cell_type": "code",
   "execution_count": 20,
   "metadata": {
    "collapsed": false
   },
   "outputs": [],
   "source": [
    "class BaselineModel():\n",
    "    '''\n",
    "    Always returns k most frequent items.\n",
    "    '''\n",
    "    def __init__(self,train_set,topn=100):\n",
    "        logger.info('Couting %s most frequent items for BaselineModel...',topn)\n",
    "        items=list()\n",
    "        for key in train_set:\n",
    "            items.extend(train_set[key])\n",
    "        counter=Counter(items)\n",
    "        self.result=counter.most_common(topn)\n",
    "        logger.info('BaselineModel initialized...')\n",
    "        \n",
    "    def most_similar(self, positive=None, topn=None):\n",
    "        #parameters are there just for compatibility with Gensim model evaluator\n",
    "        return self.result\n",
    "        \n",
    "        \n",
    "def percentage(part, whole):\n",
    "    return 100 * float(part)/float(whole)\n",
    "\n",
    "def evaluate_score(model, train_set, test_set, topn=10, limit_users=None):\n",
    "    '''\n",
    "    Asks model for k recommendations based on users data in the past (train_set)\n",
    "    and looks if at least one of them appeared in the future (test_set). In the end\n",
    "    evaluator returns in how many % cases it did.\n",
    "    '''\n",
    "    rec_count=0\n",
    "    confirmed_match=0\n",
    "    if limit_users is not None:\n",
    "        users=test_set.keys()[:limit_users]\n",
    "        np.random.shuffle(users)\n",
    "    else:\n",
    "        users=test_set.keys()\n",
    "    for user in users:\n",
    "        train_items=train_set[user]\n",
    "        test_data=test_set[user]\n",
    "        recommended=[tupl[0] for tupl in model.most_similar(positive=train_items, topn=topn*10) if tupl[0] not in train_items]\n",
    "        recommended=recommended[:topn]\n",
    "        for item in recommended:\n",
    "            if item in test_data:\n",
    "                confirmed_match+=1\n",
    "        rec_count+=topn\n",
    "    return percentage(confirmed_match,rec_count)\n",
    "    \n",
    "    "
   ]
  },
  {
   "cell_type": "markdown",
   "metadata": {},
   "source": [
    "\n",
    "### Doc2Vec models training"
   ]
  },
  {
   "cell_type": "code",
   "execution_count": 29,
   "metadata": {
    "collapsed": false
   },
   "outputs": [],
   "source": [
    "def train(persist=False, decrease_alpha=False):\n",
    "    '''\n",
    "    Initializing model\n",
    "    '''\n",
    "    logger.info('Initializing model...')\n",
    "    with open(BEST_CFG_PATH, 'r') as f:\n",
    "        cfg=cPickle.load(f)\n",
    "    model = Doc2Vec(alpha=cfg['alpha'], min_alpha=cfg['alpha'], min_count=cfg['min_count'], size=cfg['size'],\n",
    "                    window=cfg['window'], negative=cfg['negative'])  # use fixed learning rate\n",
    "    logger.info('Building vocabulary...')\n",
    "    logger.setLevel(logging.ERROR)\n",
    "    start=time.time()\n",
    "    model.build_vocab(train_data)\n",
    "    dur=time.time()-start\n",
    "    logger.setLevel(logging.INFO)\n",
    "    logger.info('Building vocabulary took %s seconds...', dur)\n",
    "    '''\n",
    "    Learning model for multiple epochs, after each model is persisted to HDD.\n",
    "    '''\n",
    "\n",
    "    start=time.time()\n",
    "    logger.info('Shuffling training data')\n",
    "    '''\n",
    "    Data are shuffled before each iteration to ensure ordering \n",
    "    won't corrupt gradient computation and not cause overfitting on some local minima\n",
    "    '''\n",
    "    np.random.shuffle(train_data)\n",
    "    dur=time.time()-start\n",
    "    logger.info('Shuffling training set took %s seconds...', dur)\n",
    "    start=time.time()\n",
    "    model_save_path=MODELS_FOLDER+'doc2vec_model'\n",
    "    '''\n",
    "    Training\n",
    "    '''\n",
    "    logger.info('Training...')\n",
    "    model.train(train_data)\n",
    "    if persist:\n",
    "        '''\n",
    "        Persisting\n",
    "        '''\n",
    "        model.save(model_save_path)\n",
    "    if decrease_alpha:\n",
    "        model.alpha -= 0.0005  # decrease the learning rate\n",
    "    model.min_alpha = model.alpha  # fix the learning rate, no decay\n",
    "    logger.setLevel(logging.INFO)\n",
    "    dur=time.time()-start\n",
    "    logger.info('Training model took %s seconds...', dur)\n",
    "    return model"
   ]
  },
  {
   "cell_type": "code",
   "execution_count": 30,
   "metadata": {
    "collapsed": true
   },
   "outputs": [
    {
     "name": "stderr",
     "output_type": "stream",
     "text": [
      "2016-12-14 14:42:42,826 - root - INFO - Initializing model...\n",
      "2016-12-14 14:42:42,828 - root - INFO - Building vocabulary...\n",
      "2016-12-14 14:43:16,796 - root - INFO - Building vocabulary took 33.9662659168 seconds...\n",
      "2016-12-14 14:43:16,797 - root - INFO - Shuffling training data\n",
      "2016-12-14 14:43:16,807 - root - INFO - Shuffling training set took 0.00956010818481 seconds...\n",
      "2016-12-14 14:43:16,808 - root - INFO - Training...\n",
      "2016-12-14 14:43:16,809 - gensim.models.word2vec - INFO - training model with 1 workers on 463078 vocabulary and 300 features, using sg=0 hs=1 sample=0 negative=5\n",
      "2016-12-14 14:43:16,809 - gensim.models.word2vec - INFO - expecting 94722 sentences, matching count from corpus used for vocabulary survey\n",
      "2016-12-14 14:43:17,963 - gensim.models.word2vec - INFO - PROGRESS: at 0.21% examples, 18193 words/s, in_qsize 2, out_qsize 0\n",
      "2016-12-14 14:43:19,056 - gensim.models.word2vec - INFO - PROGRESS: at 0.82% examples, 37329 words/s, in_qsize 1, out_qsize 0\n",
      "2016-12-14 14:43:20,174 - gensim.models.word2vec - INFO - PROGRESS: at 1.64% examples, 49797 words/s, in_qsize 1, out_qsize 0\n",
      "2016-12-14 14:43:21,178 - gensim.models.word2vec - INFO - PROGRESS: at 2.49% examples, 57550 words/s, in_qsize 1, out_qsize 0\n",
      "2016-12-14 14:43:22,257 - gensim.models.word2vec - INFO - PROGRESS: at 3.41% examples, 63451 words/s, in_qsize 2, out_qsize 0\n",
      "2016-12-14 14:43:23,334 - gensim.models.word2vec - INFO - PROGRESS: at 4.35% examples, 67429 words/s, in_qsize 2, out_qsize 0\n",
      "2016-12-14 14:43:24,361 - gensim.models.word2vec - INFO - PROGRESS: at 5.16% examples, 69330 words/s, in_qsize 2, out_qsize 0\n",
      "2016-12-14 14:43:25,458 - gensim.models.word2vec - INFO - PROGRESS: at 6.08% examples, 71429 words/s, in_qsize 2, out_qsize 0\n",
      "2016-12-14 14:43:26,609 - gensim.models.word2vec - INFO - PROGRESS: at 6.92% examples, 71602 words/s, in_qsize 1, out_qsize 0\n",
      "2016-12-14 14:43:27,716 - gensim.models.word2vec - INFO - PROGRESS: at 7.84% examples, 72969 words/s, in_qsize 2, out_qsize 0\n",
      "2016-12-14 14:43:28,815 - gensim.models.word2vec - INFO - PROGRESS: at 8.67% examples, 73273 words/s, in_qsize 1, out_qsize 0\n",
      "2016-12-14 14:43:29,887 - gensim.models.word2vec - INFO - PROGRESS: at 9.61% examples, 74479 words/s, in_qsize 1, out_qsize 0\n",
      "2016-12-14 14:43:30,973 - gensim.models.word2vec - INFO - PROGRESS: at 10.55% examples, 75431 words/s, in_qsize 2, out_qsize 0\n",
      "2016-12-14 14:43:31,974 - gensim.models.word2vec - INFO - PROGRESS: at 11.38% examples, 75978 words/s, in_qsize 2, out_qsize 0\n",
      "2016-12-14 14:43:33,077 - gensim.models.word2vec - INFO - PROGRESS: at 12.31% examples, 76624 words/s, in_qsize 1, out_qsize 0\n",
      "2016-12-14 14:43:34,131 - gensim.models.word2vec - INFO - PROGRESS: at 13.14% examples, 76798 words/s, in_qsize 2, out_qsize 0\n",
      "2016-12-14 14:43:35,156 - gensim.models.word2vec - INFO - PROGRESS: at 13.98% examples, 77078 words/s, in_qsize 2, out_qsize 0\n",
      "2016-12-14 14:43:36,172 - gensim.models.word2vec - INFO - PROGRESS: at 14.81% examples, 77364 words/s, in_qsize 1, out_qsize 0\n",
      "2016-12-14 14:43:37,175 - gensim.models.word2vec - INFO - PROGRESS: at 15.62% examples, 77665 words/s, in_qsize 2, out_qsize 0\n",
      "2016-12-14 14:43:38,190 - gensim.models.word2vec - INFO - PROGRESS: at 16.45% examples, 77898 words/s, in_qsize 1, out_qsize 0\n",
      "2016-12-14 14:43:39,300 - gensim.models.word2vec - INFO - PROGRESS: at 17.38% examples, 78253 words/s, in_qsize 2, out_qsize 0\n",
      "2016-12-14 14:43:40,376 - gensim.models.word2vec - INFO - PROGRESS: at 18.22% examples, 78236 words/s, in_qsize 2, out_qsize 0\n",
      "2016-12-14 14:43:41,458 - gensim.models.word2vec - INFO - PROGRESS: at 19.14% examples, 78626 words/s, in_qsize 2, out_qsize 0\n",
      "2016-12-14 14:43:42,555 - gensim.models.word2vec - INFO - PROGRESS: at 20.05% examples, 78934 words/s, in_qsize 2, out_qsize 0\n",
      "2016-12-14 14:43:43,624 - gensim.models.word2vec - INFO - PROGRESS: at 20.98% examples, 79300 words/s, in_qsize 1, out_qsize 0\n",
      "2016-12-14 14:43:44,737 - gensim.models.word2vec - INFO - PROGRESS: at 21.91% examples, 79519 words/s, in_qsize 1, out_qsize 0\n",
      "2016-12-14 14:43:45,771 - gensim.models.word2vec - INFO - PROGRESS: at 22.65% examples, 79213 words/s, in_qsize 2, out_qsize 0\n",
      "2016-12-14 14:43:46,879 - gensim.models.word2vec - INFO - PROGRESS: at 23.46% examples, 79077 words/s, in_qsize 2, out_qsize 0\n",
      "2016-12-14 14:43:47,928 - gensim.models.word2vec - INFO - PROGRESS: at 24.41% examples, 79444 words/s, in_qsize 1, out_qsize 0\n",
      "2016-12-14 14:43:49,012 - gensim.models.word2vec - INFO - PROGRESS: at 25.31% examples, 79692 words/s, in_qsize 2, out_qsize 0\n",
      "2016-12-14 14:43:50,065 - gensim.models.word2vec - INFO - PROGRESS: at 26.25% examples, 80004 words/s, in_qsize 2, out_qsize 0\n",
      "2016-12-14 14:43:51,139 - gensim.models.word2vec - INFO - PROGRESS: at 27.17% examples, 80245 words/s, in_qsize 2, out_qsize 0\n",
      "2016-12-14 14:43:52,175 - gensim.models.word2vec - INFO - PROGRESS: at 28.10% examples, 80562 words/s, in_qsize 2, out_qsize 0\n",
      "2016-12-14 14:43:53,216 - gensim.models.word2vec - INFO - PROGRESS: at 29.04% examples, 80850 words/s, in_qsize 2, out_qsize 0\n",
      "2016-12-14 14:43:54,259 - gensim.models.word2vec - INFO - PROGRESS: at 29.97% examples, 81115 words/s, in_qsize 2, out_qsize 0\n",
      "2016-12-14 14:43:55,293 - gensim.models.word2vec - INFO - PROGRESS: at 30.91% examples, 81386 words/s, in_qsize 2, out_qsize 0\n",
      "2016-12-14 14:43:56,328 - gensim.models.word2vec - INFO - PROGRESS: at 31.84% examples, 81638 words/s, in_qsize 1, out_qsize 0\n",
      "2016-12-14 14:43:57,366 - gensim.models.word2vec - INFO - PROGRESS: at 32.79% examples, 81878 words/s, in_qsize 2, out_qsize 0\n",
      "2016-12-14 14:43:58,416 - gensim.models.word2vec - INFO - PROGRESS: at 33.71% examples, 82073 words/s, in_qsize 2, out_qsize 0\n",
      "2016-12-14 14:43:59,426 - gensim.models.word2vec - INFO - PROGRESS: at 34.55% examples, 82098 words/s, in_qsize 1, out_qsize 0\n",
      "2016-12-14 14:44:00,524 - gensim.models.word2vec - INFO - PROGRESS: at 35.48% examples, 82190 words/s, in_qsize 2, out_qsize 0\n",
      "2016-12-14 14:44:01,568 - gensim.models.word2vec - INFO - PROGRESS: at 36.39% examples, 82377 words/s, in_qsize 2, out_qsize 0\n",
      "2016-12-14 14:44:02,605 - gensim.models.word2vec - INFO - PROGRESS: at 37.33% examples, 82570 words/s, in_qsize 2, out_qsize 0\n",
      "2016-12-14 14:44:03,643 - gensim.models.word2vec - INFO - PROGRESS: at 38.27% examples, 82753 words/s, in_qsize 2, out_qsize 0\n",
      "2016-12-14 14:44:04,680 - gensim.models.word2vec - INFO - PROGRESS: at 39.19% examples, 82929 words/s, in_qsize 2, out_qsize 0\n",
      "2016-12-14 14:44:05,728 - gensim.models.word2vec - INFO - PROGRESS: at 40.10% examples, 83079 words/s, in_qsize 2, out_qsize 0\n",
      "2016-12-14 14:44:06,778 - gensim.models.word2vec - INFO - PROGRESS: at 41.03% examples, 83221 words/s, in_qsize 2, out_qsize 0\n",
      "2016-12-14 14:44:07,875 - gensim.models.word2vec - INFO - PROGRESS: at 41.97% examples, 83278 words/s, in_qsize 2, out_qsize 0\n",
      "2016-12-14 14:44:08,930 - gensim.models.word2vec - INFO - PROGRESS: at 42.91% examples, 83402 words/s, in_qsize 2, out_qsize 0\n",
      "2016-12-14 14:44:09,965 - gensim.models.word2vec - INFO - PROGRESS: at 43.83% examples, 83549 words/s, in_qsize 2, out_qsize 0\n",
      "2016-12-14 14:44:11,014 - gensim.models.word2vec - INFO - PROGRESS: at 44.75% examples, 83672 words/s, in_qsize 2, out_qsize 0\n",
      "2016-12-14 14:44:12,053 - gensim.models.word2vec - INFO - PROGRESS: at 45.68% examples, 83802 words/s, in_qsize 2, out_qsize 0\n",
      "2016-12-14 14:44:13,091 - gensim.models.word2vec - INFO - PROGRESS: at 46.60% examples, 83931 words/s, in_qsize 2, out_qsize 0\n",
      "2016-12-14 14:44:14,183 - gensim.models.word2vec - INFO - PROGRESS: at 47.53% examples, 83976 words/s, in_qsize 1, out_qsize 0\n",
      "2016-12-14 14:44:15,185 - gensim.models.word2vec - INFO - PROGRESS: at 48.36% examples, 83971 words/s, in_qsize 2, out_qsize 0\n",
      "2016-12-14 14:44:16,224 - gensim.models.word2vec - INFO - PROGRESS: at 49.20% examples, 83915 words/s, in_qsize 1, out_qsize 0\n",
      "2016-12-14 14:44:17,232 - gensim.models.word2vec - INFO - PROGRESS: at 50.03% examples, 83902 words/s, in_qsize 1, out_qsize 0\n",
      "2016-12-14 14:44:18,311 - gensim.models.word2vec - INFO - PROGRESS: at 50.96% examples, 83963 words/s, in_qsize 1, out_qsize 0\n",
      "2016-12-14 14:44:19,326 - gensim.models.word2vec - INFO - PROGRESS: at 51.79% examples, 83940 words/s, in_qsize 1, out_qsize 0\n",
      "2016-12-14 14:44:20,427 - gensim.models.word2vec - INFO - PROGRESS: at 52.73% examples, 83970 words/s, in_qsize 1, out_qsize 0\n",
      "2016-12-14 14:44:21,535 - gensim.models.word2vec - INFO - PROGRESS: at 53.66% examples, 83990 words/s, in_qsize 2, out_qsize 0\n",
      "2016-12-14 14:44:22,546 - gensim.models.word2vec - INFO - PROGRESS: at 54.50% examples, 83974 words/s, in_qsize 2, out_qsize 0\n",
      "2016-12-14 14:44:23,612 - gensim.models.word2vec - INFO - PROGRESS: at 55.43% examples, 84044 words/s, in_qsize 2, out_qsize 0\n",
      "2016-12-14 14:44:24,699 - gensim.models.word2vec - INFO - PROGRESS: at 56.34% examples, 84087 words/s, in_qsize 1, out_qsize 0\n",
      "2016-12-14 14:44:25,791 - gensim.models.word2vec - INFO - PROGRESS: at 57.28% examples, 84123 words/s, in_qsize 2, out_qsize 0\n",
      "2016-12-14 14:44:26,808 - gensim.models.word2vec - INFO - PROGRESS: at 58.11% examples, 84099 words/s, in_qsize 2, out_qsize 0\n",
      "2016-12-14 14:44:27,863 - gensim.models.word2vec - INFO - PROGRESS: at 58.83% examples, 83884 words/s, in_qsize 2, out_qsize 0\n",
      "2016-12-14 14:44:28,946 - gensim.models.word2vec - INFO - PROGRESS: at 59.75% examples, 83930 words/s, in_qsize 2, out_qsize 0\n",
      "2016-12-14 14:44:30,025 - gensim.models.word2vec - INFO - PROGRESS: at 60.66% examples, 83979 words/s, in_qsize 2, out_qsize 0\n",
      "2016-12-14 14:44:31,102 - gensim.models.word2vec - INFO - PROGRESS: at 61.59% examples, 84030 words/s, in_qsize 1, out_qsize 0\n",
      "2016-12-14 14:44:32,192 - gensim.models.word2vec - INFO - PROGRESS: at 62.55% examples, 84067 words/s, in_qsize 1, out_qsize 0\n",
      "2016-12-14 14:44:33,264 - gensim.models.word2vec - INFO - PROGRESS: at 63.46% examples, 84122 words/s, in_qsize 2, out_qsize 0\n",
      "2016-12-14 14:44:34,333 - gensim.models.word2vec - INFO - PROGRESS: at 64.41% examples, 84178 words/s, in_qsize 2, out_qsize 0\n",
      "2016-12-14 14:44:35,421 - gensim.models.word2vec - INFO - PROGRESS: at 65.31% examples, 84210 words/s, in_qsize 2, out_qsize 0\n",
      "2016-12-14 14:44:36,496 - gensim.models.word2vec - INFO - PROGRESS: at 66.25% examples, 84257 words/s, in_qsize 2, out_qsize 0\n",
      "2016-12-14 14:44:37,587 - gensim.models.word2vec - INFO - PROGRESS: at 67.17% examples, 84286 words/s, in_qsize 1, out_qsize 0\n",
      "2016-12-14 14:44:38,632 - gensim.models.word2vec - INFO - PROGRESS: at 68.10% examples, 84361 words/s, in_qsize 1, out_qsize 0\n",
      "2016-12-14 14:44:39,714 - gensim.models.word2vec - INFO - PROGRESS: at 69.04% examples, 84398 words/s, in_qsize 1, out_qsize 0\n",
      "2016-12-14 14:44:40,765 - gensim.models.word2vec - INFO - PROGRESS: at 69.87% examples, 84340 words/s, in_qsize 2, out_qsize 0\n",
      "2016-12-14 14:44:41,833 - gensim.models.word2vec - INFO - PROGRESS: at 70.81% examples, 84390 words/s, in_qsize 2, out_qsize 0\n",
      "2016-12-14 14:44:42,906 - gensim.models.word2vec - INFO - PROGRESS: at 71.74% examples, 84433 words/s, in_qsize 2, out_qsize 0\n",
      "2016-12-14 14:44:44,052 - gensim.models.word2vec - INFO - PROGRESS: at 72.68% examples, 84404 words/s, in_qsize 2, out_qsize 0\n",
      "2016-12-14 14:44:45,078 - gensim.models.word2vec - INFO - PROGRESS: at 73.40% examples, 84253 words/s, in_qsize 2, out_qsize 0\n",
      "2016-12-14 14:44:46,181 - gensim.models.word2vec - INFO - PROGRESS: at 74.34% examples, 84270 words/s, in_qsize 1, out_qsize 0\n",
      "2016-12-14 14:44:47,296 - gensim.models.word2vec - INFO - PROGRESS: at 75.27% examples, 84272 words/s, in_qsize 2, out_qsize 0\n",
      "2016-12-14 14:44:48,364 - gensim.models.word2vec - INFO - PROGRESS: at 76.09% examples, 84205 words/s, in_qsize 2, out_qsize 0\n",
      "2016-12-14 14:44:49,441 - gensim.models.word2vec - INFO - PROGRESS: at 77.02% examples, 84242 words/s, in_qsize 1, out_qsize 0\n",
      "2016-12-14 14:44:50,587 - gensim.models.word2vec - INFO - PROGRESS: at 77.95% examples, 84218 words/s, in_qsize 1, out_qsize 0\n",
      "2016-12-14 14:44:51,690 - gensim.models.word2vec - INFO - PROGRESS: at 78.88% examples, 84233 words/s, in_qsize 2, out_qsize 0\n",
      "2016-12-14 14:44:52,782 - gensim.models.word2vec - INFO - PROGRESS: at 79.80% examples, 84257 words/s, in_qsize 2, out_qsize 0\n",
      "2016-12-14 14:44:53,866 - gensim.models.word2vec - INFO - PROGRESS: at 80.72% examples, 84287 words/s, in_qsize 1, out_qsize 0\n",
      "2016-12-14 14:44:54,954 - gensim.models.word2vec - INFO - PROGRESS: at 81.64% examples, 84312 words/s, in_qsize 1, out_qsize 0\n",
      "2016-12-14 14:44:56,036 - gensim.models.word2vec - INFO - PROGRESS: at 82.60% examples, 84343 words/s, in_qsize 2, out_qsize 0\n",
      "2016-12-14 14:44:57,105 - gensim.models.word2vec - INFO - PROGRESS: at 83.52% examples, 84383 words/s, in_qsize 2, out_qsize 0\n",
      "2016-12-14 14:44:58,179 - gensim.models.word2vec - INFO - PROGRESS: at 84.46% examples, 84420 words/s, in_qsize 2, out_qsize 0\n",
      "2016-12-14 14:44:59,252 - gensim.models.word2vec - INFO - PROGRESS: at 85.36% examples, 84454 words/s, in_qsize 1, out_qsize 0\n",
      "2016-12-14 14:45:00,341 - gensim.models.word2vec - INFO - PROGRESS: at 86.30% examples, 84476 words/s, in_qsize 2, out_qsize 0\n",
      "2016-12-14 14:45:01,449 - gensim.models.word2vec - INFO - PROGRESS: at 87.22% examples, 84482 words/s, in_qsize 2, out_qsize 0\n",
      "2016-12-14 14:45:02,462 - gensim.models.word2vec - INFO - PROGRESS: at 88.05% examples, 84466 words/s, in_qsize 1, out_qsize 0\n",
      "2016-12-14 14:45:03,472 - gensim.models.word2vec - INFO - PROGRESS: at 88.88% examples, 84451 words/s, in_qsize 1, out_qsize 0\n",
      "2016-12-14 14:45:04,535 - gensim.models.word2vec - INFO - PROGRESS: at 89.82% examples, 84493 words/s, in_qsize 1, out_qsize 0\n",
      "2016-12-14 14:45:05,585 - gensim.models.word2vec - INFO - PROGRESS: at 90.75% examples, 84546 words/s, in_qsize 1, out_qsize 0\n",
      "2016-12-14 14:45:06,643 - gensim.models.word2vec - INFO - PROGRESS: at 91.68% examples, 84590 words/s, in_qsize 2, out_qsize 0\n",
      "2016-12-14 14:45:07,727 - gensim.models.word2vec - INFO - PROGRESS: at 92.63% examples, 84613 words/s, in_qsize 1, out_qsize 0\n",
      "2016-12-14 14:45:08,813 - gensim.models.word2vec - INFO - PROGRESS: at 93.56% examples, 84635 words/s, in_qsize 1, out_qsize 0\n",
      "2016-12-14 14:45:09,916 - gensim.models.word2vec - INFO - PROGRESS: at 94.50% examples, 84643 words/s, in_qsize 1, out_qsize 0\n",
      "2016-12-14 14:45:11,024 - gensim.models.word2vec - INFO - PROGRESS: at 95.43% examples, 84647 words/s, in_qsize 2, out_qsize 0\n",
      "2016-12-14 14:45:12,097 - gensim.models.word2vec - INFO - PROGRESS: at 96.34% examples, 84677 words/s, in_qsize 1, out_qsize 0\n",
      "2016-12-14 14:45:13,206 - gensim.models.word2vec - INFO - PROGRESS: at 97.28% examples, 84681 words/s, in_qsize 2, out_qsize 0\n",
      "2016-12-14 14:45:14,307 - gensim.models.word2vec - INFO - PROGRESS: at 98.22% examples, 84690 words/s, in_qsize 2, out_qsize 0\n",
      "2016-12-14 14:45:15,420 - gensim.models.word2vec - INFO - PROGRESS: at 99.14% examples, 84690 words/s, in_qsize 2, out_qsize 0\n",
      "2016-12-14 14:45:16,472 - gensim.models.word2vec - INFO - PROGRESS: at 100.00% examples, 84689 words/s, in_qsize 0, out_qsize 1\n",
      "2016-12-14 14:45:16,473 - gensim.models.word2vec - INFO - worker thread finished; awaiting finish of 0 more threads\n",
      "2016-12-14 14:45:16,473 - gensim.models.word2vec - INFO - training on 9660305 raw words (10133915 effective words) took 119.7s, 84688 effective words/s\n",
      "2016-12-14 14:45:16,474 - gensim.utils - INFO - saving Doc2Vec object under /home/kvassay/data/book-recommender/models_no_dev/doc2vec_model, separately None\n",
      "2016-12-14 14:45:16,476 - gensim.utils - INFO - storing numpy array 'doctag_syn0' to /home/kvassay/data/book-recommender/models_no_dev/doc2vec_model.docvecs.doctag_syn0.npy\n",
      "2016-12-14 14:45:16,675 - gensim.utils - INFO - storing numpy array 'syn1neg' to /home/kvassay/data/book-recommender/models_no_dev/doc2vec_model.syn1neg.npy\n",
      "2016-12-14 14:45:19,463 - gensim.utils - INFO - not storing attribute syn0norm\n",
      "2016-12-14 14:45:19,464 - gensim.utils - INFO - not storing attribute cum_table\n",
      "2016-12-14 14:45:19,465 - gensim.utils - INFO - storing numpy array 'syn0' to /home/kvassay/data/book-recommender/models_no_dev/doc2vec_model.syn0.npy\n",
      "2016-12-14 14:45:22,598 - gensim.utils - INFO - storing numpy array 'syn1' to /home/kvassay/data/book-recommender/models_no_dev/doc2vec_model.syn1.npy\n",
      "2016-12-14 14:45:38,875 - root - INFO - Training model took 142.066795111 seconds...\n"
     ]
    },
    {
     "data": {
      "text/plain": [
       "<gensim.models.doc2vec.Doc2Vec at 0x7fe5d99ebb50>"
      ]
     },
     "execution_count": 30,
     "metadata": {},
     "output_type": "execute_result"
    }
   ],
   "source": [
    "logger.setLevel(logging.INFO)\n",
    "train(persist=True, decrease_alpha=False)"
   ]
  },
  {
   "cell_type": "markdown",
   "metadata": {},
   "source": [
    "### Doc2Vec model evaluation"
   ]
  },
  {
   "cell_type": "code",
   "execution_count": 36,
   "metadata": {
    "collapsed": false,
    "scrolled": false
   },
   "outputs": [
    {
     "name": "stderr",
     "output_type": "stream",
     "text": [
      "2016-12-14 15:28:11,714 - root - INFO - Couting 100 most frequent items for BaselineModel...\n",
      "2016-12-14 15:28:15,740 - root - INFO - BaselineModel initialized...\n",
      "2016-12-14 15:28:15,779 - root - INFO - Computing scores...\n",
      "2016-12-14 15:28:15,780 - root - INFO - Loading model...\n",
      "2016-12-14 15:28:25,798 - root - INFO - Model loading took 10.0164821148 seconds...\n",
      "2016-12-14 15:28:25,806 - root - INFO - Computing score for banner count 1...\n",
      "2016-12-14 15:29:10,127 - root - INFO - Computing score took 44.3190608025 seconds...\n",
      "2016-12-14 15:29:10,130 - root - INFO - Score on test set for banner count 1 = 0.4 %...\n",
      "2016-12-14 15:29:10,132 - root - INFO - Computing score for banner count 2...\n",
      "2016-12-14 15:29:56,933 - root - INFO - Computing score took 46.8004169464 seconds...\n",
      "2016-12-14 15:29:56,944 - root - INFO - Score on test set for banner count 2 = 0.45 %...\n",
      "2016-12-14 15:29:56,945 - root - INFO - Computing score for banner count 3...\n",
      "2016-12-14 15:30:39,968 - root - INFO - Computing score took 43.0216670036 seconds...\n",
      "2016-12-14 15:30:39,969 - root - INFO - Score on test set for banner count 3 = 0.466666666667 %...\n",
      "2016-12-14 15:30:39,970 - root - INFO - Computing score for banner count 4...\n",
      "2016-12-14 15:31:19,491 - root - INFO - Computing score took 39.5200479031 seconds...\n",
      "2016-12-14 15:31:19,513 - root - INFO - Score on test set for banner count 4 = 0.425 %...\n",
      "2016-12-14 15:31:19,515 - root - INFO - Computing score for banner count 5...\n",
      "2016-12-14 15:31:51,713 - root - INFO - Computing score took 32.19622612 seconds...\n",
      "2016-12-14 15:31:51,714 - root - INFO - Score on test set for banner count 5 = 0.46 %...\n",
      "2016-12-14 15:31:51,716 - root - INFO - Computing score for banner count 6...\n",
      "2016-12-14 15:32:24,286 - root - INFO - Computing score took 32.5676598549 seconds...\n",
      "2016-12-14 15:32:24,299 - root - INFO - Score on test set for banner count 6 = 0.433333333333 %...\n",
      "2016-12-14 15:32:24,301 - root - INFO - Computing score for banner count 7...\n",
      "2016-12-14 15:32:56,574 - root - INFO - Computing score took 32.2704119682 seconds...\n",
      "2016-12-14 15:32:56,575 - root - INFO - Score on test set for banner count 7 = 0.414285714286 %...\n",
      "2016-12-14 15:32:56,575 - root - INFO - Computing score for banner count 8...\n",
      "2016-12-14 15:33:34,697 - root - INFO - Computing score took 38.1202471256 seconds...\n",
      "2016-12-14 15:33:34,698 - root - INFO - Score on test set for banner count 8 = 0.3875 %...\n",
      "2016-12-14 15:33:34,699 - root - INFO - Computing score for banner count 9...\n",
      "2016-12-14 15:34:17,219 - root - INFO - Computing score took 42.5188798904 seconds...\n",
      "2016-12-14 15:34:17,230 - root - INFO - Score on test set for banner count 9 = 0.344444444444 %...\n"
     ]
    }
   ],
   "source": [
    "logger.setLevel(logging.INFO)\n",
    "baseline_model=BaselineModel(user_item_train)\n",
    "model_path=MODELS_FOLDER+'doc2vec_model'\n",
    "logger.info('Computing scores...')\n",
    "scores_test=list()\n",
    "scores_baseline_test=list()\n",
    "logger.info('Loading model...')\n",
    "start=time.time()\n",
    "logger.setLevel(logging.ERROR)\n",
    "model=Doc2Vec.load(model_path)\n",
    "dur=time.time()-start\n",
    "logger.setLevel(logging.INFO)\n",
    "logger.info('Model loading took %s seconds...', dur)\n",
    "for i in range(1,11,1):\n",
    "    start=time.time()\n",
    "    logger.info('Computing score for banner count %s...',i)\n",
    "    logger.setLevel(logging.ERROR)\n",
    "    start=time.time()\n",
    "    baseline_score=evaluate_score(baseline_model, user_item_train, user_item_test, topn=i)\n",
    "    score_test=evaluate_score(model, user_item_train, user_item_test,topn=i)\n",
    "    dur=time.time()-start\n",
    "    logger.setLevel(logging.INFO)\n",
    "    logger.info('Computing score took %s seconds...', dur)\n",
    "    logger.info('Score on test set for banner count %s = %s %%...', i, score_test)\n",
    "    scores_test.append(score_test)\n",
    "    scores_baseline_test.append(baseline_score)\n",
    "    "
   ]
  },
  {
   "cell_type": "code",
   "execution_count": 46,
   "metadata": {
    "collapsed": false
   },
   "outputs": [
    {
     "data": {
      "text/plain": [
       "<matplotlib.text.Text at 0x7fe4c5211210>"
      ]
     },
     "execution_count": 46,
     "metadata": {},
     "output_type": "execute_result"
    },
    {
     "data": {
      "image/png": "[encoded data removed]",
      "text/plain": [
       "<matplotlib.figure.Figure at 0x7fe4bd2a0c10>"
      ]
     },
     "metadata": {},
     "output_type": "display_data"
    }
   ],
   "source": [
    "df=pd.DataFrame.from_dict({'Item 2 Vec % correct' : scores_test,\n",
    "                           'Top freq % correct':scores_baseline_test})\n",
    "df.plot(figsize=(10,6))\n",
    "plt.title('Item2Vec vs Top freq Recommender')\n",
    "plt.xlabel('count recommendations')\n",
    "plt.ylabel('% correct')"
   ]
  },
  {
   "cell_type": "code",
   "execution_count": 48,
   "metadata": {
    "collapsed": false
   },
   "outputs": [
    {
     "data": {
      "text/plain": [
       "<matplotlib.text.Text at 0x7fe4bee5b2d0>"
      ]
     },
     "execution_count": 48,
     "metadata": {},
     "output_type": "execute_result"
    },
    {
     "data": {
      "image/png": "[encoded data removed]",
      "text/plain": [
       "<matplotlib.figure.Figure at 0x7fe535af6610>"
      ]
     },
     "metadata": {},
     "output_type": "display_data"
    }
   ],
   "source": [
    "df['test_improvement']=df['Item 2 Vec % correct']-df['Top freq % correct']\n",
    "df_diffs=df.reindex_axis(['test_improvement'], axis=1)\n",
    "df_diffs.plot(figsize=(10,6))\n",
    "plt.title('Item2Vec model score vs Baseline recommender improvement')\n",
    "plt.xlabel('count recommendations')\n",
    "plt.ylabel('% correct')"
   ]
  },
  {
   "cell_type": "code",
   "execution_count": null,
   "metadata": {
    "collapsed": true
   },
   "outputs": [],
   "source": []
  },
  {
   "cell_type": "code",
   "execution_count": null,
   "metadata": {
    "collapsed": true
   },
   "outputs": [],
   "source": []
  },
  {
   "cell_type": "code",
   "execution_count": null,
   "metadata": {
    "collapsed": true
   },
   "outputs": [],
   "source": []
  },
  {
   "cell_type": "code",
   "execution_count": null,
   "metadata": {
    "collapsed": true
   },
   "outputs": [],
   "source": []
  },
  {
   "cell_type": "code",
   "execution_count": null,
   "metadata": {
    "collapsed": true
   },
   "outputs": [],
   "source": []
  },
  {
   "cell_type": "code",
   "execution_count": null,
   "metadata": {
    "collapsed": true
   },
   "outputs": [],
   "source": []
  },
  {
   "cell_type": "code",
   "execution_count": null,
   "metadata": {
    "collapsed": true
   },
   "outputs": [],
   "source": []
  },
  {
   "cell_type": "code",
   "execution_count": null,
   "metadata": {
    "collapsed": true
   },
   "outputs": [],
   "source": []
  },
  {
   "cell_type": "code",
   "execution_count": null,
   "metadata": {
    "collapsed": true
   },
   "outputs": [],
   "source": []
  },
  {
   "cell_type": "code",
   "execution_count": null,
   "metadata": {
    "collapsed": true
   },
   "outputs": [],
   "source": []
  },
  {
   "cell_type": "code",
   "execution_count": null,
   "metadata": {
    "collapsed": true
   },
   "outputs": [],
   "source": []
  },
  {
   "cell_type": "code",
   "execution_count": null,
   "metadata": {
    "collapsed": true
   },
   "outputs": [],
   "source": []
  },
  {
   "cell_type": "code",
   "execution_count": null,
   "metadata": {
    "collapsed": true
   },
   "outputs": [],
   "source": []
  },
  {
   "cell_type": "code",
   "execution_count": null,
   "metadata": {
    "collapsed": true
   },
   "outputs": [],
   "source": []
  },
  {
   "cell_type": "code",
   "execution_count": null,
   "metadata": {
    "collapsed": true
   },
   "outputs": [],
   "source": []
  }
 ],
 "metadata": {
  "kernelspec": {
   "display_name": "Python 2",
   "language": "python",
   "name": "python2"
  },
  "language_info": {
   "codemirror_mode": {
    "name": "ipython",
    "version": 2
   },
   "file_extension": ".py",
   "mimetype": "text/x-python",
   "name": "python",
   "nbconvert_exporter": "python",
   "pygments_lexer": "ipython2",
   "version": "2.7.12"
  }
 },
 "nbformat": 4,
 "nbformat_minor": 0
}
